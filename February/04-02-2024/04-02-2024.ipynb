{
 "cells": [
  {
   "cell_type": "code",
   "execution_count": null,
   "id": "8db6d560",
   "metadata": {},
   "outputs": [],
   "source": [
    "class Dog:\n",
    "    def __init__(self,name,age):\n",
    "        self.name=name\n",
    "        self.age=age\n",
    "        \n",
    "    def talk(self):\n",
    "        print(f\"Hello! I am {self.name}, and my age is {self.age}\")\n",
    "        \n",
    "    def speak(self):\n",
    "        print(\"Bark!\")\n",
    "        \n",
    "class Cat(Dog):\n",
    "    def __init__(self,name,age,)"
   ]
  },
  {
   "cell_type": "code",
   "execution_count": 18,
   "id": "7ce3441e",
   "metadata": {},
   "outputs": [
    {
     "name": "stdout",
     "output_type": "stream",
     "text": [
      "494 Followers, 427 Following, 13 Posts - See Instagram photos and videos from Kus❤️ (@kushagra_raj_singh_)\n"
     ]
    }
   ],
   "source": [
    "from bs4 import BeautifulSoup\n",
    "import requests\n",
    "\n",
    "url=\"https://www.instagram.com/kushagra_raj_singh_/\"\n",
    "request=requests.get(url).text\n",
    "soup=BeautifulSoup(request,\"html.parser\")\n",
    "# print(soup.prettify())\n",
    "tag=soup.find(\"meta\",property=\"og:description\")[\"content\"]\n",
    "print(tag)"
   ]
  },
  {
   "cell_type": "code",
   "execution_count": null,
   "id": "e48d7ee2",
   "metadata": {},
   "outputs": [],
   "source": []
  }
 ],
 "metadata": {
  "kernelspec": {
   "display_name": "Python 3 (ipykernel)",
   "language": "python",
   "name": "python3"
  },
  "language_info": {
   "codemirror_mode": {
    "name": "ipython",
    "version": 3
   },
   "file_extension": ".py",
   "mimetype": "text/x-python",
   "name": "python",
   "nbconvert_exporter": "python",
   "pygments_lexer": "ipython3",
   "version": "3.11.5"
  }
 },
 "nbformat": 4,
 "nbformat_minor": 5
}
