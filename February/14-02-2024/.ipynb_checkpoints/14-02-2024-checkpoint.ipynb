{
 "cells": [
  {
   "cell_type": "markdown",
   "id": "9767bf41",
   "metadata": {},
   "source": [
    "# Assignment..."
   ]
  },
  {
   "cell_type": "markdown",
   "id": "1dc094ca",
   "metadata": {},
   "source": [
    "#### Problem 1\n",
    "Write a NumPy program to test whether each element of a 1-D array is also present in a second array.\n",
    "Expected Output:\n",
    "Array1: [ 0 10 20 40 60]\n",
    "Array2: [0, 40]\n",
    "Compare each element of array1 and array2\n",
    "Output: [ True False False True False]"
   ]
  },
  {
   "cell_type": "code",
   "execution_count": 15,
   "id": "69e0eab4",
   "metadata": {},
   "outputs": [
    {
     "name": "stdout",
     "output_type": "stream",
     "text": [
      "Enter elements (space-separated): 0 10 20 40 60\n",
      "Enter elements (space-separated): 0 40\n",
      "[ True False False  True False]\n"
     ]
    }
   ],
   "source": [
    "import numpy as np\n",
    "\n",
    "def create_array():\n",
    "    elements = input(\"Enter elements (space-separated): \").split()\n",
    "    array = []\n",
    "    for element in elements:\n",
    "        array.append(int(element))\n",
    "    return array\n",
    "\n",
    "array1=create_array()\n",
    "# array1\n",
    "array2=create_array()\n",
    "# array2\n",
    "print(np.in1d(array1, array2))"
   ]
  },
  {
   "cell_type": "markdown",
   "id": "fd326b01",
   "metadata": {},
   "source": [
    "#### Problem 2\n",
    "Write a NumPy program to get the unique elements of an array\n",
    "Expected Output:\n",
    "Original array:\n",
    "[10 10 20 20 30 30]\n",
    "Unique elements of the above array:\n",
    "[10 20 30]\n",
    "Original array:\n",
    "[[1 1]\n",
    "[2 3]]\n",
    "Unique elements of the above array:\n",
    "[1 2 3]"
   ]
  },
  {
   "cell_type": "code",
   "execution_count": 22,
   "id": "4a3c09c4",
   "metadata": {},
   "outputs": [
    {
     "name": "stdout",
     "output_type": "stream",
     "text": [
      "Enter elements space separated: 1 2 3 5 1 2 3\n",
      "[1 2 3 5]\n",
      "[1 2 3]\n"
     ]
    }
   ],
   "source": [
    "def create_array():\n",
    "    elements = input(\"Enter elements space separated: \").split()\n",
    "    array = []\n",
    "    for element in elements:\n",
    "        array.append(int(element))\n",
    "    return array\n",
    "\n",
    "array1=create_array()\n",
    "print(np.unique(array1))\n",
    "\n",
    "array2=[[1, 1], \n",
    "        [2, 3]]\n",
    "print(np.unique(array2))"
   ]
  },
  {
   "cell_type": "markdown",
   "id": "6d2d225b",
   "metadata": {},
   "source": [
    "#### Problem 3\n",
    "Write a NumPy program to sort an along the first, last axis of an array.\n",
    "Sample array: [[2,5],[4,4]]\n",
    "Expected Output:\n",
    "Original array:\n",
    "[[4 6]\n",
    "[2 1]]\n",
    "Sort along the first axis:\n",
    "[[2 1]\n",
    "[4 6]]\n",
    "Sort along the last axis:\n",
    "[[1 2]\n",
    "[4 6]]"
   ]
  },
  {
   "cell_type": "code",
   "execution_count": 37,
   "id": "f8d7e3eb",
   "metadata": {},
   "outputs": [
    {
     "name": "stdout",
     "output_type": "stream",
     "text": [
      "Enter the number of rows: 3\n",
      "Enter the number of columns: 4\n",
      "Enter elements space separated: 9 8 7 6\n",
      "Enter elements space separated: 5 6 2 1\n",
      "Enter elements space separated: 3 2 1 4\n",
      "[[9, 8, 7, 6], [5, 6, 2, 1], [3, 2, 1, 4]]\n",
      "\n",
      "Sorting along first axis \n",
      "[[3 2 1 1]\n",
      " [5 6 2 4]\n",
      " [9 8 7 6]]\n",
      "\n",
      "Sorting along last axis \n",
      "[[1 1 2 3]\n",
      " [2 4 5 6]\n",
      " [6 7 8 9]]\n"
     ]
    }
   ],
   "source": [
    "def create_2d_array():\n",
    "    rows = int(input(\"Enter the number of rows: \"))\n",
    "    cols = int(input(\"Enter the number of columns: \"))\n",
    "    array_2d = []\n",
    "    for i in range(rows):\n",
    "        row = input(f\"Enter elements space separated: \").split()\n",
    "        array_2d.append([int(element) for element in row])\n",
    "    return array_2d\n",
    "\n",
    "array1=create_2d_array()\n",
    "print(array1)\n",
    "\n",
    "x=np.sort(array1,axis=0)\n",
    "print(f\"\\nSorting along first axis \\n{x}\")\n",
    "\n",
    "y=np.sort(x)    #by default axis=-1\n",
    "# y=np.sort(x,axis=-1)   \n",
    "print(f\"\\nSorting along last axis \\n{y}\")"
   ]
  },
  {
   "cell_type": "markdown",
   "id": "491586cb",
   "metadata": {},
   "source": [
    "#### Problem 4\n",
    "Write a NumPy program to count the occurrence of a specified item in a given NumPy array.\n",
    "Sample Output:\n",
    "Original array:\n",
    "[10 20 20 20 20 0 20 30 30 30 0 0 20 20 0]\n",
    "[4,1,7,3]"
   ]
  },
  {
   "cell_type": "code",
   "execution_count": 53,
   "id": "34c6de19",
   "metadata": {},
   "outputs": [
    {
     "name": "stdout",
     "output_type": "stream",
     "text": [
      "Enter elements space separated: 10 20 20 20 20 0 20 30 30 30 0 0 20 20 0\n",
      "[4 1 7 3]\n"
     ]
    }
   ],
   "source": [
    "def create_array():\n",
    "    elements = input(\"Enter elements space separated: \").split()\n",
    "    array = []\n",
    "    for element in elements:\n",
    "        array.append(int(element))\n",
    "    return array\n",
    "\n",
    "array1=create_array()\n",
    "# print(np.unique(array1,return_counts=True))\n",
    "unique,count=np.unique(array1,return_counts=True)\n",
    "print(count)"
   ]
  },
  {
   "cell_type": "markdown",
   "id": "f52d8356",
   "metadata": {},
   "source": [
    "#### Problem 5\n",
    "Write a NumPy program to remove nan values from a given array.\n",
    "Sample Output:\n",
    "Original array:\n",
    "[200. 300. nan nan nan 700.]\n",
    "After removing nan values:\n",
    "[200. 300. 700.]"
   ]
  },
  {
   "cell_type": "code",
   "execution_count": 68,
   "id": "dc77c803",
   "metadata": {},
   "outputs": [
    {
     "name": "stdout",
     "output_type": "stream",
     "text": [
      "[200. 300. 700.]\n"
     ]
    }
   ],
   "source": [
    "x=[200, 300, np.nan, np.nan, np.nan, 700]\n",
    "x = np.array(x)\n",
    "x = x[~np.isnan(x)]\n",
    "print(x)"
   ]
  },
  {
   "cell_type": "markdown",
   "id": "7b90dc1a",
   "metadata": {},
   "source": [
    "#### Problem 6\n",
    "Write a NumPy program to calculate percentiles for a sequence or single-dimensional NumPy array.\n",
    "Sample Output:\n",
    "50th percentile (median):\n",
    "3.0\n",
    "40th percentile:\n",
    "2.6\n",
    "90th percentile:\n",
    "4.6"
   ]
  },
  {
   "cell_type": "code",
   "execution_count": 73,
   "id": "e44c5c19",
   "metadata": {},
   "outputs": [
    {
     "name": "stdout",
     "output_type": "stream",
     "text": [
      "50th percentile is 67.0\n",
      "40th percentile is 55.60000000000001\n",
      "90th percentile is 99.9\n"
     ]
    }
   ],
   "source": [
    "a1=np.array([10,50,70,90,6,30,120,100,99,75,64,3])\n",
    "\n",
    "print(f\"50th percentile is {np.percentile(a1,50)}\")\n",
    "\n",
    "print(f\"40th percentile is {np.percentile(a1,40)}\")\n",
    "\n",
    "print(f\"90th percentile is {np.percentile(a1,90)}\")"
   ]
  },
  {
   "cell_type": "markdown",
   "id": "ce5973e5",
   "metadata": {},
   "source": [
    "#### Problem 7\n",
    "Write a NumPy program to find indices of elements equal to zero in a NumPy array.\n",
    "Sample Output:\n",
    "Original array:\n",
    "[1 0 2 0 3 0 4 5 6 7 8]\n",
    "Indices of elements equal to zero of the said array:\n",
    "[1 3 5]"
   ]
  },
  {
   "cell_type": "code",
   "execution_count": 79,
   "id": "3553eb75",
   "metadata": {},
   "outputs": [
    {
     "name": "stdout",
     "output_type": "stream",
     "text": [
      "[1 0 2 0 3 0 4 5 6 7 8]\n",
      "[1 3 5]\n"
     ]
    }
   ],
   "source": [
    "a1=np.array([1, 0, 2, 0, 3, 0, 4, 5, 6, 7, 8])\n",
    "print(a1)\n",
    "print(np.where(a1==0)[0])"
   ]
  },
  {
   "cell_type": "markdown",
   "id": "18aef197",
   "metadata": {},
   "source": [
    "#### Problem 8\n",
    "Write a NumPy program to round elements of the array to the nearest integer, and then calculate the abslute value element wise.\n",
    "Sample Output:\n",
    "Original array:\n",
    "[-0.7 -1.5 -1.7 0.3 1.5 1.8 2. ]\n",
    "Round elements of the array to the nearest integer:\n",
    "[1. 2. 2. 0. 2. 2. 2.]"
   ]
  },
  {
   "cell_type": "code",
   "execution_count": 77,
   "id": "b1b90b49",
   "metadata": {},
   "outputs": [
    {
     "name": "stdout",
     "output_type": "stream",
     "text": [
      "Enter elements space separated: -0.7 -1.5 -1.7 0.3 1.5 1.8 2.\n",
      "[1. 2. 2. 0. 2. 2. 2.]\n"
     ]
    }
   ],
   "source": [
    "def create_array():\n",
    "    elements = input(\"Enter elements space separated: \").split()\n",
    "    array = []\n",
    "    for element in elements:\n",
    "        array.append(float(element))\n",
    "    return array\n",
    "\n",
    "array1=create_array()\n",
    "print(np.round(np.absolute(array1)))"
   ]
  },
  {
   "cell_type": "markdown",
   "id": "68289630",
   "metadata": {},
   "source": [
    "#### Problem 9\n",
    "Write a NumPy program to calculate the difference between neighboring elements, element-wise, and prepend [0, 0] and append[200] to a given array.\n",
    "Sample output:\n",
    "Original array:\n",
    "[1 3 5 7 0]\n",
    "Difference between neighboring elements, element-wise, and prepend [0, 0] and append[200] to the said array:\n",
    "[ 0 0 2 2 2 -7 200]"
   ]
  },
  {
   "cell_type": "code",
   "execution_count": 100,
   "id": "4f4f7a21",
   "metadata": {},
   "outputs": [
    {
     "name": "stdout",
     "output_type": "stream",
     "text": [
      "[  0   0   2   2   2  -7 200]\n"
     ]
    }
   ],
   "source": [
    "arr=np.array([1,3,5,7,0])\n",
    "arr=np.diff(arr)\n",
    "\n",
    "a=np.insert(arr,0,[0,0])\n",
    "a=np.append(a,200)\n",
    "print(a)\n",
    "\n",
    "\n",
    "# def create_array():\n",
    "#     elements = input(\"Enter elements space separated: \").split()\n",
    "#     array = []\n",
    "#     for element in elements:\n",
    "#         array.append(int(element))\n",
    "#     return array\n",
    "\n",
    "# array1=create_array()\n",
    "# a=np.array([])\n",
    "# a=np.append(a,[0,0])\n",
    "# for i in range(len(array1)-1):\n",
    "#     diff=array1[i+1]-array1[i]\n",
    "#     a=np.append(a,diff)\n",
    "    \n",
    "# a=np.append(a,200)\n",
    "# print(a)\n"
   ]
  },
  {
   "cell_type": "markdown",
   "id": "8027bd4e",
   "metadata": {},
   "source": [
    "#### Problem 10\n",
    "Write a NumPy program to get the indices of the sorted elements of a given array.\n",
    "Expected Output:\n",
    "Original array:\n",
    "[1023 5202 6230 1671 1682 5241 4532]\n",
    "Indices of the sorted elements of a given array:\n",
    "[0 3 4 6 1 5 2]"
   ]
  },
  {
   "cell_type": "code",
   "execution_count": 108,
   "id": "443f580e",
   "metadata": {},
   "outputs": [
    {
     "name": "stdout",
     "output_type": "stream",
     "text": [
      "[0 3 4 6 1 5 2]\n"
     ]
    }
   ],
   "source": [
    "arr=np.array([1023, 5202, 6230, 1671, 1682, 5241, 4532])\n",
    "print(np.argsort(arr))\n",
    "# print(a)"
   ]
  },
  {
   "cell_type": "markdown",
   "id": "5512f920",
   "metadata": {},
   "source": [
    "#### Problem 11\n",
    "Write a NumPy program to partition a given array in a specified position and move all the smaller elements values to the left of the partition, and the remaining values to the right, in arbitrary order (based on random choice).\n",
    "Sample output:\n",
    "Original array:\n",
    "[ 70 50 20 30 -11 60 50 40]\n",
    "After partitioning on 4 the position:\n",
    "[-11 30 20 40 50 50 60 70]"
   ]
  },
  {
   "cell_type": "code",
   "execution_count": 110,
   "id": "3a170b55",
   "metadata": {},
   "outputs": [
    {
     "data": {
      "text/plain": [
       "array([-11,  30,  20,  40,  50,  50,  60,  70])"
      ]
     },
     "execution_count": 110,
     "metadata": {},
     "output_type": "execute_result"
    }
   ],
   "source": [
    "arr=np.array([70, 50, 20, 30, -11, 60, 50, 40])\n",
    "np.partition(arr,4)"
   ]
  },
  {
   "cell_type": "markdown",
   "id": "97be9cfd",
   "metadata": {},
   "source": [
    "#### Problem 12\n",
    "Compute the euclidean distance between two arrays a and b.\n",
    "Input:\n",
    "[1,2,3,4,5]\n",
    "[4,5,6,7,8]\n",
    "Euclidean distance is: 6.7082"
   ]
  },
  {
   "cell_type": "code",
   "execution_count": 123,
   "id": "35d187c5",
   "metadata": {},
   "outputs": [
    {
     "data": {
      "text/plain": [
       "6.708203932499369"
      ]
     },
     "execution_count": 123,
     "metadata": {},
     "output_type": "execute_result"
    }
   ],
   "source": [
    "arr1=np.array([1,2,3,4,5])\n",
    "arr2=np.array([4,5,6,7,8])\n",
    "np.sqrt(np.sum(np.square(arr1-arr2)))\n",
    "\n",
    "# arr1=np.array([1,2,3,4,5])\n",
    "# arr2=np.array([4,5,6,7,8])\n",
    "# print(np.linalg.norm(arr1-arr2))"
   ]
  },
  {
   "cell_type": "markdown",
   "id": "307f9b52",
   "metadata": {},
   "source": [
    "#### Problem 13\n",
    "Find all the peaks in a 1D numpy array a. Peaks are points surrounded by smaller values on both sides.\n",
    "Input:\n",
    "array([1, 3, 7, 1, 2, 6, 0, 1])\n",
    "Desired Output:\n",
    "array( [2, 5])\n",
    "where, 2 and 5 are the positions of peak values 7 and 6."
   ]
  },
  {
   "cell_type": "code",
   "execution_count": 124,
   "id": "eb92fd9e",
   "metadata": {
    "scrolled": true
   },
   "outputs": [
    {
     "name": "stdout",
     "output_type": "stream",
     "text": [
      "[2, 5]\n"
     ]
    }
   ],
   "source": [
    "arr=np.array([1, 3, 7, 1, 2, 6, 0, 1])\n",
    "li = []\n",
    "for i in range(len(arr)-1):\n",
    "    if(arr[i]>arr[i+1] and arr[i]>arr[i-1]):\n",
    "        li.append(i)\n",
    "        \n",
    "print(li)"
   ]
  },
  {
   "cell_type": "markdown",
   "id": "0545f4be",
   "metadata": {},
   "source": [
    "#### Problem 14\n",
    "Find the index of nth repetition of number i .\n",
    "Inputs\n",
    "array([1, 2, 1, 1, 3, 4, 3, 1, 1, 2, 1, 1, 2])\n",
    "n = 5 (from user)\n",
    "i = 1 (from user)\n",
    "Output\n",
    "8\n",
    "\n",
    "\n",
    "\n"
   ]
  },
  {
   "cell_type": "code",
   "execution_count": 128,
   "id": "f82525eb",
   "metadata": {},
   "outputs": [
    {
     "name": "stdout",
     "output_type": "stream",
     "text": [
      "Enter the value of n : 5\n",
      "Enter the value of i : 1\n",
      "8\n"
     ]
    }
   ],
   "source": [
    "a = np.array([1, 2, 1, 1, 3, 4, 3, 1, 1, 2, 1, 1, 2])\n",
    "n = int(input(\"Enter the value of n : \"))\n",
    "i = int(input(\"Enter the value of i : \"))\n",
    "\n",
    "print(np.where(a==i)[0][n-1])"
   ]
  },
  {
   "cell_type": "code",
   "execution_count": null,
   "id": "c77687d8",
   "metadata": {},
   "outputs": [],
   "source": []
  }
 ],
 "metadata": {
  "kernelspec": {
   "display_name": "Python 3 (ipykernel)",
   "language": "python",
   "name": "python3"
  },
  "language_info": {
   "codemirror_mode": {
    "name": "ipython",
    "version": 3
   },
   "file_extension": ".py",
   "mimetype": "text/x-python",
   "name": "python",
   "nbconvert_exporter": "python",
   "pygments_lexer": "ipython3",
   "version": "3.11.5"
  }
 },
 "nbformat": 4,
 "nbformat_minor": 5
}
