{
 "cells": [
  {
   "cell_type": "markdown",
   "id": "8bb592db",
   "metadata": {},
   "source": [
    "# Exception Handling Assignment..."
   ]
  },
  {
   "cell_type": "markdown",
   "id": "63237b8e",
   "metadata": {},
   "source": [
    "#### 1.Write a Python function that takes two parameters, numerator and denominator, and returns the result of the division. However, handle the case where the denominator is zero by using a try-except block. In the except block, print an error message and return None"
   ]
  },
  {
   "cell_type": "code",
   "execution_count": 38,
   "id": "ec9b5f10",
   "metadata": {},
   "outputs": [
    {
     "name": "stdout",
     "output_type": "stream",
     "text": [
      "Enter numerator value: 12\n",
      "Enter denominator value: 0\n",
      "Denominator value can not be zero.\n",
      "None\n"
     ]
    }
   ],
   "source": [
    "def division(numerator,denominator):\n",
    "    try:\n",
    "        return numerator/denominator\n",
    "    except :\n",
    "        print(\"Denominator value can not be zero.\")\n",
    "    else:\n",
    "        print(\"Enter values again.\")\n",
    "        numerator=int(input(\"Enter numerator value: \"))\n",
    "        denominator=int(input(\"Enter denominator value: \"))\n",
    "        return division(numerator,denominator)\n",
    "#     finally:\n",
    "#         print(\"Division done Successfully!\")\n",
    "\n",
    "numerator=int(input(\"Enter numerator value: \"))\n",
    "denominator=int(input(\"Enter denominator value: \"))\n",
    "print(division(numerator,denominator))"
   ]
  },
  {
   "cell_type": "markdown",
   "id": "fa11d9f0",
   "metadata": {},
   "source": [
    "#### 2.Create a function that reads the content of a file. Use a try-except block to handle the case where the file does not exist. In the except block, print an error message and return an empty string.\n"
   ]
  },
  {
   "cell_type": "code",
   "execution_count": 36,
   "id": "aaaacb59",
   "metadata": {},
   "outputs": [
    {
     "name": "stdout",
     "output_type": "stream",
     "text": [
      "Hi! I am Kushagra.\n"
     ]
    }
   ],
   "source": [
    "def read_file(file_path):\n",
    "    try:\n",
    "        with open(file_path,\"r\") as file:\n",
    "            data=file.read()\n",
    "    except:\n",
    "        print(\"File not found!\")\n",
    "        return \"\"\n",
    "    else:\n",
    "        return data\n",
    "        \n",
    "# with open(\"text1.txt\",\"w\") as file:   #creating file named text1.txt\n",
    "#     content=\"Hi! I am Kushagra.\"\n",
    "#     file.write(content)\n",
    "\n",
    "\n",
    "file_path=\"text1.txt\"\n",
    "print(read_file(file_path))"
   ]
  },
  {
   "cell_type": "markdown",
   "id": "e1aaaf5d",
   "metadata": {},
   "source": [
    "#### 3.Define a custom exception class called InvalidInputError. Write a function that takes user input (an integer) and raises this custom exception if the input is not a positive integer. Use a try-except block to catch this custom exception and print an error message.\n"
   ]
  },
  {
   "cell_type": "code",
   "execution_count": 32,
   "id": "50941ade",
   "metadata": {},
   "outputs": [
    {
     "name": "stdout",
     "output_type": "stream",
     "text": [
      "Enter an Integer.-9\n",
      "Enter a positive number.\n"
     ]
    }
   ],
   "source": [
    "class InvalidInputError(Exception):\n",
    "    pass\n",
    "    \n",
    "try:\n",
    "    n=int(input(\"Enter an Integer.\"))\n",
    "    if(n<0):\n",
    "        raise InvalidInputError\n",
    "except InvalidInputError:\n",
    "        print(\"Enter a positive number.\")\n",
    "else:\n",
    "        print(n)"
   ]
  },
  {
   "cell_type": "markdown",
   "id": "fefab87c",
   "metadata": {},
   "source": [
    "#### 4.Create a function that validates a user's password. The password must satisfy the following conditions:\n",
    "\n",
    "At least 8 characters long\n",
    "Contains at least one uppercase letter\n",
    "Contains at least one digit"
   ]
  },
  {
   "cell_type": "code",
   "execution_count": null,
   "id": "40bcbe4f",
   "metadata": {},
   "outputs": [],
   "source": []
  },
  {
   "cell_type": "markdown",
   "id": "18eda156",
   "metadata": {},
   "source": [
    "#### 5.URL Parsing\n",
    "Create a function that parses a URL and extracts the protocol (http or https), domain, and path. Define a custom exception InvalidURLError and raise it if the URL does not start with \"http://\" or \"https://\".\n"
   ]
  },
  {
   "cell_type": "code",
   "execution_count": null,
   "id": "39f14745",
   "metadata": {},
   "outputs": [],
   "source": []
  },
  {
   "cell_type": "markdown",
   "id": "d67aa31e",
   "metadata": {},
   "source": [
    "#### 6.Custom Assertion\n",
    "Write a function that accepts a number as input and uses a custom exception AssertionError to raise an error if the number is negative. Use an assert statement to check this condition."
   ]
  },
  {
   "cell_type": "code",
   "execution_count": null,
   "id": "e16036bc",
   "metadata": {},
   "outputs": [],
   "source": []
  }
 ],
 "metadata": {
  "kernelspec": {
   "display_name": "Python 3 (ipykernel)",
   "language": "python",
   "name": "python3"
  },
  "language_info": {
   "codemirror_mode": {
    "name": "ipython",
    "version": 3
   },
   "file_extension": ".py",
   "mimetype": "text/x-python",
   "name": "python",
   "nbconvert_exporter": "python",
   "pygments_lexer": "ipython3",
   "version": "3.11.5"
  }
 },
 "nbformat": 4,
 "nbformat_minor": 5
}
