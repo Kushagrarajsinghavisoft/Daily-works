{
 "cells": [
  {
   "cell_type": "markdown",
   "id": "7f2f4840",
   "metadata": {},
   "source": [
    "# Assignment..."
   ]
  },
  {
   "cell_type": "markdown",
   "id": "9b3eaffc",
   "metadata": {},
   "source": [
    "#### 1.Write a function that accepts a line of text and a single letter as input (your program should be able to handle all upper and lower cases) and returns the number of times this letter is the second last character of a word. Note your program should be able to handle different cases. And check if the user input is a single letter. Think about how you deal with words ending with punctuation. Example: Input text = \"When the sun rises at dawn, the CHICKEN flies into the window.\" Input letter = \"E\" Output = \"The letter E has appeared 4 times as the second last letter of a word.\""
   ]
  },
  {
   "cell_type": "code",
   "execution_count": 6,
   "id": "93cf1a25",
   "metadata": {},
   "outputs": [
    {
     "name": "stdout",
     "output_type": "stream",
     "text": [
      "Enter the text str1: Hi i am kushagra.\n",
      "Enter the character to check: r\n",
      "1\n"
     ]
    }
   ],
   "source": [
    "def count_character(str1,ch):\n",
    "    str1=str1.lower()\n",
    "    ch=ch.lower()\n",
    "    count=0\n",
    "    str1=str1.replace(\",\",\"\")\n",
    "    str1=str1.replace(\".\",\"\")\n",
    "    str1=str1.split()\n",
    "    for word in str1:\n",
    "        if(len(word)>1 and word[-2]==ch):\n",
    "            count+=1\n",
    "    return count\n",
    "        \n",
    "\n",
    "str1=input(\"Enter the text str1: \")\n",
    "ch=input(\"Enter the character to check: \")\n",
    "print(count_character(str1,ch))"
   ]
  },
  {
   "cell_type": "markdown",
   "id": "4f3dc8b1",
   "metadata": {},
   "source": [
    "#### 2.Write a Python program to ask user input of a string, then ask user input of what letters they want to remove from the string. User can either put in \"odd\", \"even\" or a number \"n\" that is greater than 2. When user input \"odd\", it will remove the characters which have odd numbers in the sequence of the string. When user input \"even\", it will remove the characters which have even numbers in the sequence of the string. When user input \"n\" number, it will remove the characters which have nth numbers in the sequence of the string. Note that we are talking about the sequence of the letters, so the first letter in a string is number 1, the second is number 2, and so on.\n"
   ]
  },
  {
   "cell_type": "code",
   "execution_count": 106,
   "id": "9b98ec6a",
   "metadata": {},
   "outputs": [
    {
     "name": "stdout",
     "output_type": "stream",
     "text": [
      "Enter the text str1: hello world\n",
      "Enter the place from where you want to remove: even\n",
      "el ol"
     ]
    }
   ],
   "source": [
    "def remove_character(str1,n):\n",
    "    str1=str1.replace(\",\",\"\")\n",
    "    str1=str1.replace(\".\",\"\")\n",
    "#     print(str1)\n",
    "    if(n==\"even\"):\n",
    "        for i in range(len(str1)):\n",
    "            if((i+1)%2==0 and str1[i]!=\" \"):\n",
    "                print(str1[i],end=\"\")\n",
    "            if(str1[i]==\" \"):\n",
    "                print(str1[i],end=\"\")\n",
    "    \n",
    "    elif(n==\"odd\"):\n",
    "        for i in range(len(str1)):\n",
    "            if((i+1)%2!=0 and str1[i]!=\" \"):\n",
    "                print(str1[i],end=\"\")\n",
    "            if(str1[i]==\" \"):\n",
    "                print(str1[i],end=\"\")\n",
    "                \n",
    "    else:\n",
    "        n=int(n)\n",
    "        for i in range(len(str1)):\n",
    "            if((i+1)%n!=0 and str1[i]!=\" \"):\n",
    "                print(str1[i],end=\"\")\n",
    "            if(str1[i]==\" \"):\n",
    "                print(str1[i],end=\"\")\n",
    "                \n",
    "\n",
    "str1=input(\"Enter the text str1: \")\n",
    "num=input(\"Enter the place from where you want to remove: \")\n",
    "(remove_character(str1,num))"
   ]
  },
  {
   "cell_type": "markdown",
   "id": "4f8d0fe8",
   "metadata": {},
   "source": [
    "#### 3.Write a Python program to create a Caesar encryption. Your program will first ask for the input of a secret message, then ask how many places you wish to shift each letter in the alphabet. In the end, your program will produce the shifted secret message as a string. Your program should be able to handle all upper and lower cases, and check if the user inputs are valid. Note: In cryptography, a Caesar cipher, also known as Caesar's cipher, the shift cipher, Caesar's code or Caesar shift, is one of the simplest and most widely known encryption techniques. It is a type of substitution cipher in which each letter in the plaintext is replaced by a letter some fixed number of positions down the alphabet. For example, with a shift of 3, A would be replaced by D, B would become E, and so on. The method is named after Julius Caesar, who used it in his private correspondence. Example: Secret message = \"This is a secret message\" Shift = 5 Each letter is shifted 5 places down in alphabetical order. Secret output: \"ymnx nx f xjhwjy rjxxflj\" Hint: 1, the 26 letters in the alphabet are not indexed, put them into a list and index them first. 2, Think about what to do when the shifted letter goes beyond 26. e.g. letter z shifted by 5?"
   ]
  },
  {
   "cell_type": "code",
   "execution_count": 86,
   "id": "c4978f2f",
   "metadata": {},
   "outputs": [
    {
     "name": "stdout",
     "output_type": "stream",
     "text": [
      "Enter the text str1: abcde, abcde:\n",
      "Enter by how many characters you want to shift: 2\n",
      "cdefg, cdefg:\n"
     ]
    }
   ],
   "source": [
    "def encoded_string(str1, n):\n",
    "    str2 = \"\"\n",
    "    for i in range(len(str1)):\n",
    "        if str1[i].isupper():\n",
    "            str2 += chr((ord(str1[i]) - ord('A') + n) % 26 + ord('A'))\n",
    "        elif str1[i].islower():\n",
    "            str2 += chr((ord(str1[i]) - ord('a') + n) % 26 + ord('a'))\n",
    "        else:\n",
    "            str2 += str1[i]\n",
    "\n",
    "    return str2\n",
    "\n",
    "str1 = input(\"Enter the text str1: \")\n",
    "shift = int(input(\"Enter by how many characters you want to shift: \"))\n",
    "print(encoded_string(str1, shift))\n"
   ]
  },
  {
   "cell_type": "markdown",
   "id": "1d41ddfe",
   "metadata": {},
   "source": [
    "#### 4.Write a Python program to ask how many elements users want to create in a list, then let the user create 2 lists with the number of elements previously entered. Then create and display all combinations of letters, selecting each letter from a different key in a dictionary, and place all these combinations in a new list. Example: How many elements? 2 List 1 = ['a', 'b'] List 2 = ['c','d'] Output: newlist = [ac, ad, bc, bd]"
   ]
  },
  {
   "cell_type": "code",
   "execution_count": 112,
   "id": "eb2c436c",
   "metadata": {},
   "outputs": [
    {
     "name": "stdout",
     "output_type": "stream",
     "text": [
      "Enter the length of lists:2\n",
      "Enter the element of li1:a\n",
      "Enter the element of li1:c\n",
      "Enter the element of li2:d\n",
      "Enter the element of li2:f\n",
      "['ad', 'af', 'cd', 'cf']\n"
     ]
    }
   ],
   "source": [
    "n=int(input(\"Enter the length of lists:\"))\n",
    "li1=[]\n",
    "li2=[]\n",
    "for i in range(n):\n",
    "    li1.append((input(f\"Enter the element of li1:\")))\n",
    "    \n",
    "for i in range(n):\n",
    "    li2.append((input(f\"Enter the element of li2:\")))\n",
    "    \n",
    "result_list=[]\n",
    "for i in range(n):\n",
    "    for j in range(n):\n",
    "        result_list.append(li1[i]+li2[j])\n",
    "        \n",
    "print(result_list)"
   ]
  }
 ],
 "metadata": {
  "kernelspec": {
   "display_name": "Python 3 (ipykernel)",
   "language": "python",
   "name": "python3"
  },
  "language_info": {
   "codemirror_mode": {
    "name": "ipython",
    "version": 3
   },
   "file_extension": ".py",
   "mimetype": "text/x-python",
   "name": "python",
   "nbconvert_exporter": "python",
   "pygments_lexer": "ipython3",
   "version": "3.11.5"
  }
 },
 "nbformat": 4,
 "nbformat_minor": 5
}
