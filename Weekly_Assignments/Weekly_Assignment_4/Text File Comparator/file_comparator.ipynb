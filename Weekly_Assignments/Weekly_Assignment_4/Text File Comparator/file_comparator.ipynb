{
 "cells": [
  {
   "cell_type": "code",
   "execution_count": 1,
   "metadata": {},
   "outputs": [
    {
     "name": "stdout",
     "output_type": "stream",
     "text": [
      "Differences found:\n",
      "Differences saved to 2024-03-18_18-32-43_result.csv\n"
     ]
    }
   ],
   "source": [
    "import csv\n",
    "from datetime import datetime\n",
    "\n",
    "def compare_text_files(file1, file2):\n",
    "    #creating a list to store the differences\n",
    "    differences = []\n",
    "\n",
    "    #handling the file exception\n",
    "    try:\n",
    "        with open(file1, 'r') as f1, open(file2, 'r') as f2:\n",
    "            #splitting both the files with .\n",
    "            content1 = f1.read().split('.')\n",
    "            content2 = f2.read().split('.')\n",
    "\n",
    "            for i, (sentence1, sentence2) in enumerate(zip(content1, content2)):\n",
    "                #iterating over both files\n",
    "                words1 = sentence1.strip().split()\n",
    "                words2 = sentence2.strip().split()\n",
    "\n",
    "                # Find differences between words while iterating over both files consecutively\n",
    "                for j, (word1, word2) in enumerate(zip(words1, words2)):\n",
    "                    #checking for both words\n",
    "                    if word1 != word2:\n",
    "                        message = f\"Sentence({i + 1})_Word({j + 1})_{word1},{word2}\"\n",
    "                        #if words are different then stode in difference list\n",
    "                        differences.append(message)\n",
    "    except FileNotFoundError as e:\n",
    "        print(f\"Error: {e}. Please check the file paths and try again.\")\n",
    "    except Exception as e:\n",
    "        print(f\"An unexpected error occurred: {e}\")\n",
    "    return differences\n",
    "\n",
    "# Example usage\n",
    "file1 = \"actual_file.txt\"\n",
    "file2 = \"maybe_false_file.txt\"\n",
    "\n",
    "#getting the current timeframe\n",
    "output_file = datetime.now().strftime(\"%Y-%m-%d_%H-%M-%S_result.csv\")\n",
    "#calling the function differences\n",
    "differences = compare_text_files(file1, file2)\n",
    "\n",
    "if differences:\n",
    "    print(\"Differences found:\")\n",
    "    #handling the file exception\n",
    "    try:\n",
    "        with open(output_file, 'w', newline='') as csvfile:\n",
    "            #Create a CSV writer object associated with the file\n",
    "            writer = csv.writer(csvfile)\n",
    "            #Write the header row to the CSV file, indicating the column name\n",
    "            writer.writerow([\"Differences\"])\n",
    "            #Iterate over each difference in the list of differences\n",
    "            for diff in differences:\n",
    "                writer.writerow([diff])\n",
    "        print(f\"Differences saved to {output_file}\")\n",
    "    except Exception as e:\n",
    "        print(f\"An error occurred while saving the differences: {e}\")\n",
    "else:\n",
    "    print(\"The files are identical.\")\n"
   ]
  }
 ],
 "metadata": {
  "kernelspec": {
   "display_name": "Python 3",
   "language": "python",
   "name": "python3"
  },
  "language_info": {
   "codemirror_mode": {
    "name": "ipython",
    "version": 3
   },
   "file_extension": ".py",
   "mimetype": "text/x-python",
   "name": "python",
   "nbconvert_exporter": "python",
   "pygments_lexer": "ipython3",
   "version": "3.12.1"
  }
 },
 "nbformat": 4,
 "nbformat_minor": 2
}
