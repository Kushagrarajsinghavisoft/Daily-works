{
 "cells": [
  {
   "cell_type": "code",
   "execution_count": 1,
   "metadata": {},
   "outputs": [
    {
     "name": "stdout",
     "output_type": "stream",
     "text": [
      "File created named:  actual_file.csv\n"
     ]
    },
    {
     "name": "stderr",
     "output_type": "stream",
     "text": [
      "C:\\Users\\kusha\\AppData\\Local\\Temp\\ipykernel_16080\\2916234324.py:1: DeprecationWarning: \n",
      "Pyarrow will become a required dependency of pandas in the next major release of pandas (pandas 3.0),\n",
      "(to allow more performant data types, such as the Arrow string type, and better interoperability with other libraries)\n",
      "but was not found to be installed on your system.\n",
      "If this would cause problems for you,\n",
      "please provide us feedback at https://github.com/pandas-dev/pandas/issues/54466\n",
      "        \n",
      "  import pandas as pd\n"
     ]
    }
   ],
   "source": [
    "import pandas as pd\n",
    "\n",
    "#creating the file named actual_file.csv\n",
    "data={\n",
    "    'Name':['Harsh','Aman','Raj','Abhinav'],\n",
    "    'Age':[21,22,20,25],\n",
    "    'State':['Uttarakhand','Uttar Pradesh','Rajasthan','Mumbai']\n",
    "}\n",
    "\n",
    "# Create a DataFrame from the provided data\n",
    "df=pd.DataFrame(data)\n",
    "\n",
    "file_path=\"actual_file.csv\"\n",
    "\n",
    "#writting it to file\n",
    "df.to_csv(file_path)\n",
    "print(\"File created named: \",file_path)"
   ]
  },
  {
   "cell_type": "code",
   "execution_count": 2,
   "metadata": {},
   "outputs": [
    {
     "name": "stdout",
     "output_type": "stream",
     "text": [
      "File created named:  maybe_false_file.csv\n"
     ]
    }
   ],
   "source": [
    "import pandas as pd\n",
    "\n",
    "#creating the file named maybe_false_file.csv\n",
    "data={\n",
    "    'Name':['Harsh','Aman','Raaj','Abhinau'],\n",
    "    'Age':[21,22,23,25],\n",
    "    'State':['Utarakhand','Uttar Pradesh','Rajasthan','Mumbai']\n",
    "}\n",
    "\n",
    "# Create a DataFrame from the provided data\n",
    "df=pd.DataFrame(data)\n",
    "\n",
    "file_path=\"maybe_false_file.csv\"\n",
    "\n",
    "#writting it to file \n",
    "df.to_csv(file_path)\n",
    "print(\"File created named: \",file_path)"
   ]
  },
  {
   "cell_type": "code",
   "execution_count": 3,
   "metadata": {},
   "outputs": [
    {
     "name": "stdout",
     "output_type": "stream",
     "text": [
      "Differences saved to 2024-03-18_18-32-14_result.csv\n"
     ]
    }
   ],
   "source": [
    "import pandas as pd\n",
    "from datetime import datetime\n",
    "\n",
    "def compare_csv_files(actual_file, maybe_false_file, separator=\" \"):\n",
    "    #handling file exception\n",
    "    try:\n",
    "        #reading both the files\n",
    "        df_actual = pd.read_csv(actual_file)\n",
    "        df_maybe_false = pd.read_csv(maybe_false_file)\n",
    "    except FileNotFoundError as e:\n",
    "        print(f\"Error: {e}. Please check the file paths and try again.\")\n",
    "        return\n",
    "    except Exception as e:\n",
    "        print(f\"An unexpected error occurred: {e}\")\n",
    "        return\n",
    "\n",
    "    # Create list of column names for the new CSV\n",
    "    column_names = [\"Row\", \"Column\", \"Value (Actual)\", \"Value (Maybe False)\"]\n",
    "    \n",
    "    while True:\n",
    "        #handling exception for column\n",
    "        try:\n",
    "            column_to_skip = int(input(\"Enter columns to skip:\"))\n",
    "            break  # Break out of the loop if input is valid\n",
    "        except ValueError:\n",
    "            print(\"Invalid input. Please enter a valid integer.\")\n",
    "\n",
    "    #creating a list to store the differences\n",
    "    differences = []\n",
    "    for i in range(len(df_actual)):\n",
    "        row_actual = df_actual.iloc[i]\n",
    "        row_maybe_false = df_maybe_false.iloc[i]\n",
    "\n",
    "        # Iterate over column indices (skip the index column)\n",
    "        for col_index in range(1, len(row_actual)):   #(skipping 0 index)\n",
    "            # Check if the values are different and column is not the one to skip\n",
    "            if (row_actual.iloc[col_index] != row_maybe_false.iloc[col_index]) and (col_index != column_to_skip):\n",
    "                differences.append([f\"Row({i})\", f\"Column({col_index})\", f\"{row_actual.iloc[col_index]}\", f\"{row_maybe_false.iloc[col_index]}\"])\n",
    "\n",
    "    # Create DataFrame from differences list (if differences exist)\n",
    "    if differences:\n",
    "        df_differences = pd.DataFrame(differences, columns=column_names)\n",
    "\n",
    "        # Get current date and time in a format suitable for filename\n",
    "        now = datetime.now().strftime(\"%Y-%m-%d_%H-%M-%S\")\n",
    "        #handling exception\n",
    "        try:\n",
    "            # Save DataFrame to CSV file with timestamp\n",
    "            df_differences.to_csv(f\"{now}_result.csv\", index=False)\n",
    "            print(f\"Differences saved to {now}_result.csv\")\n",
    "        except Exception as e:\n",
    "            print(f\"Error occurred while saving the differences: {e}\")\n",
    "    else:\n",
    "        print(\"No differences found between the files.\")\n",
    "\n",
    "\n",
    "# Example usage (replace with your actual file paths)\n",
    "compare_csv_files(\"actual_file.csv\", \"maybe_false_file.csv\")\n"
   ]
  }
 ],
 "metadata": {
  "kernelspec": {
   "display_name": "Python 3",
   "language": "python",
   "name": "python3"
  },
  "language_info": {
   "codemirror_mode": {
    "name": "ipython",
    "version": 3
   },
   "file_extension": ".py",
   "mimetype": "text/x-python",
   "name": "python",
   "nbconvert_exporter": "python",
   "pygments_lexer": "ipython3",
   "version": "3.12.1"
  }
 },
 "nbformat": 4,
 "nbformat_minor": 2
}
