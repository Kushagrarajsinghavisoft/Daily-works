{
 "cells": [
  {
   "cell_type": "markdown",
   "metadata": {},
   "source": [
    "SF Salaries Exercise\n",
    "\n",
    "Welcome to a quick exercise for you to practice your pandas skills! We will be using the SF Salaries Dataset from Kaggle! Just follow along and complete the tasks outlined in bold below. The tasks will get harder and harder as you go along."
   ]
  },
  {
   "cell_type": "markdown",
   "metadata": {},
   "source": [
    "1. Read Salaries.csv as a dataframe called sal."
   ]
  },
  {
   "cell_type": "code",
   "execution_count": 3,
   "metadata": {},
   "outputs": [],
   "source": [
    "# Import the pandas library with the alias 'pd'.\n",
    "import pandas as pd\n",
    "\n",
    "# Read the data from the CSV file \"Salaries.csv\" into a DataFrame 'sal'.\n",
    "sal = pd.read_csv(\"Salaries.csv\")"
   ]
  },
  {
   "cell_type": "markdown",
   "metadata": {},
   "source": [
    "2.Check the head of the DataFrame."
   ]
  },
  {
   "cell_type": "code",
   "execution_count": 4,
   "metadata": {},
   "outputs": [
    {
     "data": {
      "text/html": [
       "<div>\n",
       "<style scoped>\n",
       "    .dataframe tbody tr th:only-of-type {\n",
       "        vertical-align: middle;\n",
       "    }\n",
       "\n",
       "    .dataframe tbody tr th {\n",
       "        vertical-align: top;\n",
       "    }\n",
       "\n",
       "    .dataframe thead th {\n",
       "        text-align: right;\n",
       "    }\n",
       "</style>\n",
       "<table border=\"1\" class=\"dataframe\">\n",
       "  <thead>\n",
       "    <tr style=\"text-align: right;\">\n",
       "      <th></th>\n",
       "      <th>Id</th>\n",
       "      <th>EmployeeName</th>\n",
       "      <th>JobTitle</th>\n",
       "      <th>BasePay</th>\n",
       "      <th>OvertimePay</th>\n",
       "      <th>OtherPay</th>\n",
       "      <th>Benefits</th>\n",
       "      <th>TotalPay</th>\n",
       "      <th>TotalPayBenefits</th>\n",
       "      <th>Year</th>\n",
       "      <th>Notes</th>\n",
       "      <th>Agency</th>\n",
       "      <th>Status</th>\n",
       "    </tr>\n",
       "  </thead>\n",
       "  <tbody>\n",
       "    <tr>\n",
       "      <th>0</th>\n",
       "      <td>1</td>\n",
       "      <td>NATHANIEL FORD</td>\n",
       "      <td>GENERAL MANAGER-METROPOLITAN TRANSIT AUTHORITY</td>\n",
       "      <td>167411.18</td>\n",
       "      <td>0.00</td>\n",
       "      <td>400184.25</td>\n",
       "      <td>NaN</td>\n",
       "      <td>567595.43</td>\n",
       "      <td>567595.43</td>\n",
       "      <td>2011</td>\n",
       "      <td>NaN</td>\n",
       "      <td>San Francisco</td>\n",
       "      <td>NaN</td>\n",
       "    </tr>\n",
       "    <tr>\n",
       "      <th>1</th>\n",
       "      <td>2</td>\n",
       "      <td>GARY JIMENEZ</td>\n",
       "      <td>CAPTAIN III (POLICE DEPARTMENT)</td>\n",
       "      <td>155966.02</td>\n",
       "      <td>245131.88</td>\n",
       "      <td>137811.38</td>\n",
       "      <td>NaN</td>\n",
       "      <td>538909.28</td>\n",
       "      <td>538909.28</td>\n",
       "      <td>2011</td>\n",
       "      <td>NaN</td>\n",
       "      <td>San Francisco</td>\n",
       "      <td>NaN</td>\n",
       "    </tr>\n",
       "    <tr>\n",
       "      <th>2</th>\n",
       "      <td>3</td>\n",
       "      <td>ALBERT PARDINI</td>\n",
       "      <td>CAPTAIN III (POLICE DEPARTMENT)</td>\n",
       "      <td>212739.13</td>\n",
       "      <td>106088.18</td>\n",
       "      <td>16452.60</td>\n",
       "      <td>NaN</td>\n",
       "      <td>335279.91</td>\n",
       "      <td>335279.91</td>\n",
       "      <td>2011</td>\n",
       "      <td>NaN</td>\n",
       "      <td>San Francisco</td>\n",
       "      <td>NaN</td>\n",
       "    </tr>\n",
       "    <tr>\n",
       "      <th>3</th>\n",
       "      <td>4</td>\n",
       "      <td>CHRISTOPHER CHONG</td>\n",
       "      <td>WIRE ROPE CABLE MAINTENANCE MECHANIC</td>\n",
       "      <td>77916.00</td>\n",
       "      <td>56120.71</td>\n",
       "      <td>198306.90</td>\n",
       "      <td>NaN</td>\n",
       "      <td>332343.61</td>\n",
       "      <td>332343.61</td>\n",
       "      <td>2011</td>\n",
       "      <td>NaN</td>\n",
       "      <td>San Francisco</td>\n",
       "      <td>NaN</td>\n",
       "    </tr>\n",
       "    <tr>\n",
       "      <th>4</th>\n",
       "      <td>5</td>\n",
       "      <td>PATRICK GARDNER</td>\n",
       "      <td>DEPUTY CHIEF OF DEPARTMENT,(FIRE DEPARTMENT)</td>\n",
       "      <td>134401.60</td>\n",
       "      <td>9737.00</td>\n",
       "      <td>182234.59</td>\n",
       "      <td>NaN</td>\n",
       "      <td>326373.19</td>\n",
       "      <td>326373.19</td>\n",
       "      <td>2011</td>\n",
       "      <td>NaN</td>\n",
       "      <td>San Francisco</td>\n",
       "      <td>NaN</td>\n",
       "    </tr>\n",
       "  </tbody>\n",
       "</table>\n",
       "</div>"
      ],
      "text/plain": [
       "   Id       EmployeeName                                        JobTitle  \\\n",
       "0   1     NATHANIEL FORD  GENERAL MANAGER-METROPOLITAN TRANSIT AUTHORITY   \n",
       "1   2       GARY JIMENEZ                 CAPTAIN III (POLICE DEPARTMENT)   \n",
       "2   3     ALBERT PARDINI                 CAPTAIN III (POLICE DEPARTMENT)   \n",
       "3   4  CHRISTOPHER CHONG            WIRE ROPE CABLE MAINTENANCE MECHANIC   \n",
       "4   5    PATRICK GARDNER    DEPUTY CHIEF OF DEPARTMENT,(FIRE DEPARTMENT)   \n",
       "\n",
       "     BasePay  OvertimePay   OtherPay  Benefits   TotalPay  TotalPayBenefits  \\\n",
       "0  167411.18         0.00  400184.25       NaN  567595.43         567595.43   \n",
       "1  155966.02    245131.88  137811.38       NaN  538909.28         538909.28   \n",
       "2  212739.13    106088.18   16452.60       NaN  335279.91         335279.91   \n",
       "3   77916.00     56120.71  198306.90       NaN  332343.61         332343.61   \n",
       "4  134401.60      9737.00  182234.59       NaN  326373.19         326373.19   \n",
       "\n",
       "   Year  Notes         Agency  Status  \n",
       "0  2011    NaN  San Francisco     NaN  \n",
       "1  2011    NaN  San Francisco     NaN  \n",
       "2  2011    NaN  San Francisco     NaN  \n",
       "3  2011    NaN  San Francisco     NaN  \n",
       "4  2011    NaN  San Francisco     NaN  "
      ]
     },
     "execution_count": 4,
     "metadata": {},
     "output_type": "execute_result"
    }
   ],
   "source": [
    "# Display the first few rows of the DataFrame 'sal' using the 'head()' method.\n",
    "sal.head()"
   ]
  },
  {
   "cell_type": "markdown",
   "metadata": {},
   "source": [
    "3.Use the .info() method to find out how many entries there are"
   ]
  },
  {
   "cell_type": "code",
   "execution_count": 5,
   "metadata": {},
   "outputs": [
    {
     "name": "stdout",
     "output_type": "stream",
     "text": [
      "<class 'pandas.core.frame.DataFrame'>\n",
      "RangeIndex: 148654 entries, 0 to 148653\n",
      "Data columns (total 13 columns):\n",
      " #   Column            Non-Null Count   Dtype  \n",
      "---  ------            --------------   -----  \n",
      " 0   Id                148654 non-null  int64  \n",
      " 1   EmployeeName      148654 non-null  object \n",
      " 2   JobTitle          148654 non-null  object \n",
      " 3   BasePay           148045 non-null  float64\n",
      " 4   OvertimePay       148650 non-null  float64\n",
      " 5   OtherPay          148650 non-null  float64\n",
      " 6   Benefits          112491 non-null  float64\n",
      " 7   TotalPay          148654 non-null  float64\n",
      " 8   TotalPayBenefits  148654 non-null  float64\n",
      " 9   Year              148654 non-null  int64  \n",
      " 10  Notes             0 non-null       float64\n",
      " 11  Agency            148654 non-null  object \n",
      " 12  Status            0 non-null       float64\n",
      "dtypes: float64(8), int64(2), object(3)\n",
      "memory usage: 14.7+ MB\n"
     ]
    }
   ],
   "source": [
    "sal.info()"
   ]
  },
  {
   "cell_type": "markdown",
   "metadata": {},
   "source": [
    "4.What is the average BasePay ?\n",
    "a. 66325.44884050643"
   ]
  },
  {
   "cell_type": "code",
   "execution_count": 6,
   "metadata": {},
   "outputs": [
    {
     "name": "stdout",
     "output_type": "stream",
     "text": [
      "66325.4488404877\n"
     ]
    }
   ],
   "source": [
    "# Calculate the mean (average) of the 'BasePay' column in the DataFrame 'sal'.\n",
    "average_base_pay = sal['BasePay'].mean()\n",
    "print(average_base_pay)"
   ]
  },
  {
   "cell_type": "markdown",
   "metadata": {},
   "source": [
    "5.What is the highest amount of OvertimePay in the dataset ?\n",
    "a.245131.88"
   ]
  },
  {
   "cell_type": "code",
   "execution_count": 7,
   "metadata": {},
   "outputs": [
    {
     "name": "stdout",
     "output_type": "stream",
     "text": [
      "245131.88\n"
     ]
    }
   ],
   "source": [
    "# Find the maximum value in the 'OvertimePay' column of the DataFrame 'sal'.\n",
    "max_overtime_pay = sal['OvertimePay'].max()\n",
    "print(max_overtime_pay)"
   ]
  },
  {
   "cell_type": "markdown",
   "metadata": {},
   "source": [
    "6.What is the job title of JOSEPH DRISCOLL ? Note: Use all caps, otherwise you may get an answer that doesn't match up (there is also a lowercase Joseph Driscoll). \n",
    "a.24    CAPTAIN, FIRE SUPPRESSION\n",
    "Name: JobTitle, dtype: object"
   ]
  },
  {
   "cell_type": "code",
   "execution_count": 9,
   "metadata": {},
   "outputs": [
    {
     "name": "stdout",
     "output_type": "stream",
     "text": [
      "24    CAPTAIN, FIRE SUPPRESSION\n",
      "Name: JobTitle, dtype: object\n"
     ]
    }
   ],
   "source": [
    "#  ilter the DataFrame 'sal' to get the 'JobTitle' of the employee with the name 'JOSEPH DRISCOLL'.\n",
    "name = sal[sal['EmployeeName'] == 'JOSEPH DRISCOLL']['JobTitle']\n",
    "\n",
    "# Print the 'JobTitle' for the employee with the specified name.\n",
    "print(name)"
   ]
  },
  {
   "cell_type": "markdown",
   "metadata": {},
   "source": [
    "7. How much does JOSEPH DRISCOLL make (including benefits)?\n",
    "a.24    270324.91\n",
    "Name: TotalPayBenefits, dtype: float64"
   ]
  },
  {
   "cell_type": "code",
   "execution_count": 10,
   "metadata": {},
   "outputs": [
    {
     "name": "stdout",
     "output_type": "stream",
     "text": [
      "24    270324.91\n",
      "Name: TotalPayBenefits, dtype: float64\n"
     ]
    }
   ],
   "source": [
    "# Filter the DataFrame 'sal' to get the 'TotalPayBenefits' of the employee with the name 'JOSEPH DRISCOLL'.\n",
    "total_pay_benefits = sal[sal['EmployeeName'] == 'JOSEPH DRISCOLL']['TotalPayBenefits']\n",
    "\n",
    "# Print the 'TotalPayBenefits' for the employee with the specified name.\n",
    "print(total_pay_benefits)"
   ]
  },
  {
   "cell_type": "markdown",
   "metadata": {},
   "source": [
    "8.What is the name of highest paid person (including benefits)?\n",
    "a.\n",
    "Id\tEmployeeName\tJobTitle\tBasePay\tOvertimePay\tOtherPay\tBenefits\tTotalPay\tTotalPayBenefits\tYear\tNotes\tAgency\tStatus\n",
    "0\t1\tNATHANIEL FORD\tGENERAL MANAGER-METROPOLITAN TRANSIT AUTHORITY\t167411.18\t0.0\t400184.25\tNaN\t567595.43\t567595.43\t2011\tNaN\tSan Francisco\tNaN"
   ]
  },
  {
   "cell_type": "code",
   "execution_count": 14,
   "metadata": {},
   "outputs": [
    {
     "name": "stdout",
     "output_type": "stream",
     "text": [
      "0    NATHANIEL FORD\n",
      "Name: EmployeeName, dtype: object\n"
     ]
    }
   ],
   "source": [
    "# Find the maximum value in the 'TotalPayBenefits' column.\n",
    "max_total_pay_benefits = sal['TotalPayBenefits'].max()\n",
    "\n",
    "# Filter the DataFrame 'sal' to get the row(s) where 'TotalPayBenefits' is equal to the maximum value.\n",
    "max_total_pay_benefits_row = sal[sal['TotalPayBenefits'] == max_total_pay_benefits]\n",
    "\n",
    "# Print the 'EmployeeName' from the filtered row(s).\n",
    "print(max_total_pay_benefits_row['EmployeeName'])\n"
   ]
  },
  {
   "cell_type": "markdown",
   "metadata": {},
   "source": [
    "9.What is the name of lowest paid person (including benefits)? Do you notice something strange about how much he or she is paid?\n",
    "a.\n",
    "Id\tEmployeeName\tJobTitle\tBasePay\tOvertimePay\tOtherPay\tBenefits\tTotalPay\tTotalPayBenefits\tYear\tNotes\tAgency\tStatus\n",
    "148653\t148654\tJoe Lopez\tCounselor, Log Cabin Ranch\t0.0\t0.0\t-618.13\t0.0\t-618.13\t-618.13\t2014\tNaN\tSan Francisco\tNaN"
   ]
  },
  {
   "cell_type": "code",
   "execution_count": 15,
   "metadata": {},
   "outputs": [
    {
     "name": "stdout",
     "output_type": "stream",
     "text": [
      "            Id EmployeeName                    JobTitle  BasePay  OvertimePay  \\\n",
      "148653  148654    Joe Lopez  Counselor, Log Cabin Ranch      0.0          0.0   \n",
      "\n",
      "        OtherPay  Benefits  TotalPay  TotalPayBenefits  Year  Notes  \\\n",
      "148653   -618.13       0.0   -618.13           -618.13  2014    NaN   \n",
      "\n",
      "               Agency  Status  \n",
      "148653  San Francisco     NaN  \n",
      "\n",
      "Lowest paid person is: Joe Lopez\n",
      "The strange thing noticed is basepay, overtimepay is 0, but benefits are in negative.\n"
     ]
    }
   ],
   "source": [
    "# Find the minimum value in the 'TotalPayBenefits' column.\n",
    "min_total_pay_benefits = sal['TotalPayBenefits'].min()\n",
    "\n",
    "# Filter the DataFrame 'sal' to get the row(s) where 'TotalPayBenefits' is equal to the minimum value.\n",
    "min_total_pay_benefits_row = sal[sal['TotalPayBenefits'] == min_total_pay_benefits]\n",
    "\n",
    "# Print the details of the row(s) where 'TotalPayBenefits' is at its minimum.\n",
    "print(min_total_pay_benefits_row)\n",
    "\n",
    "# Print the name of the lowest-paid person from the filtered row(s).\n",
    "print(f\"\\nLowest paid person is: {min_total_pay_benefits_row['EmployeeName'].values[0]}\")\n",
    "\n",
    "# Provide additional information about the observation.\n",
    "print(\"The strange thing noticed is basepay, overtimepay is 0, but benefits are in negative.\")\n"
   ]
  },
  {
   "cell_type": "markdown",
   "metadata": {},
   "source": [
    "10.What was the average (mean) BasePay of all employees per year? (2011-2014) ?\n",
    "a.Year\n",
    "2011    63595.956517\n",
    "2012    65436.406857\n",
    "2013    69630.030216\n",
    "2014    66564.421924\n",
    "Name: BasePay, dtype: float64\n",
    "11.How many unique job titles are there? \n",
    "a.2159"
   ]
  },
  {
   "cell_type": "code",
   "execution_count": 16,
   "metadata": {},
   "outputs": [
    {
     "name": "stdout",
     "output_type": "stream",
     "text": [
      "<class 'pandas.core.series.Series'>\n",
      "Year\n",
      "2011    63595.956517\n",
      "2012    65436.406857\n",
      "2013    69630.030216\n",
      "2014    66564.421924\n",
      "Name: BasePay, dtype: float64\n"
     ]
    }
   ],
   "source": [
    "# Group the DataFrame 'sal' by the 'Year' column.\n",
    "grouped_by_year = sal.groupby('Year')\n",
    "\n",
    "# Print the data type of the 'Year' column.\n",
    "print(type(sal.Year))\n",
    "\n",
    "# Calculate the mean of 'BasePay' for each group (each year).\n",
    "average_base_pay_by_year = grouped_by_year['BasePay'].mean()\n",
    "\n",
    "# Print the result.\n",
    "print(average_base_pay_by_year)\n",
    "\n"
   ]
  },
  {
   "cell_type": "markdown",
   "metadata": {},
   "source": [
    "12. What are the top 5 most common jobs? \n",
    "a.\n",
    "Transit Operator                7036\n",
    "Special Nurse                   4389\n",
    "Registered Nurse                3736\n",
    "Public Svc Aide-Public Works    2518\n",
    "Police Officer 3                2421\n",
    "Name: JobTitle, dtype: int64"
   ]
  },
  {
   "cell_type": "code",
   "execution_count": 18,
   "metadata": {},
   "outputs": [
    {
     "name": "stdout",
     "output_type": "stream",
     "text": [
      "JobTitle\n",
      "Transit Operator                7036\n",
      "Special Nurse                   4389\n",
      "Registered Nurse                3736\n",
      "Public Svc Aide-Public Works    2518\n",
      "Police Officer 3                2421\n",
      "Name: count, dtype: int64\n"
     ]
    }
   ],
   "source": [
    "# Count the occurrences of each unique job title in the 'JobTitle' column of the DataFrame 'sal'.\n",
    "title_counts = sal['JobTitle'].value_counts()\n",
    "\n",
    "# Select the top 5 most common job titles based on their occurrence counts.\n",
    "top_5_titles = title_counts.head(5)\n",
    "\n",
    "print(top_5_titles)"
   ]
  },
  {
   "cell_type": "markdown",
   "metadata": {},
   "source": [
    "13.How many Job Titles were represented by only one person in 2013? (e.g. Job Titles with only one occurence in 2013?) \n",
    "a.202"
   ]
  },
  {
   "cell_type": "code",
   "execution_count": 20,
   "metadata": {},
   "outputs": [
    {
     "name": "stdout",
     "output_type": "stream",
     "text": [
      "202\n"
     ]
    }
   ],
   "source": [
    "# Filter the DataFrame 'sal' to include only rows where the 'Year' column is equal to 2013.\n",
    "# Select the 'JobTitle' column for these filtered rows.\n",
    "filtered_titles_2013 = sal[sal['Year'] == 2013]['JobTitle']\n",
    "\n",
    "# Count the occurrences of each unique job title in the filtered 'JobTitle' column.\n",
    "title_counts_2013 = filtered_titles_2013.value_counts()\n",
    "\n",
    "# Sum the number of titles that have a count of 1, indicating titles with only one occurrence in 2013.\n",
    "count_single_occurrence_titles_2013 = sum(title_counts_2013 == 1)\n",
    "print(count_single_occurrence_titles_2013)"
   ]
  },
  {
   "cell_type": "markdown",
   "metadata": {},
   "source": [
    "14.How many people have the word Chief in their job title? (Bonus)\n",
    "a. 477"
   ]
  },
  {
   "cell_type": "code",
   "execution_count": 28,
   "metadata": {},
   "outputs": [
    {
     "name": "stdout",
     "output_type": "stream",
     "text": [
      "The number of people with the word 'Chief' in their job title is: 627\n"
     ]
    }
   ],
   "source": [
    "chief_count = sal[sal['JobTitle'].str.contains('Chief', case=False, na=False)].shape[0]\n",
    "print(f\"The number of people with the word 'Chief' in their job title is: {chief_count}\")\n"
   ]
  },
  {
   "cell_type": "markdown",
   "metadata": {},
   "source": [
    "15. Bonus: Is there a correlation between length of the Job Title string and Salary?\n",
    "a.\n",
    "\ttitle_len\tTotalPayBenefits\n",
    "title_len\t1.000000\t-0.036878\n",
    "TotalPayBenefits\t-0.036878\t1.000000"
   ]
  },
  {
   "cell_type": "code",
   "execution_count": 30,
   "metadata": {},
   "outputs": [
    {
     "name": "stdout",
     "output_type": "stream",
     "text": [
      "                  titlelen  TotalPayBenefits\n",
      "titlelen          1.000000         -0.036878\n",
      "TotalPayBenefits -0.036878          1.000000\n"
     ]
    }
   ],
   "source": [
    "# Creating a new column 'titlelen' in the DataFrame 'df', which contains the length of each 'JobTitle'.\n",
    "sal['titlelen'] = sal['JobTitle'].apply(len)\n",
    "\n",
    "# Creating a new DataFrame that contains two columns: 'titlelen' and 'TotalPayBenefits'.\n",
    "# Calculating the correlation between the two columns.\n",
    "correlation_result = sal[['titlelen', 'TotalPayBenefits']].corr()\n",
    "print(correlation_result)"
   ]
  }
 ],
 "metadata": {
  "kernelspec": {
   "display_name": "Python 3",
   "language": "python",
   "name": "python3"
  },
  "language_info": {
   "codemirror_mode": {
    "name": "ipython",
    "version": 3
   },
   "file_extension": ".py",
   "mimetype": "text/x-python",
   "name": "python",
   "nbconvert_exporter": "python",
   "pygments_lexer": "ipython3",
   "version": "3.12.1"
  }
 },
 "nbformat": 4,
 "nbformat_minor": 2
}
