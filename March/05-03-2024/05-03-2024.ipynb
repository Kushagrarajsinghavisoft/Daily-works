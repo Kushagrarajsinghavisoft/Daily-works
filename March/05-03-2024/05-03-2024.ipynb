{
 "cells": [
  {
   "cell_type": "markdown",
   "metadata": {},
   "source": [
    "Assignment"
   ]
  },
  {
   "cell_type": "markdown",
   "metadata": {},
   "source": [
    "1.You are given the following :\n",
    "\n",
    "A positive number N\n",
    "Heights : A list of heights of N persons standing in a queue\n",
    "Infronts : A list of numbers corresponding to each person (P) that gives the number of persons who are taller than P and standing in front of P\n",
    "You need to return  list of actual order of persons’s height\n",
    "\n",
    "Consider that heights will be unique\n",
    "\n",
    "Example\n",
    "\n",
    "Input : \n",
    "Heights: 5 3 2 6 1 4\n",
    "InFronts: 0 1 2 0 3 2\n",
    "Output : \n",
    "actual order is: 5 3 2 1 6 4 \n",
    "So, you can see that for the person with height 5, there is no one taller than him who is in front of him, and hence Infronts has 0 for him.\n",
    "\n",
    "For person with height 3, there is 1 person ( Height : 5 ) in front of him who is taller than him.\n",
    "\n",
    "You can do similar inference for other people in the list."
   ]
  },
  {
   "cell_type": "code",
   "execution_count": 20,
   "metadata": {},
   "outputs": [
    {
     "name": "stdout",
     "output_type": "stream",
     "text": [
      "[(6, 0), (5, 0), (4, 2), (3, 1), (2, 2), (1, 3)]\n",
      "Actual order is: [5, 3, 2, 1, 6, 4]\n"
     ]
    }
   ],
   "source": [
    "def reconstruct_queue(heights, in_fronts):\n",
    "    # Combine heights and in-fronts into pairs\n",
    "    persons = list(zip(heights, in_fronts))\n",
    "\n",
    "    #sort them in descending order\n",
    "    persons.sort(reverse=True)\n",
    "    print(persons)\n",
    "\n",
    "    # Reconstruct the queue\n",
    "    result = []\n",
    "    for person in persons:\n",
    "        result.insert(person[1], person[0])\n",
    "    return result\n",
    "\n",
    "# Example usage\n",
    "heights = [5, 3, 2, 6, 1, 4]\n",
    "in_fronts = [0, 1, 2, 0, 3, 2]\n",
    "output = reconstruct_queue(heights, in_fronts) #calling function reconstruct_queue to find the resultant list and store it in output\n",
    "print(\"Actual order is:\", output)\n"
   ]
  },
  {
   "cell_type": "markdown",
   "metadata": {},
   "source": [
    "2.Find shortest unique prefix to represent each word in the list.\n",
    "\n",
    "Example:\n",
    "\n",
    "Input: [zebra, dog, duck, dove]\n",
    "Output: {z, dog, du, dov}\n",
    "where we can see that\n",
    "zebra = z\n",
    "dog = dog\n",
    "duck = du\n",
    "dove = dov\n",
    "NOTE : Assume that no word is prefix of another. In other words, the representation is always possible."
   ]
  },
  {
   "cell_type": "code",
   "execution_count": 16,
   "metadata": {},
   "outputs": [
    {
     "name": "stdout",
     "output_type": "stream",
     "text": [
      "['z', 'dog', 'du', 'dov']\n"
     ]
    }
   ],
   "source": [
    "#function to find every possible prefix and storing it in a dictionary\n",
    "def find_all_prefix(words,prefixes):\n",
    "    for word in words:\n",
    "        prefix=\"\"      #to keep track of the prefix of a particular word\n",
    "        for char in word:\n",
    "            prefix+=char\n",
    "            if prefix in prefixes:\n",
    "                prefixes[prefix]+=1    #if prefix already present in dictionary then just incrementing it by 1\n",
    "            else:\n",
    "                prefixes[prefix]=1     #if prefix not present in dictionary then initialize it by 1\n",
    "\n",
    "#function to check prefix of a word and appending it in final_list\n",
    "def solve(words, prefixes, final_list):\n",
    "    for word in words:\n",
    "        prefix=\"\"       #to keep track of the prefix of a particular word\n",
    "        for char in word:\n",
    "            prefix+=char\n",
    "            if prefix in prefixes and prefixes[prefix] == 1:#if prefix is present in prefixes dictionary and just for once then this is it\n",
    "                final_list.append(prefix)                   #append it in final_list\n",
    "                break                              #break out of second loop you find it\n",
    "\n",
    "\n",
    "words=[\"zebra\",\"dog\",\"duck\",\"dove\"]\n",
    "prefixes={}                      #to store all possible prefixes\n",
    "find_all_prefix(words,prefixes)\n",
    "# print(prefixes)\n",
    "final_list=[]                    #to find the final prefixes for each word\n",
    "solve(words,prefixes,final_list)\n",
    "print(final_list)                #printing the final_list"
   ]
  },
  {
   "cell_type": "markdown",
   "metadata": {},
   "source": [
    "3.Given a 2 x N grid of integer, A, choose numbers such that the sum of the numbers\n",
    "\n",
    "is maximum and no two chosen numbers are adjacent horizontally, vertically or diagonally, and return it.\n",
    "\n",
    "Note: You can choose more than 2 numbers.\n",
    "\n",
    "Input Format:\n",
    "\n",
    "The first and the only argument of input contains a 2d matrix, A.\n",
    "Output Format:\n",
    "\n",
    "Return an integer, representing the maximum possible sum.\n",
    "Constraints:\n",
    "\n",
    "1 <= N <= 20000\n",
    "1 <= A[i] <= 2000\n",
    "Example:\n",
    "\n",
    "Input 1:\n",
    "    A = [   [1]\n",
    "            [2]    ]\n",
    "\n",
    "Output 1:\n",
    "    2\n",
    "\n",
    "Explanation 1:\n",
    "    We will choose 2.\n",
    "\n",
    "Input 2:\n",
    "    A = [   [1, 2, 3, 4]\n",
    "            [2, 3, 4, 5]    ]\n",
    "    \n",
    "Output 2:\n",
    "    We will choose 3 and 5."
   ]
  },
  {
   "cell_type": "code",
   "execution_count": 47,
   "metadata": {},
   "outputs": [
    {
     "name": "stdout",
     "output_type": "stream",
     "text": [
      "[[1, 2, 3, 4], [2, 3, 4, 5]]\n",
      "8\n"
     ]
    }
   ],
   "source": [
    "# Function to find max sum without adjacent\n",
    "def maxSum(grid, n) : \n",
    "    # Sum including maximum element of the first column\n",
    "    incl = max(grid[0][0], grid[1][0]) \n",
    "\n",
    "    # Not including the first column's element\n",
    "    excl = 0\n",
    "\n",
    "    # Traverse for further elements\n",
    "    for i in range(1, n):\n",
    "        # Update max_sum on including or excluding\n",
    "        # of the previous column \n",
    "        excl_new = max(excl, incl) \n",
    "\n",
    "        # Include the current column. Add the maximum element\n",
    "        # from both rows of the current column \n",
    "        incl = excl + max(grid[0][i], grid[1][i]) \n",
    "\n",
    "        # If the current column doesn't need to be included\n",
    "        excl = excl_new\n",
    "\n",
    "    # Return the maximum of excl and incl\n",
    "    # As that will be the maximum sum\n",
    "    return max(excl, incl)\n",
    "\n",
    "\n",
    "grid = []\n",
    "n = int(input(\"Enter the size of column: \"))  #take the size of the column\n",
    "for row in range(2):\n",
    "    col1 = []\n",
    "    for column in range(n):\n",
    "        col1.append(int(input(\"Enter number: \")))  #appending the number in col1 list\n",
    "    grid.append(col1)      #append col1 in grid\n",
    "\n",
    "print(grid)\n",
    "\n",
    "\n",
    "print(maxSum(grid, n))  \n"
   ]
  }
 ],
 "metadata": {
  "kernelspec": {
   "display_name": "base",
   "language": "python",
   "name": "python3"
  },
  "language_info": {
   "codemirror_mode": {
    "name": "ipython",
    "version": 3
   },
   "file_extension": ".py",
   "mimetype": "text/x-python",
   "name": "python",
   "nbconvert_exporter": "python",
   "pygments_lexer": "ipython3",
   "version": "3.11.5"
  }
 },
 "nbformat": 4,
 "nbformat_minor": 2
}
