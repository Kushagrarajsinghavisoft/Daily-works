{
 "cells": [
  {
   "cell_type": "markdown",
   "metadata": {},
   "source": [
    "Spark Walmart Data Analysis Project\n",
    "\n",
    "Let's get some quick practice with your new Spark DataFrame skills, you will be asked some basic questions about some stock market data, in this case Walmart Stock from the years 2012-2017. This exercise will just ask a bunch of questions, unlike the machine learning exercises, which will be a little looser and be in the form of \"Consulting Projects\".\n",
    "\n",
    "For now, just answer the questions and complete the tasks below.\n",
    "\n",
    "Use the walmart_stock.csv file to Answer and complete the tasks below!\n"
   ]
  },
  {
   "cell_type": "markdown",
   "metadata": {},
   "source": [
    "\n",
    "1.Load the Walmart Stock CSV File, have Spark infer the data types."
   ]
  },
  {
   "cell_type": "code",
   "execution_count": 76,
   "metadata": {},
   "outputs": [
    {
     "name": "stdout",
     "output_type": "stream",
     "text": [
      "            Date       Open       High        Low      Close    Volume  \\\n",
      "0     2012-01-03  59.970001  61.060001  59.869999  60.330002  12668800   \n",
      "1     2012-01-04  60.209999  60.349998  59.470001  59.709999   9593300   \n",
      "2     2012-01-05  59.349998  59.619999  58.369999  59.419998  12768200   \n",
      "3     2012-01-06  59.419998  59.450001  58.869999  59.000000   8069400   \n",
      "4     2012-01-09  59.029999  59.549999  58.919998  59.180000   6679300   \n",
      "...          ...        ...        ...        ...        ...       ...   \n",
      "1253  2016-12-23  69.430000  69.750000  69.360001  69.540001   4803900   \n",
      "1254  2016-12-27  69.300003  69.820000  69.250000  69.699997   4435700   \n",
      "1255  2016-12-28  69.940002  70.000000  69.260002  69.309998   4875700   \n",
      "1256  2016-12-29  69.209999  69.519997  69.120003  69.260002   4298400   \n",
      "1257  2016-12-30  69.120003  69.430000  68.830002  69.120003   6889500   \n",
      "\n",
      "      Adj Close  \n",
      "0     52.619235  \n",
      "1     52.078475  \n",
      "2     51.825539  \n",
      "3     51.459220  \n",
      "4     51.616215  \n",
      "...         ...  \n",
      "1253  69.032411  \n",
      "1254  69.191240  \n",
      "1255  68.804087  \n",
      "1256  68.754456  \n",
      "1257  68.615479  \n",
      "\n",
      "[1258 rows x 7 columns]\n",
      "Date          object\n",
      "Open         float64\n",
      "High         float64\n",
      "Low          float64\n",
      "Close        float64\n",
      "Volume         int64\n",
      "Adj Close    float64\n",
      "dtype: object\n"
     ]
    }
   ],
   "source": [
    "# Import the pandas library as pd\n",
    "import pandas as pd  \n",
    "\n",
    "# Read the CSV file 'walmart_stock.csv' into a pandas DataFrame\n",
    "dataframe = pd.read_csv('walmart_stock.csv')   \n",
    "\n",
    "# Print the entire DataFrame to the console\n",
    "print(dataframe)\n",
    "\n",
    "# Get and print the data types of each column in the DataFrame\n",
    "datatype = dataframe.dtypes\n",
    "print(datatype)\n"
   ]
  },
  {
   "cell_type": "markdown",
   "metadata": {},
   "source": [
    "2.What are the column names?\n",
    "A.['Date', 'Open', 'High', 'Low', 'Close', 'Volume', 'Adj Close']"
   ]
  },
  {
   "cell_type": "code",
   "execution_count": 77,
   "metadata": {},
   "outputs": [
    {
     "name": "stdout",
     "output_type": "stream",
     "text": [
      "Column Names:\n",
      "Index(['Date', 'Open', 'High', 'Low', 'Close', 'Volume', 'Adj Close'], dtype='object')\n"
     ]
    }
   ],
   "source": [
    "# Get the column names\n",
    "column_names = dataframe.columns\n",
    "\n",
    "# Print or use the column names as needed\n",
    "print(\"Column Names:\")\n",
    "print(column_names)\n"
   ]
  },
  {
   "cell_type": "markdown",
   "metadata": {},
   "source": [
    "3.What does the Schema look like?\n",
    "A.root\n",
    " |-- Date: timestamp (nullable = true)\n",
    " |-- Open: double (nullable = true)\n",
    " |-- High: double (nullable = true)\n",
    " |-- Low: double (nullable = true)\n",
    " |-- Close: double (nullable = true)\n",
    " |-- Volume: integer (nullable = true)\n",
    " |-- Adj Close: double (nullable = true)"
   ]
  },
  {
   "cell_type": "code",
   "execution_count": 78,
   "metadata": {},
   "outputs": [
    {
     "name": "stdout",
     "output_type": "stream",
     "text": [
      "<class 'pandas.core.frame.DataFrame'>\n",
      "RangeIndex: 1258 entries, 0 to 1257\n",
      "Data columns (total 7 columns):\n",
      " #   Column     Non-Null Count  Dtype  \n",
      "---  ------     --------------  -----  \n",
      " 0   Date       1258 non-null   object \n",
      " 1   Open       1258 non-null   float64\n",
      " 2   High       1258 non-null   float64\n",
      " 3   Low        1258 non-null   float64\n",
      " 4   Close      1258 non-null   float64\n",
      " 5   Volume     1258 non-null   int64  \n",
      " 6   Adj Close  1258 non-null   float64\n",
      "dtypes: float64(5), int64(1), object(1)\n",
      "memory usage: 68.9+ KB\n"
     ]
    }
   ],
   "source": [
    "dataframe.info()  #getting all information about the dataframe"
   ]
  },
  {
   "cell_type": "markdown",
   "metadata": {},
   "source": [
    "4.Print out the first 5 columns."
   ]
  },
  {
   "cell_type": "code",
   "execution_count": 79,
   "metadata": {},
   "outputs": [
    {
     "data": {
      "text/html": [
       "<div>\n",
       "<style scoped>\n",
       "    .dataframe tbody tr th:only-of-type {\n",
       "        vertical-align: middle;\n",
       "    }\n",
       "\n",
       "    .dataframe tbody tr th {\n",
       "        vertical-align: top;\n",
       "    }\n",
       "\n",
       "    .dataframe thead th {\n",
       "        text-align: right;\n",
       "    }\n",
       "</style>\n",
       "<table border=\"1\" class=\"dataframe\">\n",
       "  <thead>\n",
       "    <tr style=\"text-align: right;\">\n",
       "      <th></th>\n",
       "      <th>Date</th>\n",
       "      <th>Open</th>\n",
       "      <th>High</th>\n",
       "      <th>Low</th>\n",
       "      <th>Close</th>\n",
       "      <th>Volume</th>\n",
       "      <th>Adj Close</th>\n",
       "    </tr>\n",
       "  </thead>\n",
       "  <tbody>\n",
       "    <tr>\n",
       "      <th>0</th>\n",
       "      <td>2012-01-03</td>\n",
       "      <td>59.970001</td>\n",
       "      <td>61.060001</td>\n",
       "      <td>59.869999</td>\n",
       "      <td>60.330002</td>\n",
       "      <td>12668800</td>\n",
       "      <td>52.619235</td>\n",
       "    </tr>\n",
       "    <tr>\n",
       "      <th>1</th>\n",
       "      <td>2012-01-04</td>\n",
       "      <td>60.209999</td>\n",
       "      <td>60.349998</td>\n",
       "      <td>59.470001</td>\n",
       "      <td>59.709999</td>\n",
       "      <td>9593300</td>\n",
       "      <td>52.078475</td>\n",
       "    </tr>\n",
       "    <tr>\n",
       "      <th>2</th>\n",
       "      <td>2012-01-05</td>\n",
       "      <td>59.349998</td>\n",
       "      <td>59.619999</td>\n",
       "      <td>58.369999</td>\n",
       "      <td>59.419998</td>\n",
       "      <td>12768200</td>\n",
       "      <td>51.825539</td>\n",
       "    </tr>\n",
       "    <tr>\n",
       "      <th>3</th>\n",
       "      <td>2012-01-06</td>\n",
       "      <td>59.419998</td>\n",
       "      <td>59.450001</td>\n",
       "      <td>58.869999</td>\n",
       "      <td>59.000000</td>\n",
       "      <td>8069400</td>\n",
       "      <td>51.459220</td>\n",
       "    </tr>\n",
       "    <tr>\n",
       "      <th>4</th>\n",
       "      <td>2012-01-09</td>\n",
       "      <td>59.029999</td>\n",
       "      <td>59.549999</td>\n",
       "      <td>58.919998</td>\n",
       "      <td>59.180000</td>\n",
       "      <td>6679300</td>\n",
       "      <td>51.616215</td>\n",
       "    </tr>\n",
       "  </tbody>\n",
       "</table>\n",
       "</div>"
      ],
      "text/plain": [
       "         Date       Open       High        Low      Close    Volume  Adj Close\n",
       "0  2012-01-03  59.970001  61.060001  59.869999  60.330002  12668800  52.619235\n",
       "1  2012-01-04  60.209999  60.349998  59.470001  59.709999   9593300  52.078475\n",
       "2  2012-01-05  59.349998  59.619999  58.369999  59.419998  12768200  51.825539\n",
       "3  2012-01-06  59.419998  59.450001  58.869999  59.000000   8069400  51.459220\n",
       "4  2012-01-09  59.029999  59.549999  58.919998  59.180000   6679300  51.616215"
      ]
     },
     "execution_count": 79,
     "metadata": {},
     "output_type": "execute_result"
    }
   ],
   "source": [
    "dataframe.head(5)  #printing first 5 data from dataframe"
   ]
  },
  {
   "cell_type": "markdown",
   "metadata": {},
   "source": [
    "5.Use describe() to learn about the DataFrame.\n",
    "A.+-------+------------------+-----------------+-----------------+-----------------+-----------------+-----------------+\n",
    "|summary|              Open|             High|              Low|            Close|           Volume|        Adj Close|\n",
    "+-------+------------------+-----------------+-----------------+-----------------+-----------------+-----------------+\n",
    "|  count|              1258|             1258|             1258|             1258|             1258|             1258|\n",
    "|   mean| 72.35785375357709|72.83938807631165| 71.9186009594594|72.38844998012726|8222093.481717011|67.23883848728146|\n",
    "| stddev|  6.76809024470826|6.768186808159218|6.744075756255496|6.756859163732991|  4519780.8431556|6.722609449996857|\n",
    "|    min|56.389998999999996|        57.060001|        56.299999|        56.419998|          2094900|        50.363689|\n",
    "|    max|         90.800003|        90.970001|            89.25|        90.470001|         80898100|84.91421600000001|"
   ]
  },
  {
   "cell_type": "code",
   "execution_count": 80,
   "metadata": {},
   "outputs": [
    {
     "data": {
      "text/html": [
       "<div>\n",
       "<style scoped>\n",
       "    .dataframe tbody tr th:only-of-type {\n",
       "        vertical-align: middle;\n",
       "    }\n",
       "\n",
       "    .dataframe tbody tr th {\n",
       "        vertical-align: top;\n",
       "    }\n",
       "\n",
       "    .dataframe thead th {\n",
       "        text-align: right;\n",
       "    }\n",
       "</style>\n",
       "<table border=\"1\" class=\"dataframe\">\n",
       "  <thead>\n",
       "    <tr style=\"text-align: right;\">\n",
       "      <th></th>\n",
       "      <th>Open</th>\n",
       "      <th>High</th>\n",
       "      <th>Low</th>\n",
       "      <th>Close</th>\n",
       "      <th>Volume</th>\n",
       "      <th>Adj Close</th>\n",
       "    </tr>\n",
       "  </thead>\n",
       "  <tbody>\n",
       "    <tr>\n",
       "      <th>count</th>\n",
       "      <td>1258.000000</td>\n",
       "      <td>1258.000000</td>\n",
       "      <td>1258.000000</td>\n",
       "      <td>1258.000000</td>\n",
       "      <td>1.258000e+03</td>\n",
       "      <td>1258.000000</td>\n",
       "    </tr>\n",
       "    <tr>\n",
       "      <th>mean</th>\n",
       "      <td>72.357854</td>\n",
       "      <td>72.839388</td>\n",
       "      <td>71.918601</td>\n",
       "      <td>72.388450</td>\n",
       "      <td>8.222093e+06</td>\n",
       "      <td>67.238838</td>\n",
       "    </tr>\n",
       "    <tr>\n",
       "      <th>std</th>\n",
       "      <td>6.768090</td>\n",
       "      <td>6.768187</td>\n",
       "      <td>6.744076</td>\n",
       "      <td>6.756859</td>\n",
       "      <td>4.519781e+06</td>\n",
       "      <td>6.722609</td>\n",
       "    </tr>\n",
       "    <tr>\n",
       "      <th>min</th>\n",
       "      <td>56.389999</td>\n",
       "      <td>57.060001</td>\n",
       "      <td>56.299999</td>\n",
       "      <td>56.419998</td>\n",
       "      <td>2.094900e+06</td>\n",
       "      <td>50.363689</td>\n",
       "    </tr>\n",
       "    <tr>\n",
       "      <th>25%</th>\n",
       "      <td>68.627503</td>\n",
       "      <td>69.059998</td>\n",
       "      <td>68.162503</td>\n",
       "      <td>68.632497</td>\n",
       "      <td>5.791100e+06</td>\n",
       "      <td>63.778335</td>\n",
       "    </tr>\n",
       "    <tr>\n",
       "      <th>50%</th>\n",
       "      <td>73.235000</td>\n",
       "      <td>73.725002</td>\n",
       "      <td>72.839996</td>\n",
       "      <td>73.265000</td>\n",
       "      <td>7.093500e+06</td>\n",
       "      <td>68.541162</td>\n",
       "    </tr>\n",
       "    <tr>\n",
       "      <th>75%</th>\n",
       "      <td>76.629997</td>\n",
       "      <td>77.094999</td>\n",
       "      <td>76.250000</td>\n",
       "      <td>76.709999</td>\n",
       "      <td>9.394675e+06</td>\n",
       "      <td>71.105668</td>\n",
       "    </tr>\n",
       "    <tr>\n",
       "      <th>max</th>\n",
       "      <td>90.800003</td>\n",
       "      <td>90.970001</td>\n",
       "      <td>89.250000</td>\n",
       "      <td>90.470001</td>\n",
       "      <td>8.089810e+07</td>\n",
       "      <td>84.914216</td>\n",
       "    </tr>\n",
       "  </tbody>\n",
       "</table>\n",
       "</div>"
      ],
      "text/plain": [
       "              Open         High          Low        Close        Volume  \\\n",
       "count  1258.000000  1258.000000  1258.000000  1258.000000  1.258000e+03   \n",
       "mean     72.357854    72.839388    71.918601    72.388450  8.222093e+06   \n",
       "std       6.768090     6.768187     6.744076     6.756859  4.519781e+06   \n",
       "min      56.389999    57.060001    56.299999    56.419998  2.094900e+06   \n",
       "25%      68.627503    69.059998    68.162503    68.632497  5.791100e+06   \n",
       "50%      73.235000    73.725002    72.839996    73.265000  7.093500e+06   \n",
       "75%      76.629997    77.094999    76.250000    76.709999  9.394675e+06   \n",
       "max      90.800003    90.970001    89.250000    90.470001  8.089810e+07   \n",
       "\n",
       "         Adj Close  \n",
       "count  1258.000000  \n",
       "mean     67.238838  \n",
       "std       6.722609  \n",
       "min      50.363689  \n",
       "25%      63.778335  \n",
       "50%      68.541162  \n",
       "75%      71.105668  \n",
       "max      84.914216  "
      ]
     },
     "execution_count": 80,
     "metadata": {},
     "output_type": "execute_result"
    }
   ],
   "source": [
    "dataframe.describe() # Generate describe for the DataFrame"
   ]
  },
  {
   "cell_type": "markdown",
   "metadata": {},
   "source": [
    "6.There are too many decimal places for mean and stddev in the describe() dataframe. Format the numbers to just show up to two decimal places. Pay careful attention to the datatypes that .describe() returns, we didn't cover how to do this exact formatting, but we covered something very similar.\n",
    "\n",
    "A.+-------+--------+--------+--------+--------+----------+\n",
    "|summary|    Open|    High|     Low|   Close|    Volume|\n",
    "+-------+--------+--------+--------+--------+----------+\n",
    "|  count|1,258.00|1,258.00|1,258.00|1,258.00|     1,258|\n",
    "|   mean|   72.36|   72.84|   71.92|   72.39| 8,222,093|\n",
    "| stddev|    6.77|    6.77|    6.74|    6.76| 4,519,780|\n",
    "|    min|   56.39|   57.06|   56.30|   56.42| 2,094,900|\n",
    "|    max|   90.80|   90.97|   89.25|   90.47|80,898,100|\n",
    "+-------+--------+--------+--------+--------+----------+"
   ]
  },
  {
   "cell_type": "code",
   "execution_count": 81,
   "metadata": {},
   "outputs": [
    {
     "name": "stdout",
     "output_type": "stream",
     "text": [
      "          Open     High      Low    Close       Volume  Adj Close\n",
      "count  1258.00  1258.00  1258.00  1258.00      1258.00    1258.00\n",
      "mean     72.36    72.84    71.92    72.39   8222093.48      67.24\n",
      "std       6.77     6.77     6.74     6.76   4519780.84       6.72\n",
      "min      56.39    57.06    56.30    56.42   2094900.00      50.36\n",
      "25%      68.63    69.06    68.16    68.63   5791100.00      63.78\n",
      "50%      73.24    73.73    72.84    73.26   7093500.00      68.54\n",
      "75%      76.63    77.09    76.25    76.71   9394675.00      71.11\n",
      "max      90.80    90.97    89.25    90.47  80898100.00      84.91\n"
     ]
    }
   ],
   "source": [
    "# Generate describe for the DataFrame\n",
    "data = dataframe.describe()\n",
    "\n",
    "# Round the values to two decimal places\n",
    "rounded_data = data.round(2)\n",
    "print(rounded_data)\n"
   ]
  },
  {
   "cell_type": "markdown",
   "metadata": {},
   "source": [
    "7.Create a new dataframe with a column called HV Ratio that is the ratio of the High Price versus volume of stock traded for a day.\n",
    "\n",
    "A.+--------------------+\n",
    "|            HV Ratio|\n",
    "+--------------------+\n",
    "|4.819714653321546E-6|\n",
    "|6.290848613094555E-6|\n",
    "|4.669412994783916E-6|\n",
    "|7.367338463826307E-6|\n",
    "|8.915604778943901E-6|\n",
    "|8.644477436914568E-6|\n",
    "|9.351828421515645E-6|\n",
    "| 8.29141562102703E-6|\n",
    "|7.712212102001476E-6|\n",
    "|7.071764823529412E-6|\n",
    "|1.015495466386981E-5|\n",
    "|6.576354146362592...|\n",
    "| 5.90145296180676E-6|\n",
    "|8.547679455011844E-6|\n",
    "|8.420709512685392E-6|\n",
    "|1.041448341728929...|\n",
    "|8.316075414862431E-6|\n",
    "|9.721183814992126E-6|\n",
    "|8.029436027707578E-6|\n",
    "|6.307432259386365E-6|\n",
    "+--------------------+\n",
    "only showing top 20 rows"
   ]
  },
  {
   "cell_type": "code",
   "execution_count": 82,
   "metadata": {},
   "outputs": [
    {
     "name": "stdout",
     "output_type": "stream",
     "text": [
      "0     0.000005\n",
      "1     0.000006\n",
      "2     0.000005\n",
      "3     0.000007\n",
      "4     0.000009\n",
      "5     0.000009\n",
      "6     0.000009\n",
      "7     0.000008\n",
      "8     0.000008\n",
      "9     0.000007\n",
      "10    0.000010\n",
      "11    0.000007\n",
      "12    0.000006\n",
      "13    0.000009\n",
      "14    0.000008\n",
      "15    0.000010\n",
      "16    0.000008\n",
      "17    0.000010\n",
      "18    0.000008\n",
      "19    0.000006\n",
      "Name: HV Ratio, dtype: float64\n"
     ]
    }
   ],
   "source": [
    "# function to calculate the High/Volume ratio\n",
    "def hv_ratio(row):\n",
    "    return row['High'] / row['Volume']\n",
    "\n",
    "dataframe['HV Ratio'] = dataframe.apply(hv_ratio, axis=1)\n",
    "\n",
    "# Extract the 'HV Ratio' column from the DataFrame\n",
    "new_dataframe = dataframe['HV Ratio']\n",
    "print(new_dataframe.head(20))\n"
   ]
  },
  {
   "cell_type": "markdown",
   "metadata": {},
   "source": [
    "8.What day had the Peak High in Price?\n",
    "A.datetime.datetime(2015, 1, 13, 0, 0)"
   ]
  },
  {
   "cell_type": "code",
   "execution_count": 83,
   "metadata": {},
   "outputs": [
    {
     "name": "stdout",
     "output_type": "stream",
     "text": [
      "761    2015-01-13\n",
      "Name: Date, dtype: object\n"
     ]
    }
   ],
   "source": [
    "# Finding the maximum value in the 'High' column\n",
    "maximum_high = dataframe['High'].max()\n",
    "\n",
    "# Creating a new DataFrame containing rows where 'High' is equal to the maximum value\n",
    "new_dataframe = dataframe[dataframe['High'] == maximum_high]\n",
    "\n",
    "print(new_dataframe['Date'])\n"
   ]
  },
  {
   "cell_type": "markdown",
   "metadata": {},
   "source": [
    "9.What is the max and min of the Volume column?\n",
    "A.+-----------+-----------+\n",
    "|max(Volume)|min(Volume)|\n",
    "+-----------+-----------+\n",
    "|   80898100|    2094900|\n",
    "+-----------+-----------+"
   ]
  },
  {
   "cell_type": "code",
   "execution_count": 84,
   "metadata": {},
   "outputs": [
    {
     "name": "stdout",
     "output_type": "stream",
     "text": [
      "Max of volume is: 80898100\n",
      "Min of volume is: 2094900\n"
     ]
    }
   ],
   "source": [
    "# Find the maximum volume in the 'Volume' column\n",
    "max_volume = dataframe['Volume'].max()\n",
    "\n",
    "# Find the minimum volume in the 'Volume' column\n",
    "min_volume = dataframe['Volume'].min()\n",
    "\n",
    "# Print the maximum and minimum volume values\n",
    "print(\"Max of volume is:\", max_volume)\n",
    "print(\"Min of volume is:\", min_volume)\n"
   ]
  },
  {
   "cell_type": "markdown",
   "metadata": {},
   "source": [
    "10.How many days was the Close lower than 60 dollars?\n",
    "A.81"
   ]
  },
  {
   "cell_type": "code",
   "execution_count": 85,
   "metadata": {},
   "outputs": [
    {
     "name": "stdout",
     "output_type": "stream",
     "text": [
      "81\n"
     ]
    }
   ],
   "source": [
    "data=(dataframe['Close']<60)\n",
    "print(data.sum())   # Count the number of True values in the boolean mask, indicating 'Close' values less than 60"
   ]
  },
  {
   "cell_type": "markdown",
   "metadata": {},
   "source": [
    "11.What percentage of the time was the High greater than 80 dollars ?\n",
    "A. 9.141494"
   ]
  },
  {
   "cell_type": "code",
   "execution_count": 100,
   "metadata": {},
   "outputs": [
    {
     "name": "stdout",
     "output_type": "stream",
     "text": [
      "9.141494435612083\n"
     ]
    }
   ],
   "source": [
    "# Create a boolean mask where 'High' values are greater than 80\n",
    "data=(dataframe['High']>80)\n",
    "greater_than_80=data.sum()\n",
    "total_count=data.count()\n",
    "\n",
    "# Calculate the percentage of 'High' values that are greater than 80\n",
    "print(100*greater_than_80/total_count)"
   ]
  },
  {
   "cell_type": "markdown",
   "metadata": {},
   "source": [
    "Spark Walmart Data Analysis Project\n",
    "\n",
    "Let's get some quick practice with your new Spark DataFrame skills, you will be asked some basic questions about some stock market data, in this case Walmart Stock from the years 2012-2017. This exercise will just ask a bunch of questions, unlike the machine learning exercises, which will be a little looser and be in the form of \"Consulting Projects\".\n",
    "\n",
    "For now, just answer the questions and complete the tasks below.\n",
    "\n",
    "Use the walmart_stock.csv file to Answer and complete the tasks below!\n"
   ]
  },
  {
   "cell_type": "markdown",
   "metadata": {},
   "source": [
    "\n",
    "1.Load the Walmart Stock CSV File, have Spark infer the data types."
   ]
  },
  {
   "cell_type": "code",
   "execution_count": null,
   "metadata": {},
   "outputs": [
    {
     "name": "stdout",
     "output_type": "stream",
     "text": [
      "            Date       Open       High        Low      Close    Volume  \\\n",
      "0     2012-01-03  59.970001  61.060001  59.869999  60.330002  12668800   \n",
      "1     2012-01-04  60.209999  60.349998  59.470001  59.709999   9593300   \n",
      "2     2012-01-05  59.349998  59.619999  58.369999  59.419998  12768200   \n",
      "3     2012-01-06  59.419998  59.450001  58.869999  59.000000   8069400   \n",
      "4     2012-01-09  59.029999  59.549999  58.919998  59.180000   6679300   \n",
      "...          ...        ...        ...        ...        ...       ...   \n",
      "1253  2016-12-23  69.430000  69.750000  69.360001  69.540001   4803900   \n",
      "1254  2016-12-27  69.300003  69.820000  69.250000  69.699997   4435700   \n",
      "1255  2016-12-28  69.940002  70.000000  69.260002  69.309998   4875700   \n",
      "1256  2016-12-29  69.209999  69.519997  69.120003  69.260002   4298400   \n",
      "1257  2016-12-30  69.120003  69.430000  68.830002  69.120003   6889500   \n",
      "\n",
      "      Adj Close  \n",
      "0     52.619235  \n",
      "1     52.078475  \n",
      "2     51.825539  \n",
      "3     51.459220  \n",
      "4     51.616215  \n",
      "...         ...  \n",
      "1253  69.032411  \n",
      "1254  69.191240  \n",
      "1255  68.804087  \n",
      "1256  68.754456  \n",
      "1257  68.615479  \n",
      "\n",
      "[1258 rows x 7 columns]\n",
      "Date          object\n",
      "Open         float64\n",
      "High         float64\n",
      "Low          float64\n",
      "Close        float64\n",
      "Volume         int64\n",
      "Adj Close    float64\n",
      "dtype: object\n"
     ]
    }
   ],
   "source": [
    "# Import the pandas library as pd\n",
    "import pandas as pd  \n",
    "\n",
    "# Read the CSV file 'walmart_stock.csv' into a pandas DataFrame\n",
    "dataframe = pd.read_csv('walmart_stock.csv')   \n",
    "\n",
    "# Print the entire DataFrame to the console\n",
    "print(dataframe)\n",
    "\n",
    "# Get and print the data types of each column in the DataFrame\n",
    "datatype = dataframe.dtypes\n",
    "print(datatype)\n"
   ]
  },
  {
   "cell_type": "markdown",
   "metadata": {},
   "source": [
    "12.What is the Pearson correlation between High and Volume?\n",
    "A.+-------------------+\n",
    "| corr(High, Volume)|\n",
    "+-------------------+\n",
    "|-0.3384326061737161|\n",
    "+-------------------+"
   ]
  },
  {
   "cell_type": "code",
   "execution_count": 87,
   "metadata": {},
   "outputs": [
    {
     "name": "stdout",
     "output_type": "stream",
     "text": [
      "Pearson correlation between High and Volume:\n",
      "-0.3384326061737167\n"
     ]
    }
   ],
   "source": [
    "# Calculate the Pearson correlation between 'High' and 'Volume'\n",
    "correlation = dataframe['High'].corr(dataframe['Volume'])\n",
    "\n",
    "# Display the result\n",
    "print(\"Pearson correlation between High and Volume:\")\n",
    "print(correlation)"
   ]
  },
  {
   "cell_type": "markdown",
   "metadata": {},
   "source": [
    "13.What is the max High per year?\n",
    "A.+----+---------+\n",
    "|Year|max(High)|\n",
    "+----+---------+\n",
    "|2015|90.970001|\n",
    "|2013|81.370003|\n",
    "|2014|88.089996|\n",
    "|2012|77.599998|\n",
    "|2016|75.190002|\n",
    "+----+---------+"
   ]
  },
  {
   "cell_type": "code",
   "execution_count": 99,
   "metadata": {},
   "outputs": [
    {
     "name": "stdout",
     "output_type": "stream",
     "text": [
      "Years\n",
      "2012    77.599998\n",
      "2013    81.370003\n",
      "2014    88.089996\n",
      "2015    90.970001\n",
      "2016    75.190002\n",
      "Name: High, dtype: float64\n"
     ]
    }
   ],
   "source": [
    "# Define the group_by_year function to extract the year from the datetime object\n",
    "def group_by_year(dataframe):\n",
    "    return dataframe['Date'].split('-')[0]\n",
    "\n",
    "dataframe['Years']=dataframe.apply(group_by_year,axis=1)\n",
    "\n",
    "# Group the DataFrame by the 'Years' column\n",
    "ans=dataframe.groupby('Years')\n",
    "# Calculate the maximum High price for each year\n",
    "print(ans['High'].max())"
   ]
  },
  {
   "cell_type": "markdown",
   "metadata": {},
   "source": [
    "14.What is the average Close for each Calendar Month?\n",
    "In other words, across all the years, what is the average Close price for Jan,Feb, Mar, etc... Your result will have a value for each of these months.\n",
    "\n",
    "A.+-----+-----------------+\n",
    "|Month|       avg(Close)|\n",
    "+-----+-----------------+\n",
    "|    1|71.44801958415842|\n",
    "|    2|  71.306804443299|\n",
    "|    3|71.77794377570092|\n",
    "|    4|72.97361900952382|\n",
    "|    5|72.30971688679247|\n",
    "|    6| 72.4953774245283|\n",
    "|    7|74.43971943925233|\n",
    "|    8|73.02981855454546|\n",
    "|    9|72.18411785294116|\n",
    "|   10|71.57854545454543|\n",
    "|   11| 72.1110893069307|\n",
    "|   12|72.84792478301885|\n",
    "+-----+-----------------+"
   ]
  },
  {
   "cell_type": "code",
   "execution_count": 98,
   "metadata": {},
   "outputs": [
    {
     "name": "stdout",
     "output_type": "stream",
     "text": [
      "Month\n",
      "01    71.448020\n",
      "02    71.306804\n",
      "03    71.777944\n",
      "04    72.973619\n",
      "05    72.309717\n",
      "06    72.495377\n",
      "07    74.439719\n",
      "08    73.029819\n",
      "09    72.184118\n",
      "10    71.578545\n",
      "11    72.111089\n",
      "12    72.847925\n",
      "Name: Close, dtype: float64\n"
     ]
    }
   ],
   "source": [
    "# Define the group_by_month function to extract the month from the datetime object\n",
    "def group_by_month(dataframe):\n",
    "    return dataframe['Date'].split('-')[1]\n",
    "\n",
    "dataframe['Month']=dataframe.apply(group_by_month,axis=1)\n",
    "\n",
    "# Group the DataFrame by the 'Month' column\n",
    "ans=dataframe.groupby('Month')\n",
    "\n",
    "# Calculate the mean closing price for each month\n",
    "print(ans['Close'].mean())"
   ]
  }
 ],
 "metadata": {
  "kernelspec": {
   "display_name": "base",
   "language": "python",
   "name": "python3"
  },
  "language_info": {
   "codemirror_mode": {
    "name": "ipython",
    "version": 3
   },
   "file_extension": ".py",
   "mimetype": "text/x-python",
   "name": "python",
   "nbconvert_exporter": "python",
   "pygments_lexer": "ipython3",
   "version": "3.11.5"
  }
 },
 "nbformat": 4,
 "nbformat_minor": 2
}
