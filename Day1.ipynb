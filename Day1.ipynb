{
 "cells": [
  {
   "cell_type": "code",
   "execution_count": 1,
   "id": "6b766c9a",
   "metadata": {},
   "outputs": [
    {
     "name": "stdout",
     "output_type": "stream",
     "text": [
      "Hello World\n"
     ]
    }
   ],
   "source": [
    "print(\"Hello World\")"
   ]
  },
  {
   "cell_type": "code",
   "execution_count": null,
   "id": "d8a7b891",
   "metadata": {},
   "outputs": [],
   "source": [
    "#Many Values to Multiple Variables\n",
    "# cars = [\"Swift\", \"Verna\", \"Seltos\", \"Legender\"]\n",
    "# a,b,c,d=cars\n",
    "# print(a)\n",
    "# print(b)\n",
    "# print(c)\n",
    "# print(d)\n",
    "\n",
    "#variables\n",
    "# x = \"Python\"\n",
    "# y = \"is\"\n",
    "# z = \"awesome\"\n",
    "# print(x, y, z)\n",
    "\n",
    "#variable type\n",
    "# x = 5\n",
    "# print(type(x))\n",
    "\n",
    "#printing table of 5\n",
    "# for i in range(1,11,1):  # the range will run till 10 only\n",
    "#   print(5*i)\n",
    "\n",
    "# counting odd and even numbers between 1 to 30\n",
    "# count_even=0\n",
    "# count_odd=0\n",
    "# for i in range(1,31,1):\n",
    "#   if(i%2==0):\n",
    "#     count_even+=1\n",
    "#   else:\n",
    "#     count_odd+=1\n",
    "\n",
    "# print(\"Count of even numbers are: \", count_even)\n",
    "# print(\"Count of odd numbers are: \", count_odd)\n",
    "\n",
    "#user input\n",
    "# value=input(\"Enter value of your choice: \")\n",
    "# print(value)\n",
    "\n",
    "#function calling\n",
    "# def add(x,y):\n",
    "#   result=x+y\n",
    "#   return result\n",
    "# add(2,3)\n",
    "\n",
    "# factorial\n",
    "# n=int(input(\"Enter number: \"))\n",
    "# fact=1\n",
    "# for i in range(1,n+1,1):\n",
    "#   fact=fact*i\n",
    "\n",
    "# print(fact)\n",
    "\n",
    "#factorial using recursion\n",
    "# n=int(input())\n",
    "# def factorial(n):\n",
    "#   if n<=1:\n",
    "#     return 1\n",
    "#   else:\n",
    "#     return n*factorial(n-1)\n",
    "\n",
    "# print(factorial(n))\n",
    "\n",
    "#print fibonacci using user input with recursion\n",
    "# num=int(input(\"Enter number: \"))\n",
    "# num=5\n",
    "# def fib(num):\n",
    "#   if(num<=1):\n",
    "#     return num\n",
    "#   else:\n",
    "#     return (fib(num-1)+fib(num-2))\n",
    "\n",
    "# for i in range(num):\n",
    "#   print(fib(i),end=\" \")\n",
    "\n",
    "\n",
    "#print fibonacci using user input without recursion\n",
    "# num=int(input(\"Enter number: \"))\n",
    "# a=0\n",
    "# b=1\n",
    "# print(a)\n",
    "# print(b)\n",
    "# for i in range(1,num-1,1):\n",
    "#   c=a+b\n",
    "#   print(c)\n",
    "#   a=b\n",
    "#   b=c\n"
   ]
  },
  {
   "cell_type": "code",
   "execution_count": 2,
   "id": "43df0b3c",
   "metadata": {},
   "outputs": [
    {
     "name": "stdout",
     "output_type": "stream",
     "text": [
      "1\n",
      "12\n",
      "123\n",
      "1234\n"
     ]
    }
   ],
   "source": [
    "n = 5\n",
    "for i in range(1,5):\n",
    "    for j in range(1,i+1):\n",
    "        print(j, end=\"\")\n",
    "    n += 1\n",
    "        \n",
    "    print(\"\")"
   ]
  },
  {
   "cell_type": "code",
   "execution_count": 3,
   "id": "0e57cc11",
   "metadata": {},
   "outputs": [
    {
     "name": "stdout",
     "output_type": "stream",
     "text": [
      "4\n",
      "   1 \n",
      "  2 3 \n",
      " 4 5 6 \n",
      "7 8 9 10 \n"
     ]
    }
   ],
   "source": [
    "#pattern printing\n",
    "n = int(input())\n",
    "spaces = n-1\n",
    "count = 1\n",
    "for i in range(1, n+1, 1):\n",
    "    for space in range(spaces-i+1, 0, -1):\n",
    "        print(\" \", end = \"\")\n",
    "\n",
    "    for num in range(1, i+1, 1):\n",
    "        print(count, end = \" \" )\n",
    "        count += 1\n",
    "        \n",
    "    print()\n",
    "    "
   ]
  },
  {
   "cell_type": "markdown",
   "id": "ea0ce794",
   "metadata": {},
   "source": [
    "# Assignment"
   ]
  },
  {
   "cell_type": "markdown",
   "id": "e1f0e3e8",
   "metadata": {},
   "source": [
    "# 1.\n",
    "Given an array 'arr' containing 'n' elements, rotate this array left once and return it. Rotating the array left by one means shifting all elements by one place to the left and moving the first element to the last position in the array.\n",
    "\n",
    "Example:\n",
    "\n",
    "Input: 'a' = 5, 'arr' = [1, 2, 3, 4, 5] Output: [2, 3, 4, 5, 1]\n",
    "\n",
    "Explanation: We moved the 2nd element to the 1st position, and 3rd element to the 2nd position, and 4th element to the 3rd position, and the 5th element to the 4th position, and move the 1st element to the 5th position."
   ]
  },
  {
   "cell_type": "code",
   "execution_count": 6,
   "id": "dc851889",
   "metadata": {},
   "outputs": [
    {
     "name": "stdout",
     "output_type": "stream",
     "text": [
      "2, 3, 4, 5, 1, "
     ]
    }
   ],
   "source": [
    "a=5\n",
    "list1=[1,2,3,4,5]\n",
    "temp=list1[0]\n",
    "for i in range(a-1):\n",
    "    list1[i]=list1[i+1]\n",
    "    \n",
    "list1[a-1]=temp\n",
    "\n",
    "for i in range(a):\n",
    "    print(list1[i],end=\", \")"
   ]
  },
  {
   "cell_type": "markdown",
   "id": "803da6e8",
   "metadata": {},
   "source": [
    "# 2.\n",
    "You are given an array 'arr' of length 'n', consisting of integers. A subarray is a contiguous segment of an array. In other words, a subarray can be formed by removing 0 or more integers from the beginning and 0 or more integers from the end of an array. Find the sum of the subarray (including empty subarray) having maximum sum among all subarrays. The sum of an empty subarray is 0.\n",
    "\n",
    "Example :\n",
    "\n",
    "Input: 'arr' = [1, 2, 7, -4, 3, 2, -10, 9, 1]\n",
    "\n",
    "Output: 11\n",
    "\n",
    "Explanation: The subarray yielding the maximum sum is [1, 2, 7, -4, 3, 2]."
   ]
  },
  {
   "cell_type": "code",
   "execution_count": 9,
   "id": "83ad990d",
   "metadata": {},
   "outputs": [
    {
     "name": "stdout",
     "output_type": "stream",
     "text": [
      "11\n"
     ]
    }
   ],
   "source": [
    "arr=[1, 2, 7, -4, 3, 2, -10, 9, 1]\n",
    "curr_sum=0\n",
    "max_sum=0\n",
    "for i in range(len(arr)):\n",
    "    curr_sum+=arr[i]\n",
    "    max_sum=max(curr_sum,max_sum)\n",
    "    if(curr_sum<0):\n",
    "        curr_sum=0\n",
    "\n",
    "print(max_sum)"
   ]
  },
  {
   "cell_type": "markdown",
   "id": "5dc46a05",
   "metadata": {},
   "source": [
    "# 3.\n",
    "Write a function to reverse a string without using any built-in reverse functions."
   ]
  },
  {
   "cell_type": "code",
   "execution_count": 2,
   "id": "be161d74",
   "metadata": {},
   "outputs": [
    {
     "name": "stdout",
     "output_type": "stream",
     "text": [
      "ARGAHSUK\n"
     ]
    }
   ],
   "source": [
    "str1=\"KUSHAGRA\"\n",
    "str2=\"\"\n",
    "for i in range(len(str1)-1,-1,-1):\n",
    "    str2+=str1[i]\n",
    "    \n",
    "print(str2)\n",
    "\n",
    "# string = \"abcd\"\n",
    "# reverse_string = string[::-1]\n",
    "# reverse_string"
   ]
  },
  {
   "cell_type": "markdown",
   "id": "27e6d817",
   "metadata": {},
   "source": [
    "# 4\n",
    "Write a function to check if two strings are anagrams of each other.\n",
    "\n",
    "Example:\n",
    "\n",
    "Input 1: \"listen\"\n",
    "\n",
    "Input 2: \"silent\"\n",
    "\n",
    "Output: Are Anagrams: True\n",
    "\n",
    "Explanation\n",
    "\n",
    "function first removes spaces and converts both input strings to lowercase to make the comparison case-insensitive. Then, it checks if the sorted list of characters in both strings is the same. If they are the same, the strings are anagrams.\n",
    "\n",
    "The function returns True for this example because the characters in \"listen\" can be rearranged to form \"silent.\" If the characters were different or had different frequencies, the function would return False."
   ]
  },
  {
   "cell_type": "code",
   "execution_count": 17,
   "id": "d3df2306",
   "metadata": {},
   "outputs": [
    {
     "data": {
      "text/plain": [
       "True"
      ]
     },
     "execution_count": 17,
     "metadata": {},
     "output_type": "execute_result"
    }
   ],
   "source": [
    "def check_anagram(string1, string2):\n",
    "    return sorted(string1) == sorted(string2)     \n",
    "\n",
    "    \n",
    "string1 = \"listen\"\n",
    "string2 = \"silent\"\n",
    "    \n",
    "check_anagram(string1, string2)"
   ]
  },
  {
   "cell_type": "markdown",
   "id": "4f21244c",
   "metadata": {},
   "source": [
    "# Practice Questions... "
   ]
  },
  {
   "cell_type": "markdown",
   "id": "1c360d35",
   "metadata": {},
   "source": [
    "# 1.\n",
    "Write a program to print all the unique characters in a String. For instance, if the input string is “abcb”, the output will be the characters ‘a’ and ‘c’ as they are unique. The character ‘b’ repeats twice and so it will not be printed.\n",
    "\n",
    "Input: abcab\n",
    "\n",
    "Output: c"
   ]
  },
  {
   "cell_type": "code",
   "execution_count": 25,
   "id": "a4225742",
   "metadata": {},
   "outputs": [
    {
     "name": "stdout",
     "output_type": "stream",
     "text": [
      "mkmkml\n",
      "l\n"
     ]
    }
   ],
   "source": [
    "str1 = input()\n",
    "my_dict = {}\n",
    "\n",
    "for i in str1:\n",
    "    if i in my_dict:\n",
    "        my_dict[i] += 1\n",
    "    else:\n",
    "        my_dict[i] = 1\n",
    "\n",
    "for key, value in my_dict.items():\n",
    "    if value == 1:\n",
    "        print(key)\n"
   ]
  },
  {
   "cell_type": "markdown",
   "id": "182bd185",
   "metadata": {},
   "source": [
    "# 2.\n",
    "Given three values - Start Fahrenheit Value (S), End Fahrenheit value (E) and Step Size (W), you need to convert all Fahrenheit values from Start to End at the gap of W, into their corresponding Celsius values and print the table.\n",
    "\n",
    "Sample Input : 120 200 40\n",
    "\n",
    "Sample Output : 120 48 160 71 200 93"
   ]
  },
  {
   "cell_type": "code",
   "execution_count": 37,
   "id": "80a689b7",
   "metadata": {},
   "outputs": [
    {
     "name": "stdout",
     "output_type": "stream",
     "text": [
      "5\n",
      "95\n",
      "5\n"
     ]
    },
    {
     "data": {
      "text/plain": [
       "[-15, -12, -9, -6, -3, -1, 1, 4, 7, 10, 12, 15, 18, 21, 23, 26, 29, 32, 35]"
      ]
     },
     "execution_count": 37,
     "metadata": {},
     "output_type": "execute_result"
    }
   ],
   "source": [
    "def fahrenheit_to_celsius(start_f, end_f, step):\n",
    "    result = []\n",
    "    while start_f <= end_f:\n",
    "        celsius = int((start_f - 32) * 5/9)\n",
    "        result.append(celsius)\n",
    "        start_f = start_f + step      \n",
    "    return result \n",
    "\n",
    "start_f = int(input())\n",
    "end_f = int(input())\n",
    "step = int(input())\n",
    "\n",
    "fahrenheit_to_celsius(start_f, end_f, step)"
   ]
  },
  {
   "cell_type": "markdown",
   "id": "b00ee0ef",
   "metadata": {},
   "source": [
    "# 3.\n",
    "write a program to input an integer 'n' and print the sum of all its even digits and the sum of all its odd digits separately.\n",
    "\n",
    "Digits mean numbers, not places! That is, if the given integer is \"132456\", even digits are 2, 4, and 6, and odd digits are 1, 3, and 5.\n",
    "\n",
    "Example :\n",
    "\n",
    "Input: 'n' = 132456 Output: 12 9\n",
    "\n",
    "Explanation:\n",
    "\n",
    "The sum of even digits = 2 + 4 + 6 = 12 The sum of odd digits = 1 + 3 + 5 = 9"
   ]
  },
  {
   "cell_type": "code",
   "execution_count": 38,
   "id": "5828ba71",
   "metadata": {},
   "outputs": [
    {
     "name": "stdout",
     "output_type": "stream",
     "text": [
      "123456\n",
      "Sum of even Numbers 12\n",
      "Sum of odd Numbers 9\n"
     ]
    }
   ],
   "source": [
    "n = int(input())\n",
    "sum_even = 0\n",
    "sum_odd = 0\n",
    "\n",
    "while n > 0:\n",
    "    digit = n % 10\n",
    "    if digit % 2 == 0:\n",
    "        sum_even = sum_even + digit\n",
    "    else:\n",
    "        sum_odd = sum_odd + digit\n",
    "    n = n//10\n",
    "    \n",
    "print(\"Sum of even Numbers\",sum_even)\n",
    "print(\"Sum of odd Numbers\",sum_odd)"
   ]
  },
  {
   "cell_type": "markdown",
   "id": "a81f4b7a",
   "metadata": {},
   "source": [
    "# 4.\n",
    "Write a program that takes a number as input and prints all its factors except 1 and the number itself.. If the number has only two factors (1 and the number itself), then the program should print -1.\n",
    "\n",
    "Sample Input: 8\n",
    "\n",
    "Sample Output: 2 4\n",
    "\n",
    "Explanation of Sample Output 1 : The factors for the number excluding 1 and itself are 2 and 4, so the output is 2 4."
   ]
  },
  {
   "cell_type": "code",
   "execution_count": 42,
   "id": "e0eba954",
   "metadata": {},
   "outputs": [
    {
     "name": "stdout",
     "output_type": "stream",
     "text": [
      "11\n",
      "-1\n"
     ]
    }
   ],
   "source": [
    "num = int(input())\n",
    "c=0\n",
    "for i in range(2, num, 1):\n",
    "    if num % i == 0:\n",
    "        print(i,end=\" \")\n",
    "        c+=1\n",
    "\n",
    "\n",
    "if c == 0:\n",
    "    print(-1)\n"
   ]
  },
  {
   "cell_type": "markdown",
   "id": "de0e43d7",
   "metadata": {},
   "source": [
    "# 5.\n",
    "Write a program to find x to the power n (i.e. x^n). Take x and n from the user. You need to print the answer.\n",
    "\n",
    "Note : For this question, you can assume that 0 raised to the power of 0 is 1\n",
    "\n",
    "Sample Input : 3 4\n",
    "\n",
    "Sample Output : 81"
   ]
  },
  {
   "cell_type": "code",
   "execution_count": 43,
   "id": "0630e4a9",
   "metadata": {},
   "outputs": [
    {
     "name": "stdout",
     "output_type": "stream",
     "text": [
      "Enter the Number: 2\n",
      "Enter the power: 4\n"
     ]
    },
    {
     "data": {
      "text/plain": [
       "16"
      ]
     },
     "execution_count": 43,
     "metadata": {},
     "output_type": "execute_result"
    }
   ],
   "source": [
    "x = int(input(\"Enter the Number: \"))\n",
    "n = int(input(\"Enter the power: \")) \n",
    "pow(x,n)"
   ]
  },
  {
   "cell_type": "markdown",
   "id": "199cf664",
   "metadata": {},
   "source": [
    "# 6.\n",
    "Write a program to generate the reverse of a given number N. Print the corresponding reverse number.\n",
    "\n",
    "Note : If a number has trailing zeros, then its reverse will not include them. For e.g., reverse of 10400 will be 401 instead of 00401.\n",
    "\n",
    "Sample Input 1 : 1234\n",
    "\n",
    "Sample Output 1 : 4321"
   ]
  },
  {
   "cell_type": "code",
   "execution_count": 1,
   "id": "f2d962bb",
   "metadata": {},
   "outputs": [
    {
     "name": "stdout",
     "output_type": "stream",
     "text": [
      "Enter the number: 1200\n",
      "21\n"
     ]
    }
   ],
   "source": [
    "num = int(input(\"Enter the number: \"))\n",
    "\n",
    "rev = 0\n",
    "while num != 0:\n",
    "    digit = num % 10\n",
    "    rev = rev * 10 + digit\n",
    "    num = num // 10\n",
    "    \n",
    "print(rev)"
   ]
  },
  {
   "cell_type": "markdown",
   "id": "3ec10e4a",
   "metadata": {},
   "source": [
    "# Pattern"
   ]
  },
  {
   "cell_type": "markdown",
   "id": "0a41078e",
   "metadata": {},
   "source": [
    "# 1.\n",
    "Print the following pattern for the given N number of rows.\n",
    "\n",
    "Pattern for N = 4\n",
    "\n",
    "A\n",
    "\n",
    "BC\n",
    "\n",
    "CDE\n",
    "\n",
    "DEFG"
   ]
  },
  {
   "cell_type": "code",
   "execution_count": 53,
   "id": "ebb2ae4d",
   "metadata": {},
   "outputs": [
    {
     "name": "stdout",
     "output_type": "stream",
     "text": [
      "Enter the number: 4\n",
      "A\n",
      "BC\n",
      "DEF\n",
      "GHIJ\n"
     ]
    }
   ],
   "source": [
    "n = int(input(\"Enter the number: \"))\n",
    "count = 0\n",
    "for i in range(1,n+1):\n",
    "    for j in range(1,i+1):\n",
    "        print(chr(65 + count), end =\"\")\n",
    "        count += 1     \n",
    "    print(\"\")"
   ]
  },
  {
   "cell_type": "markdown",
   "id": "1ae4944c",
   "metadata": {},
   "source": [
    "# 2.\n",
    "Print the following pattern for the given N number of rows.\n",
    "\n",
    "Pattern for N = 4\n",
    "\n",
    "1\n",
    "\n",
    "21\n",
    "\n",
    "321\n",
    "\n",
    "4321"
   ]
  },
  {
   "cell_type": "code",
   "execution_count": 54,
   "id": "f484eb9f",
   "metadata": {},
   "outputs": [
    {
     "name": "stdout",
     "output_type": "stream",
     "text": [
      "Enter the number: 4\n",
      "1\n",
      "21\n",
      "321\n",
      "4321\n"
     ]
    }
   ],
   "source": [
    "n = int(input(\"Enter the number: \"))\n",
    "\n",
    "for i in range(1, n+1, 1):\n",
    "    for j in range(i, 0 , -1):\n",
    "        print(j, end=\"\")\n",
    "    print(\"\")"
   ]
  },
  {
   "cell_type": "markdown",
   "id": "5ece1ac9",
   "metadata": {},
   "source": [
    "# 3.\n",
    "Print the following pattern for the given N number of rows.\n",
    "\n",
    "Pattern for N = 3\n",
    "\n",
    "A\n",
    "\n",
    "BB\n",
    "\n",
    "CCC"
   ]
  },
  {
   "cell_type": "code",
   "execution_count": 59,
   "id": "bc7ed99b",
   "metadata": {},
   "outputs": [
    {
     "name": "stdout",
     "output_type": "stream",
     "text": [
      "Enter the number: 4\n",
      "\n",
      "A\n",
      "BB\n",
      "CCC\n",
      "DDDD\n"
     ]
    }
   ],
   "source": [
    "n = int(input(\"Enter the number: \"))\n",
    "\n",
    "for i in range(n+1):\n",
    "    for j in range(i):\n",
    "        print(chr(64 + i), end =\"\")    \n",
    "    print(\"\")"
   ]
  },
  {
   "cell_type": "markdown",
   "id": "34dc6e3d",
   "metadata": {},
   "source": [
    "# 5.\n",
    "Print the following pattern for the given number of rows.\n",
    "\n",
    "Pattern for N = 5\n",
    "\n",
    "E\n",
    "\n",
    "DE\n",
    "\n",
    "CDE\n",
    "\n",
    "BCDE\n",
    "\n",
    "ABCDE"
   ]
  },
  {
   "cell_type": "code",
   "execution_count": 67,
   "id": "3e23a8c0",
   "metadata": {},
   "outputs": [
    {
     "name": "stdout",
     "output_type": "stream",
     "text": [
      "4\n",
      "E\n",
      "DE\n",
      "CDE\n",
      "BCDE\n"
     ]
    }
   ],
   "source": [
    "n=int(input())\n",
    "for i in range(1,n+1,1):\n",
    "    ch=69-i\n",
    "    for j in range(1,i+1,1):\n",
    "        print(chr(ch+j),end=\"\")\n",
    "    print()"
   ]
  },
  {
   "cell_type": "code",
   "execution_count": null,
   "id": "6a901c19",
   "metadata": {},
   "outputs": [],
   "source": [
    "6.Write a program to print parallelogram pattern for the given N number of rows.\n",
    "\n",
    "For N = 3\n",
    "***\n",
    " ***\n",
    "  ***"
   ]
  },
  {
   "cell_type": "code",
   "execution_count": 68,
   "id": "6bb9fe50",
   "metadata": {},
   "outputs": [
    {
     "name": "stdout",
     "output_type": "stream",
     "text": [
      "4\n",
      "****\n",
      " ****\n",
      "  ****\n",
      "   ****\n"
     ]
    }
   ],
   "source": [
    "n = int(input())\n",
    "spaces = n-1\n",
    "count = 1\n",
    "for i in range(1, n+1, 1):\n",
    "    for space in range(1, i, 1):\n",
    "        print(\" \", end = \"\")\n",
    "\n",
    "    for num in range(0, n, 1):\n",
    "        print(\"*\", end = \"\" )\n",
    "        count += 1\n",
    "        \n",
    "    print()"
   ]
  },
  {
   "cell_type": "markdown",
   "id": "3cc7d022",
   "metadata": {},
   "source": [
    "# 7.\n",
    "\n",
    "Pattern for N = 3\n",
    "      1 \n",
    "     12\n",
    "    123"
   ]
  },
  {
   "cell_type": "code",
   "execution_count": 73,
   "id": "f04798f9",
   "metadata": {},
   "outputs": [
    {
     "name": "stdout",
     "output_type": "stream",
     "text": [
      "9\n",
      "        1\n",
      "       12\n",
      "      123\n",
      "     1234\n",
      "    12345\n",
      "   123456\n",
      "  1234567\n",
      " 12345678\n",
      "123456789\n"
     ]
    }
   ],
   "source": [
    "n = int(input())\n",
    "spaces = n-1\n",
    "count = 1\n",
    "for i in range(1,n+1,1):\n",
    "    for space in range(1, n-i+1, 1):\n",
    "        print(\" \", end = \"\")\n",
    "\n",
    "    for num in range(1, i+1, 1):\n",
    "        print(num, end = \"\" )\n",
    "        count += 1\n",
    "        \n",
    "    print()"
   ]
  },
  {
   "cell_type": "markdown",
   "id": "df7c9a5a",
   "metadata": {},
   "source": [
    "# 8.Write a program to print the pattern for the given N number of rows.\n",
    "\n",
    "For N = 4\n",
    "\n",
    "1357\n",
    "3571\n",
    "5713\n",
    "7135"
   ]
  },
  {
   "cell_type": "code",
   "execution_count": 82,
   "id": "3a16f27d",
   "metadata": {},
   "outputs": [
    {
     "name": "stdout",
     "output_type": "stream",
     "text": [
      "4\n",
      "1357\n",
      "3571\n",
      "5713\n",
      "7135\n"
     ]
    }
   ],
   "source": [
    "n=int(input())\n",
    "\n",
    "for i in range(1,n+1,1):\n",
    "    for j in range(i,n+1,1):\n",
    "        print(2*j-1,end=\"\")\n",
    "        \n",
    "    for k in range(1,i,1):\n",
    "        print(2*k-1,end=\"\")\n",
    "        \n",
    "    print()"
   ]
  }
 ],
 "metadata": {
  "kernelspec": {
   "display_name": "Python 3 (ipykernel)",
   "language": "python",
   "name": "python3"
  },
  "language_info": {
   "codemirror_mode": {
    "name": "ipython",
    "version": 3
   },
   "file_extension": ".py",
   "mimetype": "text/x-python",
   "name": "python",
   "nbconvert_exporter": "python",
   "pygments_lexer": "ipython3",
   "version": "3.11.5"
  }
 },
 "nbformat": 4,
 "nbformat_minor": 5
}
