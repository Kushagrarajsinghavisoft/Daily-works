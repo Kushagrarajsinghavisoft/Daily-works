{
 "cells": [
  {
   "cell_type": "markdown",
   "id": "27ec0111",
   "metadata": {},
   "source": [
    "# Assignment"
   ]
  },
  {
   "cell_type": "markdown",
   "id": "823e5b2a",
   "metadata": {},
   "source": [
    "#### 1.Given an array/list(ARR) of length N, you need to find and return the sum of all the elements in the array/list.\n",
    "Sample Input 1:\n",
    "3\n",
    "9 8 9\n",
    "Sample Output 1:\n",
    "26"
   ]
  },
  {
   "cell_type": "code",
   "execution_count": 8,
   "id": "f50b8653",
   "metadata": {},
   "outputs": [
    {
     "name": "stdout",
     "output_type": "stream",
     "text": [
      "3\n",
      "8\n",
      "9\n",
      "8\n",
      "[8, 9, 8]\n",
      "25\n"
     ]
    }
   ],
   "source": [
    "n=int(input())\n",
    "list1=[]\n",
    "sum=0\n",
    "for i in range(n):\n",
    "    list1.append(int(input()))\n",
    "    sum+=list1[i]\n",
    "    \n",
    "print(list1)\n",
    "    \n",
    "    \n",
    "print(sum)"
   ]
  },
  {
   "cell_type": "markdown",
   "id": "4b508d98",
   "metadata": {},
   "source": [
    "#### 2.Given an array/list 'ARR' of integers and a position ‘M’. You have to reverse the array after that position.\n",
    "Example:\n",
    "We have an array ARR = {1, 2, 3, 4, 5, 6} and M = 3 , considering 0 \n",
    "based indexing so the subarray {5, 6} will be reversed and our \n",
    "output array will be {1, 2, 3, 4, 6, 5}."
   ]
  },
  {
   "cell_type": "code",
   "execution_count": 13,
   "id": "7f7b79c7",
   "metadata": {},
   "outputs": [
    {
     "name": "stdout",
     "output_type": "stream",
     "text": [
      "6\n",
      "1\n",
      "2\n",
      "3\n",
      "4\n",
      "5\n",
      "6\n",
      "[1, 2, 3, 4, 5, 6]\n",
      "1\n",
      "[1, 2, 6, 5, 4, 3]\n"
     ]
    }
   ],
   "source": [
    "n=int(input())\n",
    "list1=[]\n",
    "for i in range(n):\n",
    "    list1.append(int(input()))\n",
    "    \n",
    "print(list1)\n",
    "\n",
    "m=int(input())\n",
    "s=m+1\n",
    "e=n-1\n",
    "while(s<=e):\n",
    "    list1[s],list1[e]=list1[e],list1[s]\n",
    "    s+=1\n",
    "    e-=1\n",
    "    \n",
    "print(list1)"
   ]
  },
  {
   "cell_type": "markdown",
   "id": "b7474379",
   "metadata": {},
   "source": [
    "#### 3.You are given an arbitrary array ‘arr’ consisting of N non-negative integers, where every element appears thrice except one. You need to find the element that appears only once.\n",
    "Sample Input 1:\n",
    "4\n",
    "1 2 1 1\n",
    "Sample Output 1:\n",
    "2"
   ]
  },
  {
   "cell_type": "code",
   "execution_count": 20,
   "id": "ece5b634",
   "metadata": {},
   "outputs": [
    {
     "name": "stdout",
     "output_type": "stream",
     "text": [
      "4\n",
      "1\n",
      "2\n",
      "1\n",
      "1\n",
      "2\n"
     ]
    }
   ],
   "source": [
    "n=int(input())\n",
    "dict1={}\n",
    "for i in range(n):\n",
    "    data=int(input())\n",
    "    if data in dict1:\n",
    "        dict1[data]+=1\n",
    "    else:\n",
    "        dict1[data]=1\n",
    "        \n",
    "for key,value in dict1.items():\n",
    "    if value==1:\n",
    "        print(key)\n",
    "\n"
   ]
  },
  {
   "cell_type": "markdown",
   "id": "2f0b593e",
   "metadata": {},
   "source": [
    "#### 4.You have been given an integer array/list(ARR) of size N. Where N is equal to [2M + 1].\n",
    "Now, in the given array/list, 'M' numbers are present twice and one number is present only once.\n",
    "You need to find and return that number which is unique in the array/list.\n",
    "Note:\n",
    "Unique element is always present in the array/list according to the given condition.\n",
    "Sample Input 1:\n",
    "7\n",
    "2 3 1 6 3 6 2\n",
    "Sample Output 1:\n",
    "1\n",
    "Explanation: The array is [2, 3, 1, 6, 3, 6, 2]. Here, the numbers 2, 3, and 6 are present twice, and the number 1 is present only once. So, the unique number in this array is 1."
   ]
  },
  {
   "cell_type": "code",
   "execution_count": 23,
   "id": "223f3146",
   "metadata": {},
   "outputs": [
    {
     "name": "stdout",
     "output_type": "stream",
     "text": [
      "7\n",
      "2\n",
      "1\n",
      "3\n",
      "2\n",
      "4\n",
      "1\n",
      "3\n",
      "[2, 1, 3, 2, 4, 1, 3]\n",
      "4\n"
     ]
    }
   ],
   "source": [
    "n=int(input())\n",
    "list1=[]\n",
    "dict1={}\n",
    "for i in range(n):\n",
    "    data=int(input())\n",
    "    list1.append(data)\n",
    "    if data in dict1:\n",
    "        dict1[data]+=1\n",
    "    else:\n",
    "        dict1[data]=1\n",
    "print(list1)\n",
    "        \n",
    "for key,value in dict1.items():\n",
    "    if value==1:\n",
    "        print(key)"
   ]
  },
  {
   "cell_type": "markdown",
   "id": "59b820bf",
   "metadata": {},
   "source": [
    "#### 5.You are given a number ‘N’ and a query ‘Q.’ If ‘Q’ is 1, then you have to return the sum of all integers from 1 to ‘N,’ else if ‘Q’ is equal to 2 then you have to return the product of all integers from 1 to ‘N.’ Since the product can be very large, return it modulo 10 ^ 9 + 7.\n",
    "For example\n",
    "Given ‘N’ = 4, ‘Q’ = 1. \n",
    "Then the answer is 10 because the sum of all integers between 1 and 4 are 1, 2, 3, and 4. Hence 1 + 2 + 3 + 4 is equal to 10.\n",
    "Sample Input 1 :\n",
    "2\n",
    "4 1 \n",
    "4 2\n",
    "Sample Output 1 :\n",
    "10\n",
    "24 \n",
    "Explanation of the Sample Input 1:\n",
    "In the first test case, the answer is 10 because all integers between 1 and 4 are 1, 2, 3, and 4. Hence 1 + 2 + 3 + 4 is equal to 10.\n",
    "In the second test case, the answer is 25 because all integers between 1 and 4 are 1, 2, 3, and 4. Hence 1 * 2 * 3 * 4 is equal to 24."
   ]
  },
  {
   "cell_type": "code",
   "execution_count": 3,
   "id": "e180484d",
   "metadata": {},
   "outputs": [
    {
     "name": "stdout",
     "output_type": "stream",
     "text": [
      "Enter the number: 7000\n",
      "Enter the query: 2\n",
      "849641758\n"
     ]
    }
   ],
   "source": [
    "def add(n):\n",
    "    sum=0\n",
    "    for i in range(1,n+1):\n",
    "        sum+=i\n",
    "    return sum\n",
    "\n",
    "def multiply(n):\n",
    "    fact=1\n",
    "    for i in range(1,n+1):\n",
    "        fact*=i\n",
    "    return fact%1000000007\n",
    "\n",
    "\n",
    "n=int(input(\"Enter the number: \"))\n",
    "q=int(input(\"Enter the query: \"))\n",
    "\n",
    "if(q==1):\n",
    "    print(add(n))\n",
    "else:\n",
    "    print(multiply(n))"
   ]
  },
  {
   "cell_type": "markdown",
   "id": "ea75adde",
   "metadata": {},
   "source": [
    "# Assignment 2"
   ]
  },
  {
   "cell_type": "markdown",
   "id": "29a941b7",
   "metadata": {},
   "source": [
    "#### 1.You are given an array/list ARR consisting of N integers. Your task is to find all the distinct triplets present in the array which adds up to a given number K.\n",
    "An array is said to have a triplet {ARR[i], ARR[j], ARR[k]} with sum = 'K' if there exists three indices i, j and k such that i!=j, j!=k and i!=j and ARR[i] + ARR[j] + ARR[k] = 'K'.\n",
    "Note:\n",
    "1. You can return the list of values in any order. For example, if a valid triplet is {1, 2, -3}, then {2, -3, 1}, {-3, 2, 1} etc is also valid triplet. Also, the ordering of different triplets can be random i.e if there are more than one valid triplets, you can return them in any order.\n",
    "2. The elements in the array need not be distinct.\n",
    "3. If no such triplet is present in the array, then return an empty list, and the output printed for such a test case will be \"-1\".\n",
    "Sample Input 1:\n",
    "5\n",
    "10 5 5 5 2\n",
    "12\n",
    "Sample Output 1:\n",
    "5 5 2\n",
    "Explanation for Sample Input 1:\n",
    "5 5 2 is the only triplet that adds up to 15. Note that the order of the output doesn’t matter, so 5 2 5 or 2 5 5 is also acceptable."
   ]
  },
  {
   "cell_type": "code",
   "execution_count": 37,
   "id": "81aca4da",
   "metadata": {},
   "outputs": [
    {
     "name": "stdout",
     "output_type": "stream",
     "text": [
      "Enter the number: 5\n",
      "4\n",
      "2\n",
      "3\n",
      "1\n",
      "2\n",
      "[4, 2, 3, 1, 2]\n",
      "Enter your target sum: 6\n",
      "{(2, 3, 1), (3, 1, 2)}\n"
     ]
    }
   ],
   "source": [
    "n=int(input(\"Enter the number: \"))\n",
    "list1=[]\n",
    "for i in range(n):\n",
    "    list1.append(int(input()))\n",
    "    \n",
    "print(list1)\n",
    "\n",
    "final_set=set()\n",
    "target=int(input(\"Enter your target sum: \"))\n",
    "for i in range(n):\n",
    "    j=i+1\n",
    "    k=n-1\n",
    "    while(j<k):\n",
    "        sum=list1[i]+list1[j]+list1[k]\n",
    "        if(sum==target):\n",
    "            final_set.add((list1[i],list1[j],list1[k]))\n",
    "            j+=1\n",
    "            k-=1\n",
    "        elif sum<target:\n",
    "            j+=1\n",
    "        else:\n",
    "            k-=1\n",
    "            \n",
    "print(final_set)"
   ]
  },
  {
   "cell_type": "markdown",
   "id": "a11c0b29",
   "metadata": {},
   "source": [
    "#### 2.You are given a sorted integer array 'arr' of size 'n'.\n",
    "You need to remove the duplicates from the array such that each element appears only once.\n",
    "Return the length of this new array.\n",
    "Note:\n",
    "Do not allocate extra space for another array. You need to do this by modifying the given input array in place with O(1) extra memory. \n",
    "For example:\n",
    "'n' = 5, 'arr' = [1 2 2 2 3].\n",
    "The new array will be [1 2 3].\n",
    "So our answer is 3.\n",
    "Sample input 1:\n",
    "10\n",
    "1 2 2 3 3 3 4 4 5 5 \n",
    "Sample output 1:\n",
    "5\n",
    "Explanation of sample input 1:\n",
    "The new array will be [1 2 3 4 5].\n",
    "So our answer is 5."
   ]
  },
  {
   "cell_type": "code",
   "execution_count": 34,
   "id": "b5fc0457",
   "metadata": {},
   "outputs": [
    {
     "name": "stdout",
     "output_type": "stream",
     "text": [
      "Enter the number: 6\n",
      "1\n",
      "1\n",
      "1\n",
      "2\n",
      "4\n",
      "4\n",
      "3\n"
     ]
    }
   ],
   "source": [
    "n = int(input(\"Enter the number: \"))\n",
    "set1 = set()\n",
    "\n",
    "for i in range(n):\n",
    "    i = int((input()))\n",
    "    set1.add(i)\n",
    "    \n",
    "print(len(set1))"
   ]
  },
  {
   "cell_type": "markdown",
   "id": "64fa513c",
   "metadata": {},
   "source": [
    "#### 3.You are given an array of size ‘N’. The elements of the array are in the range from 1 to ‘N’.\n",
    "Ideally, the array should contain elements from 1 to ‘N’. But due to some miscalculations, there is a number R in the range [1, N] which appears in the array twice and another number M in the range [1, N] which is missing from the array.\n",
    "Your task is to find the missing number (M) and the repeating number (R).\n",
    "For example:\n",
    "Consider an array of size six. The elements of the array are { 6, 4, 3, 5, 5, 1 }. \n",
    "The array should contain elements from one to six. Here, 2 is not present and 5 is occurring twice. Thus, 2 is the missing number (M) and 5 is the repeating number (R). \n",
    "Follow Up\n",
    "Can you do this in linear time and constant additional space? "
   ]
  },
  {
   "cell_type": "code",
   "execution_count": 18,
   "id": "2c0fd854",
   "metadata": {},
   "outputs": [
    {
     "name": "stdout",
     "output_type": "stream",
     "text": [
      "Enter the number: 6\n",
      "1\n",
      "2\n",
      "3\n",
      "4\n",
      "6\n",
      "2\n",
      "[1, 2, 3, 4, 6, 2]\n",
      "2 5\n"
     ]
    }
   ],
   "source": [
    "n = int(input(\"Enter the number: \"))\n",
    "list1=[]\n",
    "dict1={}\n",
    "for i in range(n):\n",
    "    d=int(input())\n",
    "    list1.append(d)\n",
    "    if d in dict1:\n",
    "        dict1[d]+=1\n",
    "    else:\n",
    "        dict1[d]=1\n",
    "    \n",
    "print(list1)\n",
    "repeating=0\n",
    "for key,value in dict1.items():\n",
    "    if(value>1):\n",
    "        repeating=key\n",
    "\n",
    "sum=0\n",
    "for i in range(1,n+1):\n",
    "    sum^=i\n",
    "    \n",
    "for i in range(0,n):\n",
    "    sum^=list1[i]\n",
    "    \n",
    "missing=repeatingsum\n",
    "\n",
    "print(repeating,missing)"
   ]
  },
  {
   "cell_type": "markdown",
   "id": "80a0222b",
   "metadata": {},
   "source": [
    "###### 4.You have been given an integer array/list (ARR) of size N. You have to return an array/list PRODUCT such that PRODUCT[i] is equal to the product of all the elements of ARR except ARR[i]\n",
    "Note :\n",
    "Each product can cross the integer limits, so we should take modulo of the operation. \n",
    "Take MOD = 10^9 + 7 to always stay in the limits.\n",
    "Follow up :\n",
    "Can you try solving the problem in O(1) space?\n",
    "Sample Input 1 :\n",
    "2\n",
    "3\n",
    "1 2 3\n",
    "3\n",
    "5 2 2\n",
    "Sample Output 1 :\n",
    "6 3 2\n",
    "4 10 10\n",
    "Explanation for Sample Output 1 :\n",
    " Test case 1 : Given array = {1, 2, 3] \n",
    " Required array = [2 * 3, 1 * 3, 1 * 2] = [6, 3, 2]\n",
    " Test case 2 : Given array = {5, 2, 2] \n",
    " Required array = [2 * 2, 5 * 2, 5 * 2] = [4, 10, 10]"
   ]
  },
  {
   "cell_type": "code",
   "execution_count": 21,
   "id": "9106de86",
   "metadata": {},
   "outputs": [
    {
     "name": "stdout",
     "output_type": "stream",
     "text": [
      "Enter the number: 3\n",
      "5\n",
      "2\n",
      "2\n",
      "[5, 2, 2]\n",
      "[4, 10, 10]\n"
     ]
    }
   ],
   "source": [
    "n=int(input(\"Enter the number: \"))\n",
    "list1=[]\n",
    "for i in range(n):\n",
    "    list1.append(int(input()))\n",
    "    \n",
    "print(list1)\n",
    "\n",
    "fact=1\n",
    "for i in range(n):\n",
    "    fact*=list1[i]\n",
    "\n",
    "for i in range(n):\n",
    "    list1[i]=fact//list1[i]\n",
    "    \n",
    "print(list1)"
   ]
  },
  {
   "cell_type": "markdown",
   "id": "f0b93858",
   "metadata": {},
   "source": [
    "#### 5.Sum Of Infinite Array\n",
    "Given an array “A” of N integers and you have also defined the new array “B” as a concatenation of array “A” for an infinite number of times.\n",
    "For example, if the given array “A” is [1,2,3] then, infinite array “B” is [1,2,3,1,2,3,1,2,3,.......].\n",
    "Now you are given Q queries, each query consists of two integers “L“ and “R”(1-based indexing). Your task is to find the sum of the subarray from index “L” to “R” (both inclusive) in the infinite array “B” for each query.\n",
    "Note :\n",
    "The value of the sum can be very large, return the answer as modulus 10^9+7.\n",
    "Sample Input 1 :\n",
    "1\n",
    "3\n",
    "1 2 3\n",
    "2\n",
    "1 3\n",
    "1 5\n",
    "Sample Output 1 :\n",
    "6 9\n",
    "Explanation to Sample Input 1 :\n",
    "For the first test case, the given array A is [1,2,3] therefore the infinite array “B” will be [1,2,3,1,2,3,1,2,3,.......]. So the answer for the given first query is 6 because the sum of the subarray from index 1 to 3 of infinite array “B” i.e. (B[1]+B[2]+B[3]) is 6.\n",
    "For the given second query is 9 because the sum of the subarray from index 1 to 5 of array “B” .ie (B[1]+B[2]+B[3]+B[4]+B[5]) is 9."
   ]
  },
  {
   "cell_type": "code",
   "execution_count": 30,
   "id": "11c213f7",
   "metadata": {},
   "outputs": [
    {
     "name": "stdout",
     "output_type": "stream",
     "text": [
      "Enter the size: 3\n",
      "1\n",
      "2\n",
      "3\n",
      "Enter number of test cases: 2\n",
      "Enter starting index: 1\n",
      "Enter ending index: 3\n",
      "6\n",
      "Enter starting index: 1\n",
      "Enter ending index: 5\n",
      "9\n"
     ]
    }
   ],
   "source": [
    "n=int(input(\"Enter the size: \"))\n",
    "list1=[]\n",
    "for i in range(n):\n",
    "    list1.append(int(input()))\n",
    "    \n",
    "t=int(input(\"Enter number of test cases: \"))\n",
    "while(t!=0):\n",
    "    s=int(input(\"Enter starting index: \"))\n",
    "    e=int(input(\"Enter ending index: \"))\n",
    "    sum=0\n",
    "    count=0\n",
    "    while(s<=e):\n",
    "        sum=sum+list1[count%n]\n",
    "        count+=1\n",
    "        s+=1\n",
    "    print(sum)\n",
    "    t-=1"
   ]
  },
  {
   "cell_type": "markdown",
   "id": "f147cc53",
   "metadata": {},
   "source": [
    "#### 6.Sum Of Two Arrays\n",
    "You are given two numbers 'A' and 'B' in the form of two arrays (A[] and B[]) of lengths 'N' and 'M' respectively, where each array element represents a digit. You need to find the sum of these two numbers and return this sum in the form of an array.\n",
    "\n",
    "Note:\n",
    "\n",
    "1. The length of each array is greater than zero.\n",
    "\n",
    "2. The first index of each array is the most significant digit of the number. For example, if the array A[] = {4, 5, 1}, then the integer represented by this array is 451 and array B[] = {3, 4, 5} so the sum will be 451 + 345 = 796. So you need to return {7, 9, 6}.\n",
    "\n",
    "3. Both numbers do not have any leading zeros in them. And subsequently, the sum should not contain any leading zeros.\n",
    "Sample Input 1:\n",
    "2\n",
    "4 1 \n",
    "1 2 3 4\n",
    "6\n",
    "3 2\n",
    "1 2 3\n",
    "9 9    \n",
    "Sample Output 1:\n",
    "1 2 4 0\n",
    "2 2 2\n",
    "Explanation For Sample Input 1:\n",
    "For the first test case, the integer represented by the first array is 1234 and the second array is 6, so the sum is 1234 + 6 =  1240.\n",
    "\n",
    "For the second test case, the integer represented by the first array is 123 and the second array is 99, so the sum is 123 + 99 = 222."
   ]
  },
  {
   "cell_type": "code",
   "execution_count": 39,
   "id": "11588917",
   "metadata": {},
   "outputs": [
    {
     "name": "stdout",
     "output_type": "stream",
     "text": [
      "Enter the number: 4\n",
      "1\n",
      "2\n",
      "3\n",
      "4\n",
      "Enter the number: 1\n",
      "6\n",
      "Sum of the two numbers: [1, 2, 4, 0]\n"
     ]
    }
   ],
   "source": [
    "n1=int(input(\"Enter the number: \"))\n",
    "list1=[]\n",
    "for i in range(n1):\n",
    "    list1.append(int(input()))\n",
    "    \n",
    "n2=int(input(\"Enter the number: \"))\n",
    "list2=[]\n",
    "for i in range(n2):\n",
    "    list2.append(int(input()))\n",
    "    \n",
    "list3 = []\n",
    "carry = 0\n",
    "i = n1 - 1\n",
    "j = n2 - 1\n",
    "while i >= 0 and j >= 0:\n",
    "    sum = list1[i]+list2[j]+carry\n",
    "    i-=1\n",
    "    j-=1\n",
    "    last_digit = sum % 10\n",
    "    carry = sum // 10\n",
    "    list3.append(last_digit)\n",
    "    \n",
    "while i>=0:\n",
    "    sum = list1[i]+carry\n",
    "    i-=1\n",
    "    last_digit = sum % 10\n",
    "    carry = sum // 10\n",
    "    list3.append(last_digit)\n",
    "    \n",
    "while j>=0:\n",
    "    sum = list2[j]+carry\n",
    "    j-=1\n",
    "    last_digit = sum % 10\n",
    "    carry = sum // 10\n",
    "    list3.append(last_digit)\n",
    "    \n",
    "if carry:\n",
    "    list3.append(carry)\n",
    "list3 = list3[::-1]\n",
    "print(\"Sum of the two numbers:\", list3)"
   ]
  },
  {
   "cell_type": "markdown",
   "id": "862544d1",
   "metadata": {},
   "source": [
    "#### 7.  K Largest Element\n",
    "You are given an unsorted array containing ‘N’ integers. You need to find ‘K’ largest elements from the given array. Also, you need to return the elements in non-decreasing order.\n",
    "Where ‘T’ is the number of test cases, ‘N’ is the size of the array, ‘K’ is the number of elements you need to return as an answer and ARR[i] is the size of the array of elements.\n",
    "Sample Input 1:\n",
    "2\n",
    "4 2\n",
    "3 4 2 1\n",
    "5 1\n",
    "2 2 3 3 1\n",
    "Sample Output 1:\n",
    "3 4\n",
    "3\n",
    "Explanation for sample input 1:\n",
    "Test case 1:\n",
    "If we sort the array then it will look like: [1, 2, 3, 4]. The 2 largest elements will be [3, 4].\n",
    "\n",
    "Test case 2:\n",
    "If we sort the array then it will look like: [1, 2, 2, 3, 3]. Then the largest element will be [3]."
   ]
  },
  {
   "cell_type": "code",
   "execution_count": 49,
   "id": "c8990f1c",
   "metadata": {},
   "outputs": [
    {
     "name": "stdout",
     "output_type": "stream",
     "text": [
      "6\n",
      "1\n",
      "2\n",
      "2\n",
      "3\n",
      "3\n",
      "4\n",
      "Enter the value of 'k': 2\n",
      "3\n",
      "4\n"
     ]
    }
   ],
   "source": [
    "x = int(input())\n",
    "list1 = []\n",
    "\n",
    "for i in range(x):\n",
    "    num = int(input())\n",
    "    list1.append(num)\n",
    "\n",
    "k = int(input(\"Enter the value of 'k': \"))\n",
    "\n",
    "set1 = set()\n",
    "sorted_lst = []\n",
    "\n",
    "for num in list1:\n",
    "    if num not in set1:\n",
    "        set1.add(num)\n",
    "        sorted_lst.append(num)\n",
    "\n",
    "\n",
    "for i in range(len(sorted_lst)-k,len(sorted_lst)):\n",
    "    print(sorted_lst[i])"
   ]
  },
  {
   "cell_type": "markdown",
   "id": "11dab712",
   "metadata": {},
   "source": [
    "#### 8. Merge K Sorted Arrays\n",
    "You have been given ‘K’ different arrays/lists, which are sorted individually (in ascending order). You need to merge all the given arrays/list such that the output array/list should be sorted in ascending order.\n",
    "Sample Input 1:\n",
    "1\n",
    "2\n",
    "3 \n",
    "3 5 9 \n",
    "4 \n",
    "1 2 3 8   \n",
    "Sample Output 1:\n",
    "1 2 3 3 5 8 9 \n",
    "Explanation of Sample Input 1:\n",
    "After merging the two given arrays/lists [3, 5, 9] and [ 1, 2, 3, 8], the output sorted array will be [1, 2, 3, 3, 5, 8, 9]."
   ]
  },
  {
   "cell_type": "code",
   "execution_count": null,
   "id": "a29d101c",
   "metadata": {},
   "outputs": [],
   "source": [
    "n1=int(input(\"Enter the size: \"))\n",
    "list1=[]\n",
    "for i in range(n1):\n",
    "    list1.append(int(input()))\n",
    "    \n",
    "n2=int(input(\"Enter the size: \"))\n",
    "list2=[]\n",
    "for i in range(n):\n",
    "    list2.append(int(input()))\n",
    "    \n",
    "list3=[]\n",
    "k=0\n",
    "i=0\n",
    "j=0\n",
    "while(i<n1 and j<n2):\n",
    "    if()"
   ]
  }
 ],
 "metadata": {
  "kernelspec": {
   "display_name": "Python 3 (ipykernel)",
   "language": "python",
   "name": "python3"
  },
  "language_info": {
   "codemirror_mode": {
    "name": "ipython",
    "version": 3
   },
   "file_extension": ".py",
   "mimetype": "text/x-python",
   "name": "python",
   "nbconvert_exporter": "python",
   "pygments_lexer": "ipython3",
   "version": "3.11.5"
  }
 },
 "nbformat": 4,
 "nbformat_minor": 5
}
