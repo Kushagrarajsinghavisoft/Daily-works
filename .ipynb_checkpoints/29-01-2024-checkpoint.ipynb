{
 "cells": [
  {
   "cell_type": "markdown",
   "id": "660332cf",
   "metadata": {},
   "source": [
    "# Assignment"
   ]
  },
  {
   "cell_type": "markdown",
   "id": "96d17e86",
   "metadata": {},
   "source": [
    "#### 1.Given an array/list(ARR) of length N, you need to find and return the sum of all the elements in the array/list.\n",
    "Sample Input 1:\n",
    "3\n",
    "9 8 9\n",
    "Sample Output 1:\n",
    "26"
   ]
  },
  {
   "cell_type": "code",
   "execution_count": 8,
   "id": "622e8f86",
   "metadata": {},
   "outputs": [
    {
     "name": "stdout",
     "output_type": "stream",
     "text": [
      "3\n",
      "8\n",
      "9\n",
      "8\n",
      "[8, 9, 8]\n",
      "25\n"
     ]
    }
   ],
   "source": [
    "n=int(input())\n",
    "list1=[]\n",
    "sum=0\n",
    "for i in range(n):\n",
    "    list1.append(int(input()))\n",
    "    sum+=list1[i]\n",
    "    \n",
    "print(list1)\n",
    "    \n",
    "    \n",
    "print(sum)"
   ]
  },
  {
   "cell_type": "markdown",
   "id": "339f4010",
   "metadata": {},
   "source": [
    "#### 2.Given an array/list 'ARR' of integers and a position ‘M’. You have to reverse the array after that position.\n",
    "Example:\n",
    "We have an array ARR = {1, 2, 3, 4, 5, 6} and M = 3 , considering 0 \n",
    "based indexing so the subarray {5, 6} will be reversed and our \n",
    "output array will be {1, 2, 3, 4, 6, 5}."
   ]
  },
  {
   "cell_type": "code",
   "execution_count": 13,
   "id": "4a64593b",
   "metadata": {},
   "outputs": [
    {
     "name": "stdout",
     "output_type": "stream",
     "text": [
      "6\n",
      "1\n",
      "2\n",
      "3\n",
      "4\n",
      "5\n",
      "6\n",
      "[1, 2, 3, 4, 5, 6]\n",
      "1\n",
      "[1, 2, 6, 5, 4, 3]\n"
     ]
    }
   ],
   "source": [
    "n=int(input())\n",
    "list1=[]\n",
    "for i in range(n):\n",
    "    list1.append(int(input()))\n",
    "    \n",
    "print(list1)\n",
    "\n",
    "m=int(input())\n",
    "s=m+1\n",
    "e=n-1\n",
    "while(s<=e):\n",
    "    list1[s],list1[e]=list1[e],list1[s]\n",
    "    s+=1\n",
    "    e-=1\n",
    "    \n",
    "print(list1)"
   ]
  },
  {
   "cell_type": "markdown",
   "id": "cb9ad875",
   "metadata": {},
   "source": [
    "#### 3.You are given an arbitrary array ‘arr’ consisting of N non-negative integers, where every element appears thrice except one. You need to find the element that appears only once.\n",
    "Sample Input 1:\n",
    "4\n",
    "1 2 1 1\n",
    "Sample Output 1:\n",
    "2"
   ]
  },
  {
   "cell_type": "code",
   "execution_count": 20,
   "id": "9e046095",
   "metadata": {},
   "outputs": [
    {
     "name": "stdout",
     "output_type": "stream",
     "text": [
      "4\n",
      "1\n",
      "2\n",
      "1\n",
      "1\n",
      "2\n"
     ]
    }
   ],
   "source": [
    "n=int(input())\n",
    "dict1={}\n",
    "for i in range(n):\n",
    "    data=int(input())\n",
    "    if data in dict1:\n",
    "        dict1[data]+=1\n",
    "    else:\n",
    "        dict1[data]=1\n",
    "        \n",
    "for key,value in dict1.items():\n",
    "    if value==1:\n",
    "        print(key)\n",
    "\n"
   ]
  },
  {
   "cell_type": "markdown",
   "id": "93020bb7",
   "metadata": {},
   "source": [
    "#### 4.You have been given an integer array/list(ARR) of size N. Where N is equal to [2M + 1].\n",
    "Now, in the given array/list, 'M' numbers are present twice and one number is present only once.\n",
    "You need to find and return that number which is unique in the array/list.\n",
    "Note:\n",
    "Unique element is always present in the array/list according to the given condition.\n",
    "Sample Input 1:\n",
    "7\n",
    "2 3 1 6 3 6 2\n",
    "Sample Output 1:\n",
    "1\n",
    "Explanation: The array is [2, 3, 1, 6, 3, 6, 2]. Here, the numbers 2, 3, and 6 are present twice, and the number 1 is present only once. So, the unique number in this array is 1."
   ]
  },
  {
   "cell_type": "code",
   "execution_count": 23,
   "id": "516ff7be",
   "metadata": {},
   "outputs": [
    {
     "name": "stdout",
     "output_type": "stream",
     "text": [
      "7\n",
      "2\n",
      "1\n",
      "3\n",
      "2\n",
      "4\n",
      "1\n",
      "3\n",
      "[2, 1, 3, 2, 4, 1, 3]\n",
      "4\n"
     ]
    }
   ],
   "source": [
    "n=int(input())\n",
    "list1=[]\n",
    "dict1={}\n",
    "for i in range(n):\n",
    "    data=int(input())\n",
    "    list1.append(data)\n",
    "    if data in dict1:\n",
    "        dict1[data]+=1\n",
    "    else:\n",
    "        dict1[data]=1\n",
    "print(list1)\n",
    "        \n",
    "for key,value in dict1.items():\n",
    "    if value==1:\n",
    "        print(key)"
   ]
  },
  {
   "cell_type": "markdown",
   "id": "c9b92bd4",
   "metadata": {},
   "source": [
    "#### 5.You are given a number ‘N’ and a query ‘Q.’ If ‘Q’ is 1, then you have to return the sum of all integers from 1 to ‘N,’ else if ‘Q’ is equal to 2 then you have to return the product of all integers from 1 to ‘N.’ Since the product can be very large, return it modulo 10 ^ 9 + 7.\n",
    "For example\n",
    "Given ‘N’ = 4, ‘Q’ = 1. \n",
    "Then the answer is 10 because the sum of all integers between 1 and 4 are 1, 2, 3, and 4. Hence 1 + 2 + 3 + 4 is equal to 10.\n",
    "Sample Input 1 :\n",
    "2\n",
    "4 1 \n",
    "4 2\n",
    "Sample Output 1 :\n",
    "10\n",
    "24 \n",
    "Explanation of the Sample Input 1:\n",
    "In the first test case, the answer is 10 because all integers between 1 and 4 are 1, 2, 3, and 4. Hence 1 + 2 + 3 + 4 is equal to 10.\n",
    "In the second test case, the answer is 25 because all integers between 1 and 4 are 1, 2, 3, and 4. Hence 1 * 2 * 3 * 4 is equal to 24."
   ]
  },
  {
   "cell_type": "code",
   "execution_count": 3,
   "id": "34fd4988",
   "metadata": {},
   "outputs": [
    {
     "name": "stdout",
     "output_type": "stream",
     "text": [
      "Enter the number: 7000\n",
      "Enter the query: 2\n",
      "849641758\n"
     ]
    }
   ],
   "source": [
    "def add(n):\n",
    "    sum=0\n",
    "    for i in range(1,n+1):\n",
    "        sum+=i\n",
    "    return sum\n",
    "\n",
    "def multiply(n):\n",
    "    fact=1\n",
    "    for i in range(1,n+1):\n",
    "        fact*=i\n",
    "    return fact%1000000007\n",
    "\n",
    "\n",
    "n=int(input(\"Enter the number: \"))\n",
    "q=int(input(\"Enter the query: \"))\n",
    "\n",
    "if(q==1):\n",
    "    print(add(n))\n",
    "else:\n",
    "    print(multiply(n))"
   ]
  },
  {
   "cell_type": "markdown",
   "id": "f1a0f122",
   "metadata": {},
   "source": [
    "# Assignment 2"
   ]
  },
  {
   "cell_type": "markdown",
   "id": "b74e2bad",
   "metadata": {},
   "source": [
    "#### 1.You are given an array/list ARR consisting of N integers. Your task is to find all the distinct triplets present in the array which adds up to a given number K.\n",
    "An array is said to have a triplet {ARR[i], ARR[j], ARR[k]} with sum = 'K' if there exists three indices i, j and k such that i!=j, j!=k and i!=j and ARR[i] + ARR[j] + ARR[k] = 'K'.\n",
    "Note:\n",
    "1. You can return the list of values in any order. For example, if a valid triplet is {1, 2, -3}, then {2, -3, 1}, {-3, 2, 1} etc is also valid triplet. Also, the ordering of different triplets can be random i.e if there are more than one valid triplets, you can return them in any order.\n",
    "2. The elements in the array need not be distinct.\n",
    "3. If no such triplet is present in the array, then return an empty list, and the output printed for such a test case will be \"-1\".\n",
    "Sample Input 1:\n",
    "5\n",
    "10 5 5 5 2\n",
    "12\n",
    "Sample Output 1:\n",
    "5 5 2\n",
    "Explanation for Sample Input 1:\n",
    "5 5 2 is the only triplet that adds up to 15. Note that the order of the output doesn’t matter, so 5 2 5 or 2 5 5 is also acceptable."
   ]
  },
  {
   "cell_type": "code",
   "execution_count": 62,
   "id": "ff351c52",
   "metadata": {},
   "outputs": [
    {
     "name": "stdout",
     "output_type": "stream",
     "text": [
      "Enter the number: 6\n",
      "2\n",
      "3\n",
      "1\n",
      "2\n",
      "5\n",
      "6\n",
      "[2, 3, 1, 2, 5, 6]\n",
      "Enter your target sum: 9\n",
      "{(1, 2, 6), (3, 1, 5)}\n"
     ]
    }
   ],
   "source": [
    "n=int(input(\"Enter the number: \"))\n",
    "list1=[]\n",
    "for i in range(n):\n",
    "    list1.append(int(input()))\n",
    "    \n",
    "print(list1)\n",
    "\n",
    "final_set=set()\n",
    "target=int(input(\"Enter your target sum: \"))\n",
    "for i in range(n):\n",
    "    j=i+1\n",
    "    k=n-1\n",
    "    while(j<k):\n",
    "        sum=list1[i]+list1[j]+list1[k]\n",
    "        if(sum==target):\n",
    "            final_set.add((list1[i],list1[j],list1[k]))\n",
    "            j+=1\n",
    "            k-=1\n",
    "        elif sum<target:\n",
    "            j+=1\n",
    "        else:\n",
    "            k-=1\n",
    "            \n",
    "print(final_set)"
   ]
  },
  {
   "cell_type": "markdown",
   "id": "a5faa06a",
   "metadata": {},
   "source": [
    "#### 2.You are given a sorted integer array 'arr' of size 'n'.\n",
    "You need to remove the duplicates from the array such that each element appears only once.\n",
    "Return the length of this new array.\n",
    "Note:\n",
    "Do not allocate extra space for another array. You need to do this by modifying the given input array in place with O(1) extra memory. \n",
    "For example:\n",
    "'n' = 5, 'arr' = [1 2 2 2 3].\n",
    "The new array will be [1 2 3].\n",
    "So our answer is 3.\n",
    "Sample input 1:\n",
    "10\n",
    "1 2 2 3 3 3 4 4 5 5 \n",
    "Sample output 1:\n",
    "5\n",
    "Explanation of sample input 1:\n",
    "The new array will be [1 2 3 4 5].\n",
    "So our answer is 5."
   ]
  },
  {
   "cell_type": "code",
   "execution_count": 34,
   "id": "90bbfd92",
   "metadata": {},
   "outputs": [
    {
     "name": "stdout",
     "output_type": "stream",
     "text": [
      "Enter the number: 6\n",
      "1\n",
      "1\n",
      "1\n",
      "2\n",
      "4\n",
      "4\n",
      "3\n"
     ]
    }
   ],
   "source": [
    "n = int(input(\"Enter the number: \"))\n",
    "set1 = set()\n",
    "\n",
    "for i in range(n):\n",
    "    i = int((input()))\n",
    "    set1.add(i)\n",
    "    \n",
    "print(len(set1))"
   ]
  },
  {
   "cell_type": "markdown",
   "id": "3a176bb6",
   "metadata": {},
   "source": [
    "#### 3.You are given an array of size ‘N’. The elements of the array are in the range from 1 to ‘N’.\n",
    "Ideally, the array should contain elements from 1 to ‘N’. But due to some miscalculations, there is a number R in the range [1, N] which appears in the array twice and another number M in the range [1, N] which is missing from the array.\n",
    "Your task is to find the missing number (M) and the repeating number (R).\n",
    "For example:\n",
    "Consider an array of size six. The elements of the array are { 6, 4, 3, 5, 5, 1 }. \n",
    "The array should contain elements from one to six. Here, 2 is not present and 5 is occurring twice. Thus, 2 is the missing number (M) and 5 is the repeating number (R). \n",
    "Follow Up\n",
    "Can you do this in linear time and constant additional space? "
   ]
  },
  {
   "cell_type": "code",
   "execution_count": 66,
   "id": "65776415",
   "metadata": {},
   "outputs": [
    {
     "name": "stdout",
     "output_type": "stream",
     "text": [
      "Enter the number: 6\n",
      "1\n",
      "3\n",
      "4\n",
      "5\n",
      "5\n",
      "6\n",
      "[1, 3, 4, 5, 5, 6]\n",
      "Repeating element: 5 ,  Missing element: 2\n"
     ]
    }
   ],
   "source": [
    "n = int(input(\"Enter the number: \"))\n",
    "list1=[]\n",
    "dict1={}\n",
    "for i in range(n):\n",
    "    d=int(input())\n",
    "    list1.append(d)\n",
    "    if d in dict1:\n",
    "        dict1[d]+=1\n",
    "    else:\n",
    "        dict1[d]=1\n",
    "    \n",
    "print(list1)\n",
    "repeating=0\n",
    "for key,value in dict1.items():\n",
    "    if(value>1):\n",
    "        repeating=key\n",
    "\n",
    "sum=0\n",
    "for i in range(1,n+1):\n",
    "    sum^=i\n",
    "    \n",
    "for i in range(0,n):\n",
    "    sum^=list1[i]  #now it will contain only the sum of repeating and missing element\n",
    "    \n",
    "missing=repeating^sum  #here it removes the element repeating by subtracting it from sum\n",
    "                        # so that we r only left with the missing element\n",
    "print(\"Repeating element:\",repeating,\",\",\"Missing element:\",missing)"
   ]
  },
  {
   "cell_type": "markdown",
   "id": "37f6d669",
   "metadata": {},
   "source": [
    "###### 4.You have been given an integer array/list (ARR) of size N. You have to return an array/list PRODUCT such that PRODUCT[i] is equal to the product of all the elements of ARR except ARR[i]\n",
    "Note :\n",
    "Each product can cross the integer limits, so we should take modulo of the operation. \n",
    "Take MOD = 10^9 + 7 to always stay in the limits.\n",
    "Follow up :\n",
    "Can you try solving the problem in O(1) space?\n",
    "Sample Input 1 :\n",
    "2\n",
    "3\n",
    "1 2 3\n",
    "3\n",
    "5 2 2\n",
    "Sample Output 1 :\n",
    "6 3 2\n",
    "4 10 10\n",
    "Explanation for Sample Output 1 :\n",
    " Test case 1 : Given array = {1, 2, 3] \n",
    " Required array = [2 * 3, 1 * 3, 1 * 2] = [6, 3, 2]\n",
    " Test case 2 : Given array = {5, 2, 2] \n",
    " Required array = [2 * 2, 5 * 2, 5 * 2] = [4, 10, 10]"
   ]
  },
  {
   "cell_type": "code",
   "execution_count": 21,
   "id": "40cea7e2",
   "metadata": {},
   "outputs": [
    {
     "name": "stdout",
     "output_type": "stream",
     "text": [
      "Enter the number: 3\n",
      "5\n",
      "2\n",
      "2\n",
      "[5, 2, 2]\n",
      "[4, 10, 10]\n"
     ]
    }
   ],
   "source": [
    "n=int(input(\"Enter the number: \"))\n",
    "list1=[]\n",
    "for i in range(n):\n",
    "    list1.append(int(input()))\n",
    "    \n",
    "print(list1)\n",
    "\n",
    "fact=1\n",
    "for i in range(n):\n",
    "    fact*=list1[i]\n",
    "\n",
    "for i in range(n):\n",
    "    list1[i]=fact//list1[i]\n",
    "    \n",
    "print(list1)"
   ]
  },
  {
   "cell_type": "markdown",
   "id": "8a769e2d",
   "metadata": {},
   "source": [
    "#### 5.Sum Of Infinite Array\n",
    "Given an array “A” of N integers and you have also defined the new array “B” as a concatenation of array “A” for an infinite number of times.\n",
    "For example, if the given array “A” is [1,2,3] then, infinite array “B” is [1,2,3,1,2,3,1,2,3,.......].\n",
    "Now you are given Q queries, each query consists of two integers “L“ and “R”(1-based indexing). Your task is to find the sum of the subarray from index “L” to “R” (both inclusive) in the infinite array “B” for each query.\n",
    "Note :\n",
    "The value of the sum can be very large, return the answer as modulus 10^9+7.\n",
    "Sample Input 1 :\n",
    "1\n",
    "3\n",
    "1 2 3\n",
    "2\n",
    "1 3\n",
    "1 5\n",
    "Sample Output 1 :\n",
    "6 9\n",
    "Explanation to Sample Input 1 :\n",
    "For the first test case, the given array A is [1,2,3] therefore the infinite array “B” will be [1,2,3,1,2,3,1,2,3,.......]. So the answer for the given first query is 6 because the sum of the subarray from index 1 to 3 of infinite array “B” i.e. (B[1]+B[2]+B[3]) is 6.\n",
    "For the given second query is 9 because the sum of the subarray from index 1 to 5 of array “B” .ie (B[1]+B[2]+B[3]+B[4]+B[5]) is 9."
   ]
  },
  {
   "cell_type": "code",
   "execution_count": 79,
   "id": "31849231",
   "metadata": {},
   "outputs": [
    {
     "name": "stdout",
     "output_type": "stream",
     "text": [
      "Enter the size: 3\n",
      "1\n",
      "2\n",
      "3\n",
      "Enter number of test cases: 2\n",
      "Enter starting index: 2\n",
      "Enter ending index: 5\n",
      "8\n",
      "Enter starting index: 3\n",
      "Enter ending index: 9\n",
      "15\n"
     ]
    }
   ],
   "source": [
    "n=int(input(\"Enter the size: \"))\n",
    "list1=[]\n",
    "for i in range(n):\n",
    "    list1.append(int(input()))\n",
    "    \n",
    "t=int(input(\"Enter number of test cases: \"))\n",
    "while(t!=0):\n",
    "    s=int(input(\"Enter starting index: \"))\n",
    "    e=int(input(\"Enter ending index: \"))\n",
    "    sum=0\n",
    "    count=s-1    # for indexing the list\n",
    "    while(s<=e):\n",
    "        sum=sum+list1[count%n]\n",
    "        count+=1\n",
    "        s+=1\n",
    "    print(sum)\n",
    "    t-=1"
   ]
  },
  {
   "cell_type": "markdown",
   "id": "b4342a99",
   "metadata": {},
   "source": [
    "#### 6.Sum Of Two Arrays\n",
    "You are given two numbers 'A' and 'B' in the form of two arrays (A[] and B[]) of lengths 'N' and 'M' respectively, where each array element represents a digit. You need to find the sum of these two numbers and return this sum in the form of an array.\n",
    "\n",
    "Note:\n",
    "\n",
    "1. The length of each array is greater than zero.\n",
    "\n",
    "2. The first index of each array is the most significant digit of the number. For example, if the array A[] = {4, 5, 1}, then the integer represented by this array is 451 and array B[] = {3, 4, 5} so the sum will be 451 + 345 = 796. So you need to return {7, 9, 6}.\n",
    "\n",
    "3. Both numbers do not have any leading zeros in them. And subsequently, the sum should not contain any leading zeros.\n",
    "Sample Input 1:\n",
    "2\n",
    "4 1 \n",
    "1 2 3 4\n",
    "6\n",
    "3 2\n",
    "1 2 3\n",
    "9 9    \n",
    "Sample Output 1:\n",
    "1 2 4 0\n",
    "2 2 2\n",
    "Explanation For Sample Input 1:\n",
    "For the first test case, the integer represented by the first array is 1234 and the second array is 6, so the sum is 1234 + 6 =  1240.\n",
    "\n",
    "For the second test case, the integer represented by the first array is 123 and the second array is 99, so the sum is 123 + 99 = 222."
   ]
  },
  {
   "cell_type": "code",
   "execution_count": 67,
   "id": "d5d3bd85",
   "metadata": {},
   "outputs": [
    {
     "name": "stdout",
     "output_type": "stream",
     "text": [
      "Enter the number: 4\n",
      "9\n",
      "9\n",
      "9\n",
      "9\n",
      "Enter the number: 1\n",
      "9\n",
      "Sum of the two numbers: [1, 0, 0, 0, 8]\n"
     ]
    }
   ],
   "source": [
    "n1=int(input(\"Enter the number: \"))\n",
    "list1=[]\n",
    "for i in range(n1):\n",
    "    list1.append(int(input()))\n",
    "    \n",
    "n2=int(input(\"Enter the number: \"))\n",
    "list2=[]\n",
    "for i in range(n2):\n",
    "    list2.append(int(input()))\n",
    "    \n",
    "list3 = []\n",
    "carry = 0\n",
    "i = n1 - 1\n",
    "j = n2 - 1\n",
    "while i >= 0 and j >= 0:\n",
    "    sum = list1[i]+list2[j]+carry\n",
    "    i-=1\n",
    "    j-=1\n",
    "    last_digit = sum % 10\n",
    "    carry = sum // 10\n",
    "    list3.append(last_digit)\n",
    "    \n",
    "while i>=0:\n",
    "    sum = list1[i]+carry\n",
    "    i-=1\n",
    "    last_digit = sum % 10\n",
    "    carry = sum // 10\n",
    "    list3.append(last_digit)\n",
    "    \n",
    "while j>=0:\n",
    "    sum = list2[j]+carry\n",
    "    j-=1\n",
    "    last_digit = sum % 10\n",
    "    carry = sum // 10\n",
    "    list3.append(last_digit)\n",
    "    \n",
    "if carry:\n",
    "    list3.append(carry)\n",
    "list3 = list3[::-1]\n",
    "print(\"Sum of the two numbers:\", list3)"
   ]
  },
  {
   "cell_type": "markdown",
   "id": "0a948b0d",
   "metadata": {},
   "source": [
    "#### 7.  K Largest Element\n",
    "You are given an unsorted array containing ‘N’ integers. You need to find ‘K’ largest elements from the given array. Also, you need to return the elements in non-decreasing order.\n",
    "Where ‘T’ is the number of test cases, ‘N’ is the size of the array, ‘K’ is the number of elements you need to return as an answer and ARR[i] is the size of the array of elements.\n",
    "Sample Input 1:\n",
    "2\n",
    "4 2\n",
    "3 4 2 1\n",
    "5 1\n",
    "2 2 3 3 1\n",
    "Sample Output 1:\n",
    "3 4\n",
    "3\n",
    "Explanation for sample input 1:\n",
    "Test case 1:\n",
    "If we sort the array then it will look like: [1, 2, 3, 4]. The 2 largest elements will be [3, 4].\n",
    "\n",
    "Test case 2:\n",
    "If we sort the array then it will look like: [1, 2, 2, 3, 3]. Then the largest element will be [3]."
   ]
  },
  {
   "cell_type": "code",
   "execution_count": 49,
   "id": "7e348484",
   "metadata": {},
   "outputs": [
    {
     "name": "stdout",
     "output_type": "stream",
     "text": [
      "6\n",
      "1\n",
      "2\n",
      "2\n",
      "3\n",
      "3\n",
      "4\n",
      "Enter the value of 'k': 2\n",
      "3\n",
      "4\n"
     ]
    }
   ],
   "source": [
    "x = int(input())\n",
    "list1 = []\n",
    "\n",
    "for i in range(x):\n",
    "    num = int(input())\n",
    "    list1.append(num)\n",
    "\n",
    "k = int(input(\"Enter the number: \"))\n",
    "\n",
    "set1 = set()\n",
    "sorted_lst = []\n",
    "\n",
    "for num in list1:\n",
    "    if num not in set1:\n",
    "        set1.add(num)\n",
    "        sorted_lst.append(num)\n",
    "\n",
    "\n",
    "for i in range(len(sorted_lst)-k,len(sorted_lst)):\n",
    "    print(sorted_lst[i])"
   ]
  },
  {
   "cell_type": "markdown",
   "id": "650c25f6",
   "metadata": {},
   "source": [
    "#### 8. Merge K Sorted Arrays\n",
    "You have been given ‘K’ different arrays/lists, which are sorted individually (in ascending order). You need to merge all the given arrays/list such that the output array/list should be sorted in ascending order.\n",
    "Sample Input 1:\n",
    "1\n",
    "2\n",
    "3 \n",
    "3 5 9 \n",
    "4 \n",
    "1 2 3 8   \n",
    "Sample Output 1:\n",
    "1 2 3 3 5 8 9 \n",
    "Explanation of Sample Input 1:\n",
    "After merging the two given arrays/lists [3, 5, 9] and [ 1, 2, 3, 8], the output sorted array will be [1, 2, 3, 3, 5, 8, 9]."
   ]
  },
  {
   "cell_type": "code",
   "execution_count": 100,
   "id": "c7081430",
   "metadata": {},
   "outputs": [
    {
     "name": "stdout",
     "output_type": "stream",
     "text": [
      "Enter Number of lists: 3\n",
      "Enter length of list4\n",
      "Enter your value: 1\n",
      "Enter your value: 2\n",
      "Enter your value: 5\n",
      "Enter your value: 6\n",
      "Enter length of list3\n",
      "Enter your value: 3\n",
      "Enter your value: 4\n",
      "Enter your value: 7\n",
      "Enter length of list3\n",
      "Enter your value: 2\n",
      "Enter your value: 5\n",
      "Enter your value: 8\n",
      "[1, 2, 2, 3, 4, 5, 5, 6, 7, 8]\n"
     ]
    }
   ],
   "source": [
    "k=int(input(\"Enter Number of lists: \"))\n",
    "final_list=[]\n",
    "for i in range(k):\n",
    "    n=int(input(\"Enter length of list\"))\n",
    "    list1=[]\n",
    "    for j in range(n):\n",
    "        d=int(input(\"Enter your value: \"))\n",
    "        list1.append(d)\n",
    "        final_list.append(d)\n",
    "        \n",
    "final_list=sorted(final_list)\n",
    "print(final_list)\n",
    "\n",
    "\n",
    "\n",
    "# n1=int(input(\"Enter the size: \"))\n",
    "# list1=[]\n",
    "# for i in range(n1):\n",
    "#     list1.append(int(input()))\n",
    "    \n",
    "# n2=int(input(\"Enter the size: \"))\n",
    "# list2=[]\n",
    "# for i in range(n2):\n",
    "#     list2.append(int(input()))\n",
    "    \n",
    "# list3=[]\n",
    "# k=0\n",
    "# i=0\n",
    "# j=0\n",
    "# while(i<n1 and j<n2):\n",
    "#     if(list1[i]<=list2[j]):\n",
    "#         list3.append(list1[i])\n",
    "#         i+=1\n",
    "#     else:\n",
    "#         list3.append(list2[j])\n",
    "#         k+=1\n",
    "#         j+=1\n",
    "        \n",
    "# while(i<n1):\n",
    "#     list3.append(list1[i])\n",
    "#     k+=1\n",
    "#     i+=1\n",
    "# while(j<n2):\n",
    "#     list3.append(list2[j])\n",
    "#     k+=1\n",
    "#     j+=1\n",
    "    \n",
    "# print(\"Merged list:\", list3)"
   ]
  },
  {
   "cell_type": "markdown",
   "id": "8d669a3d",
   "metadata": {},
   "source": [
    "#### 9.Longest Consecutive Sequence\n",
    "You are given an unsorted array/list 'ARR' of 'N' integers. Your task is to return the length of the longest consecutive sequence.\n",
    "\n",
    "The consecutive sequence is in the form ['NUM', 'NUM' + 1, 'NUM' + 2, ..., 'NUM' + L] where 'NUM' is the starting integer of the sequence and 'L' + 1 is the length of the sequence.\n",
    "\n",
    "Note:\n",
    "\n",
    "If there are any duplicates in the given array we will count only one of them in the consecutive sequence.\n",
    "For example-\n",
    "For the given 'ARR' [9,5,4,9,10,10,6].\n",
    "\n",
    "Output = 3\n",
    "The longest consecutive sequence is [4,5,6].\n",
    "Follow Up:\n",
    "Can you solve this in O(N) time and O(N) space complexity?\n",
    "Sample Input 1 :\n",
    "1 \n",
    "5\n",
    "33 20 34 30 35\n",
    "Sample Output 1 :\n",
    "3\n",
    "Explanation to Sample Input 1 :\n",
    "The longest consecutive sequence is [33, 34, 35]."
   ]
  },
  {
   "cell_type": "code",
   "execution_count": 98,
   "id": "5825334f",
   "metadata": {},
   "outputs": [
    {
     "name": "stdout",
     "output_type": "stream",
     "text": [
      "5\n",
      "1\n",
      "2\n",
      "9\n",
      "15\n",
      "17\n",
      "2\n"
     ]
    }
   ],
   "source": [
    "n = int(input())\n",
    "list1 = []\n",
    "\n",
    "for i in range(n):\n",
    "    num = int(input())\n",
    "    list1.append(num)\n",
    "    \n",
    "max_len=0\n",
    "set1=set(list1)\n",
    "for i in list1:\n",
    "    curr_len=1\n",
    "    curr_num=i\n",
    "    while curr_num+1 in set1:\n",
    "        curr_len+=1\n",
    "        curr_num+=1\n",
    "        \n",
    "    max_len=max(max_len,curr_len)\n",
    "    \n",
    "print(max_len)\n",
    "        "
   ]
  },
  {
   "cell_type": "markdown",
   "id": "4a5ade12",
   "metadata": {},
   "source": [
    "#### 10. You are given an unsorted array consisting of N non-negative integers. Your task is to sort the array in non-decreasing order using the Selection Sort algorithm.\n",
    "Sample Input 1:\n",
    "1\n",
    "5\n",
    "6 2 8 4 10\n",
    "Sample Output 1:\n",
    "2 4 6 8 10\n",
    "Explanation :\n",
    "In the first step, the minimum element is 2. Thus it is swapped with the starting element of the unsorted region.\n",
    "In the second step, 4 is the minimum element. Now, it is swapped with the starting element of the unsorted region.\n",
    "Similarly, in the third step, the minimum element is 6, which is swapped accordingly.\n",
    "In the final step, all elements are arranged as per the non-decreasing order. Thus the array is sorted."
   ]
  },
  {
   "cell_type": "code",
   "execution_count": 69,
   "id": "3974d3a9",
   "metadata": {},
   "outputs": [
    {
     "name": "stdout",
     "output_type": "stream",
     "text": [
      "Enter the number of elements: 5\n",
      "Enter element: 6\n",
      "Enter element: 2\n",
      "Enter element: 8\n",
      "Enter element: 4\n",
      "Enter element: 10\n",
      "Sorted List: [2, 4, 6, 8, 10]\n"
     ]
    }
   ],
   "source": [
    "x = int(input(\"Enter the number of elements: \"))\n",
    "list1 = []\n",
    "\n",
    "for i in range(x):\n",
    "    d = int(input(\"Enter element: \"))\n",
    "    list1.append(d)\n",
    "\n",
    "for i in range(len(list1)-1):\n",
    "    min_index = i\n",
    "    for j in range(i + 1, len(list1)):\n",
    "        if list1[j] < list1[min_index]:\n",
    "            min_index = j\n",
    "\n",
    "    list1[i], list1[min_index] = list1[min_index], list1[i]\n",
    "\n",
    "print(\"Sorted List:\", list1)"
   ]
  },
  {
   "cell_type": "markdown",
   "id": "0e00e42a",
   "metadata": {},
   "source": [
    "#### 11.Merge Sort\n",
    "Given a sequence of numbers ‘ARR’. Your task is to return a sorted sequence of ‘ARR’ in non-descending order with help of the merge sort algorithm.\n",
    "\n",
    "Example :\n",
    "\n",
    "Merge Sort Algorithm -\n",
    "\n",
    "Merge sort is a Divide and Conquer based Algorithm. It divides the input array into two-parts, until the size of the input array is not ‘1’. In the return part, it will merge two sorted arrays a return a whole merged sorted array.\n",
    "\n",
    "Sample Input 1 :\n",
    "2\n",
    "7\n",
    "3 4 1 6 2 5 7\n",
    "4\n",
    "4 3 1 2\n",
    "Sample Output 1 :\n",
    "1 2 3 4 5 6 7\n",
    "1 2 3 4\n",
    "Explanation For Sample Input 1:\n",
    "Test Case 1 :\n",
    "\n",
    "Given ‘ARR’ : { 3, 4, 1, 6, 2, 5, 7 }\n",
    "\n",
    "Then sorted 'ARR' in non-descending order will be : { 1, 2, 3, 4, 5, 6, 7 }. Non-descending order means every element must be greater than or equal to the previse element."
   ]
  },
  {
   "cell_type": "code",
   "execution_count": 58,
   "id": "371ed9de",
   "metadata": {},
   "outputs": [
    {
     "name": "stdout",
     "output_type": "stream",
     "text": [
      "Enter the number of elements: 8\n",
      "2\n",
      "5\n",
      "4\n",
      "6\n",
      "8\n",
      "7\n",
      "9\n",
      "3\n",
      "Sorted List : [2, 3, 4, 5, 6, 7, 8, 9]\n"
     ]
    }
   ],
   "source": [
    "def merge_sort(arr):\n",
    "    if len(arr) > 1:\n",
    "        mid = len(arr) // 2\n",
    "        left_arr = arr[:mid]\n",
    "        right_arr = arr[mid:]\n",
    "\n",
    "        merge_sort(left_arr)\n",
    "        merge_sort(right_arr)\n",
    "\n",
    "        i = j = k = 0\n",
    "\n",
    "        while i < len(left_arr) and j < len(right_arr):\n",
    "            if left_arr[i] < right_arr[j]:\n",
    "                arr[k] = left_arr[i]\n",
    "                i += 1\n",
    "            else:\n",
    "                arr[k] = right_arr[j]\n",
    "                j += 1\n",
    "            k += 1\n",
    "\n",
    "        while i < len(left_arr):\n",
    "            arr[k] = left_arr[i]\n",
    "            i += 1\n",
    "            k += 1\n",
    "\n",
    "        while j < len(right_arr):\n",
    "            arr[k] = right_arr[j]\n",
    "            j += 1\n",
    "            k += 1\n",
    "\n",
    "x = int(input(\"Enter the number of elements: \"))\n",
    "list1 = []\n",
    "\n",
    "for i in range(x):\n",
    "    d = int(input())\n",
    "    list1.append(d)\n",
    "\n",
    "merge_sort(list1)\n",
    "\n",
    "print(\"Sorted List :\", list1)"
   ]
  },
  {
   "cell_type": "markdown",
   "id": "3c9c3958",
   "metadata": {},
   "source": [
    "#### 12. Insertion Sort\n",
    "Problem statement\n",
    "You are given ‘N’ integers in the form of an array ‘ARR’. Print the sorted array using the insertion sort.\n",
    "\n",
    "Note :\n",
    "No need to return anything. You should sort the array in-place.\n",
    "For example :\n",
    "Let ‘ARR’ be: [1, 4, 2]\n",
    "The sorted array will be: [1, 2, 4]"
   ]
  },
  {
   "cell_type": "code",
   "execution_count": 70,
   "id": "3ddbecaf",
   "metadata": {},
   "outputs": [
    {
     "name": "stdout",
     "output_type": "stream",
     "text": [
      "Enter the number of elements: 5\n",
      "5\n",
      "4\n",
      "2\n",
      "1\n",
      "6\n",
      "[1, 2, 4, 5, 6]\n"
     ]
    }
   ],
   "source": [
    "x = int(input(\"Enter the number of elements: \"))\n",
    "list1 = []\n",
    "\n",
    "for i in range(x):\n",
    "    d = int(input())\n",
    "    list1.append(d)\n",
    "\n",
    "for i in range(1, len(list1)):\n",
    "    key = list1[i]\n",
    "    j = i - 1\n",
    "\n",
    "    while j >= 0 and key < list1[j]:\n",
    "        list1[j + 1] = list1[j]\n",
    "        j -= 1\n",
    "\n",
    "    list1[j + 1] = key\n",
    "\n",
    "print(list1)"
   ]
  },
  {
   "cell_type": "markdown",
   "id": "59d6541c",
   "metadata": {},
   "source": [
    "#### 13.Search Insert Position\n",
    "You are given a sorted array 'arr' of distinct values and a target value 'm'.\n",
    "\n",
    "You need to search for the index of the target value in the array.\n",
    "\n",
    "Note:\n",
    "If the value is present in the array, return its index.\n",
    "If the value is absent, determine the index where it would be inserted in the array while maintaining the sorted order. \n",
    "\n",
    "Example:\n",
    "Input:  arr = [1, 2, 4, 7],  m = 6 \n",
    "\n",
    "Output: 3\n",
    "\n",
    "Explanation: If the given array 'arr' is: [1, 2, 4, 7] and m = 6. We insert m = 6 in the array and get 'arr' as: [1, 2, 4, 6, 7]. The position of 6 is 3 (according to 0-based indexing)\n",
    "\n",
    "\n",
    "Note:\n",
    "1) The given array has distinct integers.\n",
    "\n",
    "2) The given array may be empty.\n",
    "\n",
    "Sample Input 1:\n",
    "4 9\n",
    "1 2 4 7\n",
    "\n",
    "Sample Output 1:\n",
    "4\n",
    "\n",
    "Explanation of Input 1:\n",
    "The given array 'arr' is: [1, 2, 4, 7] and m = 9. We insert m = 9 in the array and get 'arr' as: [1, 2, 4, 7, 9]. The position of 9 is 4 (according to 0-based indexing)."
   ]
  },
  {
   "cell_type": "code",
   "execution_count": 91,
   "id": "dd445601",
   "metadata": {},
   "outputs": [
    {
     "name": "stdout",
     "output_type": "stream",
     "text": [
      "Enter the number of elements: 4\n",
      "Enter element: 1\n",
      "Enter element: 2\n",
      "Enter element: 4\n",
      "Enter element: 7\n",
      "Enter target value: 9\n",
      "4\n"
     ]
    }
   ],
   "source": [
    "def search_insert_position(list1,x,target):\n",
    "    for i in range(x):\n",
    "        if(list1[i]==target):\n",
    "            return i\n",
    "        if(target<list1[i]):\n",
    "            return i\n",
    "    return i+1\n",
    "\n",
    "x = int(input(\"Enter the number of elements: \"))\n",
    "list1 = []\n",
    "\n",
    "for i in range(x):\n",
    "    d = int(input(\"Enter element: \"))\n",
    "    list1.append(d)\n",
    "    \n",
    "target=int(input(\"Enter target value: \"))\n",
    "    \n",
    "print(search_insert_position(list1,x,target))"
   ]
  },
  {
   "cell_type": "markdown",
   "id": "9b22fc13",
   "metadata": {},
   "source": [
    "#### 14. Bubble Sort\n",
    "Bubble Sort is one of the sorting algorithms that works by repeatedly swapping the adjacent elements of the array if they are not in sorted order.\n",
    "\n",
    "You are given an unsorted array consisting of N non-negative integers. Your task is to sort the array in non-decreasing order using the Bubble Sort algorithm.\n",
    "\n",
    "Sample Input 1:\n",
    "1\n",
    "5\n",
    "6 2 8 4 10\n",
    "Sample Output 1:\n",
    "2 4 6 8 10"
   ]
  },
  {
   "cell_type": "code",
   "execution_count": 56,
   "id": "032af5e7",
   "metadata": {},
   "outputs": [
    {
     "name": "stdout",
     "output_type": "stream",
     "text": [
      "Enter the number of elements: 5\n",
      "Enter element: 4\n",
      "Enter element: 6\n",
      "Enter element: 2\n",
      "Enter element: 1\n",
      "Enter element: 3\n",
      "Sorted List : [1, 2, 3, 4, 6]\n"
     ]
    }
   ],
   "source": [
    "x = int(input(\"Enter the number of elements: \"))\n",
    "list1 = []\n",
    "\n",
    "for i in range(x):\n",
    "    d = int(input(\"Enter element: \"))\n",
    "    list1.append(d)\n",
    "\n",
    "for i in range(len(list1)):\n",
    "    for j in range(0, len(list1) - i - 1):\n",
    "        if list1[j] > list1[j + 1]:\n",
    "            list1[j], list1[j + 1] = list1[j + 1], list1[j]\n",
    "\n",
    "print(\"Sorted List :\", list1)\n"
   ]
  },
  {
   "cell_type": "markdown",
   "id": "0bc9dedc",
   "metadata": {},
   "source": [
    "#### 15.Problem statement\n",
    "You are given an array ‘ARR’ of ‘N’ integers and a target number, ‘TARGET’. Your task is to build an expression out of an array by adding one of the symbols '+' and '-' before each integer in an array, and then by concatenating all the integers, you want to achieve a target. You have to return the number of ways the target can be achieved.\n",
    "\n",
    "For Example :\n",
    "You are given the array ‘ARR’ = [1, 1, 1, 1, 1], ‘TARGET’ = 3. The number of ways this target can be achieved is:\n",
    "1. -1 + 1 + 1 + 1 + 1 = 3\n",
    "2. +1 - 1 + 1 + 1 + 1 = 3\n",
    "3. +1 + 1 - 1 + 1 + 1 = 3\n",
    "4. +1 + 1 + 1 - 1 + 1 = 3\n",
    "5. +1 + 1 + 1 + 1 - 1 = 3\n",
    "These are the 5 ways to make. Hence the answer is 5."
   ]
  },
  {
   "cell_type": "code",
   "execution_count": 104,
   "id": "97b1578f",
   "metadata": {},
   "outputs": [
    {
     "name": "stdout",
     "output_type": "stream",
     "text": [
      "Enter the size: 5\n",
      "Enter value: 1\n",
      "Enter value: 1\n",
      "Enter value: 1\n",
      "Enter value: 1\n",
      "Enter value: 1\n",
      "Enter target value: 3\n",
      "Number of ways to achieve the target sum: 5\n"
     ]
    }
   ],
   "source": [
    "def get_num_of_ways(arr, target, index):\n",
    "    # Base Cases\n",
    "    if index >= len(arr):\n",
    "        return 1 if target == 0 else 0\n",
    "    ans1 = get_num_of_ways(arr, target - arr[index], index + 1)\n",
    "    ans2 = get_num_of_ways(arr, target + arr[index], index + 1)\n",
    "\n",
    "    return ans1 + ans2\n",
    "\n",
    "def target_sum(n, target, arr):\n",
    "    return get_num_of_ways(arr, target, 0)\n",
    "n=int(input(\"Enter the size: \"))\n",
    "arr = []  \n",
    "for i in range(n):\n",
    "    arr.append(int(input(\"Enter value: \")))\n",
    "target_value = int(input(\"Enter target value: \"))     \n",
    "num_ways = target_sum(len(arr), target_value, arr)\n",
    "print(\"Number of ways to achieve the target sum:\", num_ways)"
   ]
  }
 ],
 "metadata": {
  "kernelspec": {
   "display_name": "Python 3 (ipykernel)",
   "language": "python",
   "name": "python3"
  },
  "language_info": {
   "codemirror_mode": {
    "name": "ipython",
    "version": 3
   },
   "file_extension": ".py",
   "mimetype": "text/x-python",
   "name": "python",
   "nbconvert_exporter": "python",
   "pygments_lexer": "ipython3",
   "version": "3.11.5"
  }
 },
 "nbformat": 4,
 "nbformat_minor": 5
}
