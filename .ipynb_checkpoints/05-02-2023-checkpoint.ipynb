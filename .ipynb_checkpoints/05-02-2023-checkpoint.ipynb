{
 "cells": [
  {
   "cell_type": "markdown",
   "id": "5f778521",
   "metadata": {},
   "source": [
    "# Assignment..."
   ]
  },
  {
   "cell_type": "markdown",
   "id": "77281dfd",
   "metadata": {},
   "source": [
    "#### 1. Write a Python script to display the various Date Time formats -\n",
    "a) Current date and time\n",
    "b) Current year\n",
    "c) Month of year\n",
    "d) Week number of the year\n",
    "e) Weekday of the week\n",
    "f) Day of year\n",
    "g) Day of the month\n",
    "h) Day of week"
   ]
  },
  {
   "cell_type": "code",
   "execution_count": 33,
   "id": "2bdb1922",
   "metadata": {},
   "outputs": [
    {
     "name": "stdout",
     "output_type": "stream",
     "text": [
      "Today's date:  2024-02-05 11:35:08.265530\n",
      "Formatted Date and Time: 2024-02-05 11:35:08\n",
      "\n",
      "Current year: 2024\n",
      "\n",
      "Current month: February\n",
      "\n",
      "Current week of the year: 05\n",
      "\n",
      "Weekday of the week: Monday\n",
      "\n",
      "Day of year: 036\n",
      "\n",
      "Day of the month: 05\n",
      "\n",
      "Day of week: 1\n"
     ]
    }
   ],
   "source": [
    "# a) Current date and time\n",
    "from datetime import datetime\n",
    "today=datetime.now()\n",
    "print(\"Today's date: \",today)\n",
    "\n",
    "formatted_datetime = today.strftime(\"%Y-%m-%d %H:%M:%S\")\n",
    "print(\"Formatted Date and Time:\", formatted_datetime)\n",
    "\n",
    "# b) Current year\n",
    "print(\"\\nCurrent year:\", today.year)\n",
    "\n",
    "# c) Month of year\n",
    "print(\"\\nCurrent month:\", today.strftime(\"%B\"))\n",
    "\n",
    "# d) Week number of the year\n",
    "print(\"\\nCurrent week of the year:\", today.strftime(\"%U\"))\n",
    "\n",
    "# e) Weekday of the week\n",
    "print(\"\\nWeekday of the week:\", today.strftime(\"%A\"))\n",
    "\n",
    "# f) Day of year\n",
    "print(\"\\nDay of year:\", today.strftime(\"%j\"))\n",
    "\n",
    "# g) Day of the month\n",
    "print(\"\\nDay of the month:\", today.strftime(\"%d\"))\n",
    "\n",
    "# h) Day of week\n",
    "print(\"\\nDay of week:\", today.strftime(\"%w\"))"
   ]
  },
  {
   "cell_type": "markdown",
   "id": "5c985080",
   "metadata": {},
   "source": [
    "#### 2.Write a Python program to subtract five days from the current date.\n",
    "Sample Date :\n",
    "Current Date : 2015-06-22"
   ]
  },
  {
   "cell_type": "code",
   "execution_count": 44,
   "id": "ad3d2e6f",
   "metadata": {},
   "outputs": [
    {
     "name": "stdout",
     "output_type": "stream",
     "text": [
      "2024-01-31\n",
      "\n",
      "2024-02-10\n"
     ]
    }
   ],
   "source": [
    "from datetime import date, timedelta\n",
    "today_date=date.today()\n",
    "print(today_date-timedelta(days=5))\n",
    "print(f\"\\n{today_date+timedelta(days=5)}\")"
   ]
  },
  {
   "cell_type": "markdown",
   "id": "e0655bdf",
   "metadata": {},
   "source": [
    "#### 3.Write a Python program to calculate the number of days between two date times."
   ]
  },
  {
   "cell_type": "code",
   "execution_count": 53,
   "id": "12e3058f",
   "metadata": {},
   "outputs": [
    {
     "name": "stdout",
     "output_type": "stream",
     "text": [
      "31 days, 7:30:00\n"
     ]
    }
   ],
   "source": [
    "start_date_str = \"2024-01-01 05:00:00\"\n",
    "end_date_str = \"2024-02-01 12:30:00\"\n",
    "\n",
    "x=datetime.strptime(start_date_str, \"%Y-%m-%d %H:%M:%S\")\n",
    "y=datetime.strptime(end_date_str, \"%Y-%m-%d %H:%M:%S\")\n",
    "                    \n",
    "difference = y - x\n",
    "\n",
    "print(difference)"
   ]
  },
  {
   "cell_type": "markdown",
   "id": "ce38bda8",
   "metadata": {},
   "source": [
    "#### 4.Write a Python program to read an entire text file."
   ]
  },
  {
   "cell_type": "code",
   "execution_count": 69,
   "id": "fd746c56",
   "metadata": {},
   "outputs": [
    {
     "name": "stdout",
     "output_type": "stream",
     "text": [
      "<_io.TextIOWrapper name='example.txt' mode='w' encoding='cp1252'>\n",
      "\n",
      "Cricket is a popular sport played and watched by millions of fans around the world.\n",
      "It is a bat-and-ball game played between two teams, each consisting of eleven players.\n",
      "The game is played on a circular field with a rectangular 22-yard-long pitch in the center.\n",
      "The primary objective is for the batting team to score runs by hitting the ball and running between two sets of wickets.\n",
      "The fielding team aims to dismiss the batsmen or restrict the runs scored.\n",
      "Cricket has different formats, including Test matches, One Day Internationals (ODIs), and Twenty20 (T20) matches.\n",
      "The sport has a rich history, with international competitions like the ICC Cricket World Cup and the Ashes series being highly prestigious.\n",
      "Legendary players like Sachin Tendulkar, Sir Donald Bradman, and Brian Lara have left a significant impact on the game.\n",
      "Cricket has a diverse fan base, and major cricketing nations include India, Australia, England, Pakistan, and South Africa.\n",
      "The game's unique terminology, such as \"bowled,\" \"lbw\" (leg before wicket), and \"century,\" adds to its charm and complexity.\n"
     ]
    }
   ],
   "source": [
    "file_path=\"example.txt\"\n",
    "content=\"\"\"Cricket is a popular sport played and watched by millions of fans around the world.\n",
    "It is a bat-and-ball game played between two teams, each consisting of eleven players.\n",
    "The game is played on a circular field with a rectangular 22-yard-long pitch in the center.\n",
    "The primary objective is for the batting team to score runs by hitting the ball and running between two sets of wickets.\n",
    "The fielding team aims to dismiss the batsmen or restrict the runs scored.\n",
    "Cricket has different formats, including Test matches, One Day Internationals (ODIs), and Twenty20 (T20) matches.\n",
    "The sport has a rich history, with international competitions like the ICC Cricket World Cup and the Ashes series being highly prestigious.\n",
    "Legendary players like Sachin Tendulkar, Sir Donald Bradman, and Brian Lara have left a significant impact on the game.\n",
    "Cricket has a diverse fan base, and major cricketing nations include India, Australia, England, Pakistan, and South Africa.\n",
    "The game's unique terminology, such as \"bowled,\" \"lbw\" (leg before wicket), and \"century,\" adds to its charm and complexity.\"\"\"\n",
    "with open (file_path,'w') as file:\n",
    "    file.write(content)\n",
    "    \n",
    "print(file)\n",
    "\n",
    "with open (file_path,'r') as file:\n",
    "    contents=file.read()\n",
    "    \n",
    "print(f\"\\n{contents}\")"
   ]
  },
  {
   "cell_type": "markdown",
   "id": "b60f677e",
   "metadata": {},
   "source": [
    "#### 5.Write a Python program to read first n lines of a file."
   ]
  },
  {
   "cell_type": "code",
   "execution_count": 84,
   "id": "e19352ff",
   "metadata": {},
   "outputs": [
    {
     "name": "stdout",
     "output_type": "stream",
     "text": [
      "2\n",
      "['Cricket is a popular sport played and watched by millions of fans around the world.\\n', 'It is a bat-and-ball game played between two teams, each consisting of eleven players.\\n', 'The game is played on a circular field with a rectangular 22-yard-long pitch in the center.\\n', 'The primary objective is for the batting team to score runs by hitting the ball and running between two sets of wickets.\\n', 'The fielding team aims to dismiss the batsmen or restrict the runs scored.\\n', 'Cricket has different formats, including Test matches, One Day Internationals (ODIs), and Twenty20 (T20) matches.\\n', 'The sport has a rich history, with international competitions like the ICC Cricket World Cup and the Ashes series being highly prestigious.\\n', 'Legendary players like Sachin Tendulkar, Sir Donald Bradman, and Brian Lara have left a significant impact on the game.\\n', 'Cricket has a diverse fan base, and major cricketing nations include India, Australia, England, Pakistan, and South Africa.\\n', 'The game\\'s unique terminology, such as \"bowled,\" \"lbw\" (leg before wicket), and \"century,\" adds to its charm and complexity.']\n"
     ]
    }
   ],
   "source": [
    "n=int(input())\n",
    "with open(\"example.txt\", \"r\") as file:\n",
    "    for line in range(n):\n",
    "        line=file.readlines()\n",
    "        if not line:\n",
    "            break\n",
    "        print(line)"
   ]
  },
  {
   "cell_type": "markdown",
   "id": "ccb01d09",
   "metadata": {},
   "source": [
    "#### 6.Write a Python program to read last n lines of a file."
   ]
  },
  {
   "cell_type": "code",
   "execution_count": null,
   "id": "70a8abb6",
   "metadata": {},
   "outputs": [],
   "source": []
  },
  {
   "cell_type": "markdown",
   "id": "9d59d74c",
   "metadata": {},
   "source": [
    "#### 7.Write a Python program to get the file size of a plain file."
   ]
  }
 ],
 "metadata": {
  "kernelspec": {
   "display_name": "Python 3 (ipykernel)",
   "language": "python",
   "name": "python3"
  },
  "language_info": {
   "codemirror_mode": {
    "name": "ipython",
    "version": 3
   },
   "file_extension": ".py",
   "mimetype": "text/x-python",
   "name": "python",
   "nbconvert_exporter": "python",
   "pygments_lexer": "ipython3",
   "version": "3.11.5"
  }
 },
 "nbformat": 4,
 "nbformat_minor": 5
}
