{
 "cells": [
  {
   "cell_type": "markdown",
   "id": "01ec4ea0",
   "metadata": {},
   "source": [
    "# Assignment"
   ]
  },
  {
   "cell_type": "markdown",
   "id": "57ac373f",
   "metadata": {},
   "source": [
    "#### 1.Number of occurrence\n",
    "Problem statement\n",
    "You have been given a sorted array/list of integers 'arr' of size 'n' and an integer 'x'.\n",
    "Find the total number of occurrences of 'x' in the array/list.\n",
    "Example:\n",
    "Input: 'n' = 7, 'x' = 3\n",
    "'arr' = [1, 1, 1, 2, 2, 3, 3]\n",
    "Output: 2\n",
    "Explanation: Total occurrences of '3' in the array 'arr' is 2."
   ]
  },
  {
   "cell_type": "code",
   "execution_count": 4,
   "id": "d2d481d3",
   "metadata": {},
   "outputs": [
    {
     "name": "stdout",
     "output_type": "stream",
     "text": [
      "Enter the length: 7\n",
      "Enter element to search: 1\n",
      "Enter the element: 1\n",
      "Enter the element: 1\n",
      "Enter the element: 1\n",
      "Enter the element: 2\n",
      "Enter the element: 2\n",
      "Enter the element: 3\n",
      "Enter the element: 3\n",
      "3\n"
     ]
    }
   ],
   "source": [
    "n=int(input('Enter the length: '))\n",
    "x=int(input(\"Enter element to search: \"))\n",
    "list1=[]\n",
    "for i in range(n):\n",
    "    list1.append(int(input(\"Enter the element: \")))\n",
    "\n",
    "c=0\n",
    "for i in list1:\n",
    "    if i==x:\n",
    "        c+=1\n",
    "        \n",
    "print(c)"
   ]
  },
  {
   "cell_type": "markdown",
   "id": "051a4c28",
   "metadata": {},
   "source": [
    "#### 2.Find First and Last Position of Element in Sorted Array\n",
    "Problem statement\n",
    "You are given a non-decreasing array 'arr' consisting of 'n' integers and an integer 'x'. You need to find the first and last position of 'x' in the array.\n",
    "Note:\n",
    "1. The array follows 0-based indexing, so you need to return 0-based indices.\n",
    "2. If 'x' is not present in the array, return {-1 -1}.\n",
    "3. If 'x' is only present once in the array, the first and last position of its occurrence will be the same.\n",
    "Example:\n",
    "Input:  arr = [1, 2, 4, 4, 5],  x = 4\n",
    "Output: 2 3\n",
    "Explanation: The given array’s 0-based indexing is as follows:\n",
    " 1      2     4     4     5\n",
    " ↓      ↓     ↓     ↓     ↓\n",
    " 0      1     2     3     4\n",
    "So, the first occurrence of 4 is at index 2, and the last occurrence of 4 is at index 3.\n"
   ]
  },
  {
   "cell_type": "code",
   "execution_count": 14,
   "id": "309a9dbe",
   "metadata": {},
   "outputs": [
    {
     "name": "stdout",
     "output_type": "stream",
     "text": [
      "Enter the size: 10\n",
      "Enter the element: 1\n",
      "Enter the element: 2\n",
      "Enter the element: 3\n",
      "Enter the element: 3\n",
      "Enter the element: 3\n",
      "Enter the element: 4\n",
      "Enter the element: 5\n",
      "Enter the element: 6\n",
      "Enter the element: 3\n",
      "Enter the element: 7\n",
      "Element to search: 3\n",
      "2 , 4\n"
     ]
    }
   ],
   "source": [
    "n=int(input(\"Enter the size: \"))\n",
    "list1=[]\n",
    "for i in range(n):\n",
    "    list1.append(int(input(\"Enter the element: \")))\n",
    "    \n",
    "x=int(input(\"Element to search: \"))\n",
    "first_index=0\n",
    "last_index=0\n",
    "for i in range(n):\n",
    "    if list1[i]==x:\n",
    "        first_index=i\n",
    "        break\n",
    "for i in range(first_index+1,n,1):\n",
    "    if list1[i]!=list1[first_index]:\n",
    "        last_index=i-1\n",
    "        break\n",
    "        \n",
    "print(first_index,\",\",last_index)"
   ]
  },
  {
   "cell_type": "markdown",
   "id": "d13aae4d",
   "metadata": {},
   "source": [
    "#### 3.Find Duplicates In Array\n",
    "Problem statement\n",
    "You are given an array/list 'ARR' consisting of N integers, which contains elements only in the range 0 to N - 1. Some of the elements may be repeated in 'ARR'. Your task is to find all such duplicate elements.\n",
    "\n",
    "Note:\n",
    "1. All the elements are in the range 0 to N - 1.\n",
    "2. The elements may not be in sorted order.\n",
    "3. You can return the duplicate elements in any order.\n",
    "4. If there are no duplicates present then return an empty array.\n",
    "\n",
    "Sample Input 1:\n",
    "2\n",
    "5\n",
    "0 2 1 2 3 \n",
    "7\n",
    "3 2 1 3 2 1 5\n",
    "Sample Output 1:\n",
    "2\n",
    "1 2 3\n",
    "Explanation For Sample Input 1:\n",
    "For the first test case, since 2 is the only duplicate element, so we return it.\n",
    "\n",
    "For the second test case, since 1, 2, 3 are duplicates so we return them. Note that 2, 3, 1 and 3, 2, 1 are also acceptable."
   ]
  },
  {
   "cell_type": "code",
   "execution_count": 20,
   "id": "bbd13086",
   "metadata": {},
   "outputs": [
    {
     "name": "stdout",
     "output_type": "stream",
     "text": [
      "9\n",
      "1\n",
      "2\n",
      "2\n",
      "3\n",
      "3\n",
      "4\n",
      "5\n",
      "6\n",
      "6\n",
      "[1, 2, 2, 3, 3, 4, 5, 6, 6]\n",
      "[2, 3, 6]\n"
     ]
    }
   ],
   "source": [
    "n=int(input())\n",
    "list1=[]\n",
    "dict1={}\n",
    "for i in range(n):\n",
    "    data=int(input())\n",
    "    list1.append(data)\n",
    "    if data in dict1:\n",
    "        dict1[data]+=1\n",
    "    else:\n",
    "        dict1[data]=1\n",
    "print(list1)\n",
    "\n",
    "list1.clear()\n",
    "        \n",
    "for key,value in dict1.items():\n",
    "    if value>1:\n",
    "        list1.append(key)\n",
    "        \n",
    "print(list1)"
   ]
  },
  {
   "cell_type": "markdown",
   "id": "e95c2157",
   "metadata": {},
   "source": [
    "#### 4.Search In Infinite Sorted 0-1 Array\n",
    "Problem statement\n",
    "You are given an infinite array consisting of only ones and zeroes, in sorted order. You have to find the index of the first occurrence of 1.\n",
    "\n",
    "Example:\n",
    "If the array is 0 0 0 0 1 1 1 1… then, the first occurrence of 1 will be at index 4 therefore the answer here is 4.\n",
    "Note:\n",
    "As the array size is infinite, the actual array won’t be given to you. Instead, you will be able to access the array elements by calling a method named ‘get’.\n",
    "\n",
    "get(i) : returns the value present at index I.\n",
    "\n",
    "Indexing is 0-based. \n",
    "\n",
    "Instead of representing an infinite array in the input, we give the index of the first occurrence of 1 in the input itself. However, this input will be completely hidden from the user.\n",
    "\n",
    "It is guaranteed that the answer will fit in a 64-bit integer."
   ]
  },
  {
   "cell_type": "code",
   "execution_count": 28,
   "id": "bcd46ad9",
   "metadata": {},
   "outputs": [
    {
     "name": "stdout",
     "output_type": "stream",
     "text": [
      "Enter the size: 6\n",
      "Enter element: 0\n",
      "Enter element: 0\n",
      "Enter element: 0\n",
      "Enter element: 1\n",
      "Enter element: 1\n",
      "Enter element: 1\n",
      "Index =  3\n"
     ]
    }
   ],
   "source": [
    "def index_of_first_one(arr, low, high) : \n",
    "    while (low <= high):\n",
    "        mid = (low + high) // 2\n",
    "        if (arr[mid] == 1 and (mid == 0 or arr[mid - 1] == 0)) :\n",
    "            break\n",
    "        elif (arr[mid] == 1) :\n",
    "            high = mid - 1\n",
    "        else :\n",
    "            low = mid + 1\n",
    "     \n",
    "    return mid\n",
    "     \n",
    "def find_first_One(arr) :\n",
    "    l = 0\n",
    "    h = 1\n",
    "    while (arr[h] == 0) :\n",
    "        l = h\n",
    "        h = 2 * h\n",
    "         \n",
    "    return index_of_first_one(arr, l, h)\n",
    "     \n",
    "n=int(input(\"Enter the size: \"))\n",
    "arr = []\n",
    "for i in range(n):\n",
    "    arr.append(int(input(\"Enter element: \")))\n",
    "\n",
    "print( \"Index = \", find_first_One(arr))"
   ]
  },
  {
   "cell_type": "markdown",
   "id": "923d6e13",
   "metadata": {},
   "source": [
    "#### 4.Sort 0 1 2\n",
    "Problem statement\n",
    "You have been given an integer array/list(ARR) of size 'N'. It only contains 0s, 1s and 2s. Write a solution to sort this array/list.\n",
    "\n",
    "Note :\n",
    "without using any inbuilt function\n",
    "Try to solve the problem in 'Single Scan'. ' Single Scan' refers to iterating over the array/list just once or to put it in other words, you will be visiting each element in the array/list just once.\n",
    "\n",
    "Sample Input 1 :\n",
    "2\n",
    "6\n",
    "0 1 2 2 1 0\n",
    "7\n",
    "0 1 2 1 2 1 2\n",
    "Sample Output 1 :\n",
    "0 0 1 1 2 2\n",
    "0 1 1 1 2 2 2"
   ]
  },
  {
   "cell_type": "code",
   "execution_count": 30,
   "id": "3b06d858",
   "metadata": {},
   "outputs": [
    {
     "name": "stdout",
     "output_type": "stream",
     "text": [
      "Enter the size: 6\n",
      "Enter element: 0\n",
      "Enter element: 0\n",
      "Enter element: 1\n",
      "Enter element: 2\n",
      "Enter element: 2\n",
      "Enter element: 1\n",
      "[0, 0, 1, 1, 2, 2]\n"
     ]
    }
   ],
   "source": [
    "def sort_012(arr):\n",
    "    low=0\n",
    "    mid=0\n",
    "    high = len(arr) - 1\n",
    "\n",
    "    while mid <= high:\n",
    "        if arr[mid] == 0:\n",
    "            arr[low], arr[mid] = arr[mid], arr[low]\n",
    "            low += 1\n",
    "            mid += 1\n",
    "        elif arr[mid] == 1:\n",
    "            mid += 1\n",
    "        else:\n",
    "            arr[mid], arr[high] = arr[high], arr[mid]\n",
    "            high -= 1\n",
    "\n",
    "\n",
    "            \n",
    "n=int(input(\"Enter the size: \"))\n",
    "arr = []\n",
    "for i in range(n):\n",
    "    arr.append(int(input(\"Enter element: \")))\n",
    "sort_012(arr)\n",
    "print(arr)\n"
   ]
  },
  {
   "cell_type": "markdown",
   "id": "c94985ae",
   "metadata": {},
   "source": [
    "#### 5.Problem statement\n",
    "For a given two-dimensional square matrix of size (N x N). Find the total sum of elements on both the diagonals and at all the four boundaries.\n",
    "\n",
    "Sample input 1:\n",
    "1\n",
    "3\n",
    "1 2 3\n",
    "4 5 6\n",
    "7 8 9\n",
    "Sample Output 1:\n",
    "45\n",
    "Explanation for Sample Output 1:\n",
    "The boundary elements are 1, 2, 3, 6, 9, 8, 7 and 4. \n",
    "\n",
    "The first-diagonal elements are 1, 5 and 9. \n",
    "\n",
    "The second-diagonal elements are 3, 5 and 7.\n",
    "\n",
    "We just need to add all these numbers making sure that no number is added twice. For example, '1' is both a boundary element and a first-diagonal element similarly, '5' contributes to both the diagonals but they won't be added twice.\n",
    "\n",
    "Hence, we add up, [1 + 2 + 3 + 6 + 9 + 8 + 7 + 4 + 5] to give 45 as the output."
   ]
  },
  {
   "cell_type": "code",
   "execution_count": null,
   "id": "0dd470fc",
   "metadata": {},
   "outputs": [],
   "source": []
  }
 ],
 "metadata": {
  "kernelspec": {
   "display_name": "Python 3 (ipykernel)",
   "language": "python",
   "name": "python3"
  },
  "language_info": {
   "codemirror_mode": {
    "name": "ipython",
    "version": 3
   },
   "file_extension": ".py",
   "mimetype": "text/x-python",
   "name": "python",
   "nbconvert_exporter": "python",
   "pygments_lexer": "ipython3",
   "version": "3.11.5"
  }
 },
 "nbformat": 4,
 "nbformat_minor": 5
}
