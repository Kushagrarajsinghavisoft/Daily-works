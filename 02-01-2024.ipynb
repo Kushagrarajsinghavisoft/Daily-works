{
 "cells": [
  {
   "cell_type": "markdown",
   "id": "507ec818",
   "metadata": {},
   "source": [
    "# Classes and Object Assignment..."
   ]
  },
  {
   "cell_type": "markdown",
   "id": "953c76ae",
   "metadata": {},
   "source": [
    "#### 1.Write a Python program to create a class and display the namespace of that class."
   ]
  },
  {
   "cell_type": "code",
   "execution_count": 39,
   "id": "09c7a1d5",
   "metadata": {},
   "outputs": [
    {
     "name": "stdout",
     "output_type": "stream",
     "text": [
      "Namespace of Student class:\n",
      "\n",
      "{'__module__': '__main__', '__init__': <function Student.__init__ at 0x000001F6652FF2E0>, 'display_namespace': <function Student.display_namespace at 0x000001F6652FEDE0>, '__dict__': <attribute '__dict__' of 'Student' objects>, '__weakref__': <attribute '__weakref__' of 'Student' objects>, '__doc__': None}\n"
     ]
    }
   ],
   "source": [
    "class Student:\n",
    "    def __init__(self, name, student_id):\n",
    "        self.name = name\n",
    "        self.roll_no = student_id\n",
    "        \n",
    "\n",
    "    def display(self):\n",
    "        print(\"Hello!\") \n",
    "        \n",
    "    print(\"Namespace of Student class:\")\n",
    "    print()\n",
    "    print(Student.__dict__)"
   ]
  },
  {
   "cell_type": "markdown",
   "id": "8545b0fd",
   "metadata": {},
   "source": [
    "#### 2.Write a Python program to create an instance of a specified class and display the namespace of the said instance."
   ]
  },
  {
   "cell_type": "code",
   "execution_count": 45,
   "id": "3ab6e93b",
   "metadata": {},
   "outputs": [
    {
     "name": "stdout",
     "output_type": "stream",
     "text": [
      "Hello! I'm display method.\n",
      "Namespaces of instance s1: {'name': 'Kushagra', 'roll_no': 21}\n"
     ]
    }
   ],
   "source": [
    "class Student:\n",
    "    def __init__(self, name, student_id):\n",
    "        self.name = name\n",
    "        self.roll_no = student_id\n",
    "\n",
    "    def display(self):\n",
    "        print(\"Hello! I'm display method.\")\n",
    "\n",
    "s1 = Student(\"Kushagra\", 21)\n",
    "s1.display()\n",
    "print(\"Namespaces of instance s1:\",s1.__dict__)"
   ]
  },
  {
   "cell_type": "markdown",
   "id": "2f97eeff",
   "metadata": {},
   "source": [
    "#### 3.Write a Python program to create two empty classes, Student and Marks. Now create some instances and check whether they are instances of the said classes or not. Also, check whether the said classes are subclasses of the built-in object class or not."
   ]
  },
  {
   "cell_type": "code",
   "execution_count": 53,
   "id": "7c45f77d",
   "metadata": {},
   "outputs": [
    {
     "name": "stdout",
     "output_type": "stream",
     "text": [
      "Is student_instance an instance of Student? True\n",
      "Is marks_instance an instance of Marks? True\n",
      "Is Student a subclass of object? True\n",
      "Is Marks a subclass of object? True\n"
     ]
    }
   ],
   "source": [
    "class Student:\n",
    "    pass\n",
    "\n",
    "class Marks:\n",
    "    pass\n",
    "\n",
    "student_instance = Student()\n",
    "marks_instance = Marks()\n",
    "\n",
    "print(\"Is student_instance an instance of Student?\",isinstance(student_instance, Student))\n",
    "print(\"Is marks_instance an instance of Marks?\",isinstance(marks_instance, Marks))\n",
    "\n",
    "\n",
    "is_student_subclass = print(\"Is Student a subclass of object?\",issubclass(Student, object))\n",
    "is_marks_subclass = print(\"Is Marks a subclass of object?\",issubclass(Marks, object))"
   ]
  },
  {
   "cell_type": "markdown",
   "id": "c12188c8",
   "metadata": {},
   "source": [
    "#### 4.Write a Python class named Student with two attributes student_id, student_name. Add a new attribute student_class and display the entire attribute and the values of the class. Now remove the student_name attribute and display the entire attribute with values."
   ]
  },
  {
   "cell_type": "code",
   "execution_count": 62,
   "id": "370efdc8",
   "metadata": {},
   "outputs": [
    {
     "name": "stdout",
     "output_type": "stream",
     "text": [
      "attribute and values of s1: {'student_name': 'Harsh', 'istudent_id': 12, 'student_class': 5}\n"
     ]
    }
   ],
   "source": [
    "class Student:\n",
    "    def __init__(self, student_name, student_id):\n",
    "        self.student_name = student_name\n",
    "        self.istudent_id = student_id\n",
    "        \n",
    "s1=Student(\"Harsh\",12)\n",
    "s1.student_class=5\n",
    "print(\"attribute and values of s1:\",s1.__dict__)\n",
    "del s1.student_class\n",
    "# del s1\n",
    "print(\"attribute and values of s1 after deletion:\",s1.__dict__)"
   ]
  },
  {
   "cell_type": "markdown",
   "id": "21381385",
   "metadata": {},
   "source": [
    "#### 5.Write a Python class to check the validity of a string of parentheses, '(', ')', '{', '}', '[' and ']. These brackets must be closed in the correct order, for example \"()\" and \"()[]{}\" are valid but \"[)\", \"({[)]\" and \"{{{\" are invalid."
   ]
  },
  {
   "cell_type": "code",
   "execution_count": 121,
   "id": "cce16e66",
   "metadata": {},
   "outputs": [
    {
     "name": "stdout",
     "output_type": "stream",
     "text": [
      "Enter the string str1:{{]]()(\n",
      "False\n"
     ]
    }
   ],
   "source": [
    "class Parenthesis:\n",
    "    def __init__(self,str1):\n",
    "        self.str1=str1\n",
    "        \n",
    "    def isValid(self,stack):\n",
    "        stack.append(self.str1[0])\n",
    "        for i in range(1,len(str1)):\n",
    "            if stack:\n",
    "                if((stack[-1]=='(' and str1[i]==')') or (stack[-1]=='[' and str1[i]==']') or (stack[-1]=='{' and str1[i]=='}')):\n",
    "                    stack.pop()\n",
    "                else:\n",
    "                    stack.append(self.str1[i])\n",
    "            else:\n",
    "                stack.append(self.str1[i])\n",
    "                \n",
    "        return not stack\n",
    "            \n",
    "\n",
    "str1=input(\"Enter the string str1:\")\n",
    "stack=[]\n",
    "p1=Parenthesis(str1)\n",
    "print(p1.isValid(stack)==True)"
   ]
  },
  {
   "cell_type": "markdown",
   "id": "b758f005",
   "metadata": {},
   "source": [
    "#### 6.Write a Python class Employee with attributes like emp_id, emp_name, emp_salary, and emp_department and methods like calculate_emp_salary, emp_assign_department, and print_employee_details.\n",
    "\n",
    "Sample Employee Data:\n",
    "\"ADAMS\", \"E7876\", 50000, \"ACCOUNTING\"\n",
    "\"JONES\", \"E7499\", 45000, \"RESEARCH\"\n",
    "\"MARTIN\", \"E7900\", 50000, \"SALES\"\n",
    "\"SMITH\", \"E7698\", 55000, \"OPERATIONS\"\n",
    "Use 'assign_department' method to change the department of an employee.\n",
    "Use 'print_employee_details' method to print the details of an employee.\n",
    "Use 'calculate_emp_salary' method takes two arguments: salary and hours_worked, which is the number of hours worked by the employee. If the number of hours worked is more than 50, the method computes overtime and adds it to the salary. Overtime is calculated as following formula:\n",
    "overtime = hours_worked – 50\n",
    "Overtime amount = (overtime * (salary / 50))"
   ]
  },
  {
   "cell_type": "code",
   "execution_count": 114,
   "id": "aff6fa4c",
   "metadata": {},
   "outputs": [
    {
     "name": "stdout",
     "output_type": "stream",
     "text": [
      "Enter the number of employee: 2\n",
      "Enter the id: 1\n",
      "Enter the name: Harsh\n",
      "Enter the salary: 1000\n",
      "Enter the department: IT\n",
      "\n",
      "Enter the id: 2\n",
      "Enter the name: Kus\n",
      "Enter the salary: 2000\n",
      "Enter the department: IT\n",
      "\n",
      "Enter 1 if you want to change department for Harsh :1\n",
      "Enter new department: HR\n",
      "Enter total hours worked for Harsh :90\n",
      "\n",
      "Total salary of employee 1 is: 1800\n",
      "Employee id: 1\n",
      "Employee name: Harsh\n",
      "Employee salary: 1800\n",
      "Employee department: HR\n",
      "\n",
      "Enter 1 if you want to change department for Kus :0\n",
      "Enter total hours worked for Kus :60\n",
      "\n",
      "Total salary of employee 2 is: 2400\n",
      "Employee id: 2\n",
      "Employee name: Kus\n",
      "Employee salary: 2400\n",
      "Employee department: IT\n",
      "\n"
     ]
    }
   ],
   "source": [
    "class Employee:\n",
    "    def __init__(self,emp_id,emp_name,emp_salary,emp_dept):\n",
    "        self.emp_id=emp_id\n",
    "        self.emp_name=emp_name\n",
    "        self.emp_salary=emp_salary\n",
    "        self.emp_dept=emp_dept\n",
    "        \n",
    "    def calculate_emp_salary(self,salary,hrs_worked):\n",
    "        overtime=hrs_worked-50\n",
    "        Overtime_amount = (overtime * (salary // 50))\n",
    "        self.emp_salary=Overtime_amount+salary\n",
    "        return Overtime_amount+salary\n",
    "    \n",
    "    def emp_assign_department(self,new_dept):\n",
    "        self.emp_dept=new_dept\n",
    "    \n",
    "    def print_employee_details(self):\n",
    "        print(f\"Employee id: {self.emp_id}\\nEmployee name: {self.emp_name}\\nEmployee salary: {self.emp_salary}\\nEmployee department: {self.emp_dept}\")\n",
    "        \n",
    "obj_list=[]\n",
    "n=int(input(\"Enter the number of employee: \"))\n",
    "for i in range(n):\n",
    "    ids=int(input(\"Enter the id: \"))\n",
    "    name=input(\"Enter the name: \")\n",
    "    salary=int(input(\"Enter the salary: \"))\n",
    "    dept=input(\"Enter the department: \")\n",
    "    e=Employee(ids,name,salary,dept)\n",
    "    obj_list.append(e)\n",
    "    print()\n",
    "    \n",
    "for i in range(n):\n",
    "#     obj_list[i].print_employee_details()\n",
    "    check=int(input(f\"Enter 1 if you want to change department for {obj_list[i].emp_name} :\"))\n",
    "    if(check):\n",
    "        new_dept=input(\"Enter new department: \")\n",
    "        obj_list[i].emp_assign_department(\"HR\")\n",
    "    hrs_worked=int(input(f\"Enter total hours worked for {obj_list[i].emp_name} :\"))\n",
    "    print()\n",
    "    print(\"Total salary of employee\",obj_list[i].emp_id,\"is:\",obj_list[i].calculate_emp_salary(obj_list[i].emp_salary,hrs_worked))\n",
    "    obj_list[i].print_employee_details() \n",
    "    print()"
   ]
  },
  {
   "cell_type": "markdown",
   "id": "3d1930a9",
   "metadata": {},
   "source": [
    "#### 7.Write a Python class Restaurant with attributes like menu_items, book_table, and customer_orders, and methods like add_item_to_menu, book_tables, and customer_order.\n",
    "\n",
    "Perform the following tasks now:\n",
    "Now add items to the menu.\n",
    "Make table reservations.\n",
    "Take customer orders.\n",
    "Print the menu.\n",
    "Print table reservations.\n",
    "Print customer orders.\n",
    "Note: Use dictionaries and lists to store the data."
   ]
  },
  {
   "cell_type": "code",
   "execution_count": 126,
   "id": "9a3b184f",
   "metadata": {},
   "outputs": [
    {
     "ename": "SyntaxError",
     "evalue": "expected '(' (3810616072.py, line 8)",
     "output_type": "error",
     "traceback": [
      "\u001b[1;36m  Cell \u001b[1;32mIn[126], line 8\u001b[1;36m\u001b[0m\n\u001b[1;33m    def add_item_to_menu:\u001b[0m\n\u001b[1;37m                        ^\u001b[0m\n\u001b[1;31mSyntaxError\u001b[0m\u001b[1;31m:\u001b[0m expected '('\n"
     ]
    }
   ],
   "source": [
    "class Restaurant:\n",
    "    def __init__(self, name):\n",
    "        self.name = name\n",
    "        self.menu_items = {}  \n",
    "        self.reservations = {}  \n",
    "        self.customer_orders = {}\n",
    "        \n",
    "    def add_item_to_menu:\n",
    "        pass\n",
    "    \n",
    "    def book_tables:\n",
    "        pass\n",
    "    \n",
    "    def customer_order:\n",
    "        pass\n",
    "    \n",
    "n=int(input(\"Enter number of items in menu: \"))\n",
    "for i in range(n):\n",
    "    item=input(\"Enter item to put: \")\n",
    "    price=int(input(f\"Enter price of item: {item}\"))\n",
    "    add_item_to_menu(item,price)"
   ]
  },
  {
   "cell_type": "markdown",
   "id": "ee6a0c70",
   "metadata": {},
   "source": [
    "#### 8.Write a Python class Inventory with attributes like item_id, item_name, stock_count, and price, and methods like add_item, update_item, and check_item_details.\n",
    "Use a dictionary to store the item details, where the key is the item_id and the value is a dictionary containing the item_name, stock_count, and price."
   ]
  },
  {
   "cell_type": "code",
   "execution_count": 125,
   "id": "073da10d",
   "metadata": {},
   "outputs": [
    {
     "name": "stdout",
     "output_type": "stream",
     "text": [
      "Enter the number of items to add: 3\n",
      "Enter the item id: 1001\n",
      "Enter the item name: Poppins\n",
      "Enter item count: 500\n",
      "Enter price: 5\n",
      "Item added Successfully!\n",
      "Enter the item id: 1002\n",
      "Enter the item name: Dairy Milk\n",
      "Enter item count: 200\n",
      "Enter price: 50\n",
      "Item added Successfully!\n",
      "Enter the item id: 1003\n",
      "Enter the item name: Kurkure\n",
      "Enter item count: 300\n",
      "Enter price: 20\n",
      "Item added Successfully!\n",
      "Enter the item ID to update: 1002\n",
      "Enter the value to update (item_name, stock_count, or price): price\n",
      "Enter the new value: 80\n",
      "Item updated Successfully!\n",
      "Enter the item ID to check details: 1001\n",
      "Id:  1001\n",
      "Name:  Poppins\n",
      "Stock Count:  500\n",
      "Price:  5\n"
     ]
    }
   ],
   "source": [
    "class Inventory:\n",
    "    def __init__(self):\n",
    "        self.items = {}\n",
    "\n",
    "    def add_item(self, item_id, item_name, stock_count, price):\n",
    "        self.items[item_id] = {\n",
    "            \"item_name\": item_name,\n",
    "            \"stock_count\": stock_count,\n",
    "            \"price\": price\n",
    "        }\n",
    "        print(\"Item added Successfully!\")\n",
    "\n",
    "    def update_item(self, item_id, value, new_value):\n",
    "        if item_id in self.items:\n",
    "            self.items[item_id][value] = new_value\n",
    "            print(\"Item updated Successfully!\")\n",
    "        else:\n",
    "            print(\"Item not found.\")\n",
    "\n",
    "    def check_item_details(self, item_id):\n",
    "        if item_id in self.items:\n",
    "            item_details = self.items[item_id]\n",
    "            print(\"Id: \", item_id)\n",
    "            print(\"Name: \", item_details[\"item_name\"])\n",
    "            print(\"Stock Count: \", item_details[\"stock_count\"])\n",
    "            print(\"Price: \", item_details[\"price\"])\n",
    "        else:\n",
    "            print(\"Item not found.\")\n",
    "\n",
    "\n",
    "inventory = Inventory()\n",
    "n = int(input(\"Enter the number of items to add: \"))\n",
    "\n",
    "for i in range(n):\n",
    "    item_id = input(\"Enter the item id: \")\n",
    "    item_name = input(\"Enter the item name: \")\n",
    "    stock_count = int(input(\"Enter item count: \"))\n",
    "    price = int(input(\"Enter price: \"))\n",
    "    inventory.add_item(item_id, item_name, stock_count, price)\n",
    "\n",
    "\n",
    "item_id_to_update = input(\"Enter the item ID to update: \")\n",
    "value_to_update = input(\"Enter the value to update (item_name, stock_count, or price): \")\n",
    "new_value = input(\"Enter the new value: \")\n",
    "inventory.update_item(item_id_to_update, value_to_update, new_value)\n",
    "\n",
    "item_id_to_check = input(\"Enter the item ID to check details: \")\n",
    "inventory.check_item_details(item_id_to_check)"
   ]
  }
 ],
 "metadata": {
  "kernelspec": {
   "display_name": "Python 3 (ipykernel)",
   "language": "python",
   "name": "python3"
  },
  "language_info": {
   "codemirror_mode": {
    "name": "ipython",
    "version": 3
   },
   "file_extension": ".py",
   "mimetype": "text/x-python",
   "name": "python",
   "nbconvert_exporter": "python",
   "pygments_lexer": "ipython3",
   "version": "3.11.5"
  }
 },
 "nbformat": 4,
 "nbformat_minor": 5
}
