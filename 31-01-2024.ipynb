{
 "cells": [
  {
   "cell_type": "markdown",
   "id": "ad39d3b9",
   "metadata": {},
   "source": [
    "# Assignment..."
   ]
  },
  {
   "cell_type": "markdown",
   "id": "f7933a21",
   "metadata": {},
   "source": [
    "#### 1.Count Words\n",
    "Problem statement\n",
    "For a given input string(str), find and return the total number of words present in it.\n",
    "\n",
    "It is assumed that two words will have only a single space in between. Also, there wouldn't be any leading and trailing spaces in the given input string.\n",
    "\n",
    "Sample Input 1:\n",
    "This is Avisoft\n",
    "Sample Output 1:\n",
    "3"
   ]
  },
  {
   "cell_type": "code",
   "execution_count": 5,
   "id": "f732e4a0",
   "metadata": {},
   "outputs": [
    {
     "name": "stdout",
     "output_type": "stream",
     "text": [
      "Enter your string: hey how are you?\n",
      "4\n",
      "4\n"
     ]
    }
   ],
   "source": [
    "str1=input(\"Enter your string: \")\n",
    "count=1\n",
    "for i in str1:\n",
    "    if i==\" \":\n",
    "        count+=1\n",
    "print(count)\n",
    "\n",
    "print(len(str1.split()))"
   ]
  },
  {
   "cell_type": "markdown",
   "id": "fc527a09",
   "metadata": {},
   "source": [
    "#### 2.String Palindrome\n",
    "Problem statement\n",
    "Given a string, determine if it is a palindrome, considering only alphanumeric characters.\n",
    "\n",
    "Palindrome\n",
    "A palindrome is a word, number, phrase, or other sequences of characters which read the same backwards and forwards.\n",
    "Example:\n",
    "If the input string happens to be, \"malayalam\" then as we see that this word can be read the same as forward and backwards, it is said to be a valid palindrome.\n",
    "\n",
    "The expected output for this example will print, 'true'.\n",
    "From that being said, you are required to return a boolean value from the function that has been asked to implement."
   ]
  },
  {
   "cell_type": "code",
   "execution_count": 12,
   "id": "a9ef72de",
   "metadata": {},
   "outputs": [
    {
     "name": "stdout",
     "output_type": "stream",
     "text": [
      "Enter your string: malayalam\n",
      "True\n"
     ]
    }
   ],
   "source": [
    "def find_palindrome(str1):\n",
    "    s=0\n",
    "    e=len(str1)-1\n",
    "    while(s<=e):\n",
    "        if str1[s]!=str1[e]:\n",
    "            return False\n",
    "        else:\n",
    "            s+=1\n",
    "            e-=1\n",
    "    return True\n",
    "\n",
    "str1=input(\"Enter your string: \")\n",
    "print(find_palindrome(str1))"
   ]
  },
  {
   "cell_type": "markdown",
   "id": "2a7ec876",
   "metadata": {},
   "source": [
    "#### 3.All Substrings\n",
    "Problem statement\n",
    "For a given input string(str), write a function to print all the possible substrings.\n",
    "\n",
    "Substring\n",
    "A substring is a contiguous sequence of characters within a string. \n",
    "Example: \"cod\" is a substring of \"coding\". Whereas, \"cdng\" is not as the characters taken are not contiguous\n",
    "\n",
    "Sample Input 1:\n",
    "abc\n",
    "Sample Output 1:\n",
    "a \n",
    "ab \n",
    "abc \n",
    "b \n",
    "bc \n",
    "c "
   ]
  },
  {
   "cell_type": "code",
   "execution_count": 14,
   "id": "c8fbcef9",
   "metadata": {},
   "outputs": [
    {
     "name": "stdout",
     "output_type": "stream",
     "text": [
      "Enter your string: abcde\n",
      "['a', 'ab', 'abc', 'abcd', 'abcde', 'b', 'bc', 'bcd', 'bcde', 'c', 'cd', 'cde', 'd', 'de', 'e']\n"
     ]
    }
   ],
   "source": [
    "# str1=input(\"Enter your string: \")\n",
    "# li=[]\n",
    "# n=len(str1)\n",
    "# for i in range(n):\n",
    "#     temp=\"\"\n",
    "#     for j in range(i,n):\n",
    "#         temp+=str1[j]\n",
    "#         li.append(temp)\n",
    "# print(li)\n",
    "\n",
    "\n",
    "\n",
    "    "
   ]
  },
  {
   "cell_type": "markdown",
   "id": "539ddf29",
   "metadata": {},
   "source": [
    "#### 4.check Permutation\n",
    "Problem statement\n",
    "For a given two strings, 'str1' and 'str2', check whether they are a permutation of each other or not.\n",
    "\n",
    "Permutations of each other\n",
    "Two strings are said to be a permutation of each other when either of the string's characters can be rearranged so that it becomes identical to the other one.\n",
    "\n",
    "Example: \n",
    "str1= \"sinrtg\" \n",
    "str2 = \"string\"\n",
    "\n",
    "The character of the first string(str1) can be rearranged to form str2 and hence we can say that the given strings are a permutation of each other.\n",
    "Sample Input 1:\n",
    "abcde\n",
    "baedc\n",
    "Sample Output 1:\n",
    "true"
   ]
  },
  {
   "cell_type": "code",
   "execution_count": 19,
   "id": "53b33c19",
   "metadata": {},
   "outputs": [
    {
     "name": "stdout",
     "output_type": "stream",
     "text": [
      "Enter your string str1: abcde\n",
      "Enter your string str2: bcdeh\n",
      "False\n"
     ]
    }
   ],
   "source": [
    "def check_permutation(str1,str2):\n",
    "    dict1={}\n",
    "    dict2={}\n",
    "    if(len(str1)!=len(str2)):\n",
    "        return False\n",
    "    \n",
    "    for i in range(len(str1)):\n",
    "        if str1[i] not in dict1:\n",
    "            dict1[str1[i]]=1\n",
    "        else:\n",
    "            dict1[str1[i]]+=1\n",
    "            \n",
    "    for i in range(len(str1)):\n",
    "        if str2[i] not in dict2:\n",
    "            dict2[str2[i]]=1\n",
    "        else:\n",
    "            dict2[str2[i]]+=1\n",
    "            \n",
    "    for i in str1:\n",
    "        if i not in dict2 or(dict1[i]!=dict2[i]):\n",
    "            return False\n",
    "        \n",
    "    return True\n",
    "\n",
    "str1=input(\"Enter your string str1: \")\n",
    "str2=input(\"Enter your string str2: \")\n",
    "\n",
    "print(check_permutation(str1,str2))"
   ]
  },
  {
   "cell_type": "markdown",
   "id": "705afa4b",
   "metadata": {},
   "source": [
    "#### 5.Remove Consecutive Duplicates\n",
    "Problem statement\n",
    "For a given string(str), remove all the consecutive duplicate characters.\n",
    "\n",
    "Example:\n",
    "Input String: \"aaaa\"\n",
    "Expected Output: \"a\"\n",
    "\n",
    "Input String: \"aabbbcc\"\n",
    "Expected Output: \"abc\"\n",
    " Input Format:\n",
    "The first and only line of input contains a string without any leading and trailing spaces. All the characters in the string would be in lower case.\n",
    "Output Format:\n",
    "The only line of output prints the updated string.\n",
    "Note:\n",
    "You are not required to print anything. It has already been taken care of."
   ]
  },
  {
   "cell_type": "code",
   "execution_count": 31,
   "id": "37fa5b87",
   "metadata": {},
   "outputs": [
    {
     "name": "stdout",
     "output_type": "stream",
     "text": [
      "Enter your string str1: aabbcc\n",
      "abc\n"
     ]
    }
   ],
   "source": [
    "def remove_consecutive(str1):\n",
    "    ans=\"\"\n",
    "    if(len(str1)==1):\n",
    "        return str1\n",
    "    \n",
    "    for i in range(0,len(str1)-1):\n",
    "        if(str1[i]!=str1[i+1]):\n",
    "            ans+=str1[i]\n",
    "    ans+=str1[len(str1)-1]\n",
    "    return ans\n",
    "\n",
    "str1=input(\"Enter your string str1: \")\n",
    "ans=\"\"\n",
    "\n",
    "print(remove_consecutive(str1))"
   ]
  },
  {
   "cell_type": "markdown",
   "id": "c8d98bc2",
   "metadata": {},
   "source": [
    "#### 6.Remove character\n",
    "Problem statement\n",
    "For a given a string(str) and a character X, write a function to remove all the occurrences of X from the given string.\n",
    "\n",
    "The input string will remain unchanged if the given character(X) doesn't exist in the input string.\n",
    "\n",
    "Sample Input 1:\n",
    "aabccbaa\n",
    "a\n",
    "Sample Output 1:\n",
    "bccb"
   ]
  },
  {
   "cell_type": "code",
   "execution_count": 32,
   "id": "d6d25cf9",
   "metadata": {},
   "outputs": [
    {
     "name": "stdout",
     "output_type": "stream",
     "text": [
      "Enter your string str1: aabccbaa\n",
      "Enter character to remove: a\n",
      "b c c b "
     ]
    }
   ],
   "source": [
    "str1=input(\"Enter your string str1: \")\n",
    "x=input(\"Enter character to remove: \")\n",
    "for i in str1:\n",
    "    if i!=x:\n",
    "        print(i,end=\" \")\n",
    "        "
   ]
  },
  {
   "cell_type": "markdown",
   "id": "6ec7fbc2",
   "metadata": {},
   "source": [
    "#### 7.Highest Occuring Charactor\n",
    "Problem statement\n",
    "For a given a string(str), find and return the highest occurring character.\n",
    "\n",
    "Example:\n",
    "Input String: \"abcdeapapqarr\"\n",
    "Expected Output: 'a'\n",
    "Since 'a' has appeared four times in the string which happens to be the highest frequency character, the answer would be 'a'.\n",
    "If there are two characters in the input string with the same frequency, return the character which comes first.\n",
    "\n",
    "Consider:\n",
    "Assume all the characters in the given string to be in lowercase always.\n",
    "\n",
    "Sample Input 1:\n",
    "abdefgbabfba\n",
    "Sample Output 1:\n",
    "b"
   ]
  },
  {
   "cell_type": "code",
   "execution_count": 37,
   "id": "12f144d3",
   "metadata": {},
   "outputs": [
    {
     "name": "stdout",
     "output_type": "stream",
     "text": [
      "Enter your string str1: aaabbbcccbhdgfbbbbbb\n",
      "b\n"
     ]
    }
   ],
   "source": [
    "str1=input(\"Enter your string str1: \")\n",
    "dict1={}\n",
    "\n",
    "for i in range(len(str1)):\n",
    "    if str1[i] not in dict1:\n",
    "        dict1[str1[i]]=1\n",
    "    else:\n",
    "        dict1[str1[i]]+=1\n",
    "\n",
    "max_val=0\n",
    "ch=\"\"\n",
    "for key,value in dict1.items():\n",
    "    if(value>max_val):\n",
    "        max_val=value\n",
    "        ch=key\n",
    "\n",
    "print(ch)"
   ]
  },
  {
   "cell_type": "markdown",
   "id": "a2a29d55",
   "metadata": {},
   "source": [
    "#### 8.Compress the String\n",
    "Problem statement\n",
    "Write a program to do basic string compression. For a character which is consecutively repeated more than once, replace consecutive duplicate occurrences with the count of repetitions.\n",
    "\n",
    "Example:\n",
    "If a string has 'x' repeated 5 times, replace this \"xxxxx\" with \"x5\".\n",
    "\n",
    "The string is compressed only when the repeated character count is more than 1.\n",
    "Note:\n",
    "Consecutive count of every character in the input string is less than or equal to 9. You are not required to print anything. It has already been taken care of. Just implement the given function and return the compressed string."
   ]
  },
  {
   "cell_type": "code",
   "execution_count": 46,
   "id": "d5b2f042",
   "metadata": {},
   "outputs": [
    {
     "name": "stdout",
     "output_type": "stream",
     "text": [
      "Enter your string str1: aabbccaabbbd\n",
      "a2b2c2a2b3d1\n"
     ]
    }
   ],
   "source": [
    "#                                               For consecutive duplicate\n",
    "# str1=input(\"Enter your string str1: \")\n",
    "# dict1={}\n",
    "\n",
    "# for i in range(len(str1)):\n",
    "#     if str1[i] not in dict1:\n",
    "#         dict1[str1[i]]=1\n",
    "#     else:\n",
    "#         dict1[str1[i]]+=1\n",
    "\n",
    "# ch=\"\"\n",
    "# for key,value in dict1.items():\n",
    "#     ch+=key\n",
    "#     ch+=str(value)\n",
    "\n",
    "# print(ch)\n",
    "\n",
    "#                                               for multiple consecutive duplicate\n",
    "\n",
    "def compress_string(str1):\n",
    "    ans=\"\"\n",
    "    count=1\n",
    "    for i in range(0,len(str1)-1):\n",
    "        if(str1[i]==str1[i+1]):\n",
    "            count+=1\n",
    "        else:\n",
    "            ans+=str1[i]\n",
    "            ans+=str(count)\n",
    "            count=1\n",
    "    ans+=str1[i+1]\n",
    "    ans+=str(count)\n",
    "    return ans\n",
    "\n",
    "str1=input(\"Enter your string str1: \")\n",
    "ans=\"\"\n",
    "\n",
    "print(compress_string(str1))"
   ]
  }
 ],
 "metadata": {
  "kernelspec": {
   "display_name": "Python 3 (ipykernel)",
   "language": "python",
   "name": "python3"
  },
  "language_info": {
   "codemirror_mode": {
    "name": "ipython",
    "version": 3
   },
   "file_extension": ".py",
   "mimetype": "text/x-python",
   "name": "python",
   "nbconvert_exporter": "python",
   "pygments_lexer": "ipython3",
   "version": "3.11.5"
  }
 },
 "nbformat": 4,
 "nbformat_minor": 5
}
