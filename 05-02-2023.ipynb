{
 "cells": [
  {
   "cell_type": "markdown",
   "id": "4151e063",
   "metadata": {},
   "source": [
    "# Assignment..."
   ]
  },
  {
   "cell_type": "markdown",
   "id": "6cf2f107",
   "metadata": {},
   "source": [
    "#### 1. Write a Python script to display the various Date Time formats -\n",
    "a) Current date and time\n",
    "b) Current year\n",
    "c) Month of year\n",
    "d) Week number of the year\n",
    "e) Weekday of the week\n",
    "f) Day of year\n",
    "g) Day of the month\n",
    "h) Day of week"
   ]
  },
  {
   "cell_type": "code",
   "execution_count": 33,
   "id": "14251182",
   "metadata": {},
   "outputs": [
    {
     "name": "stdout",
     "output_type": "stream",
     "text": [
      "Today's date:  2024-02-05 11:35:08.265530\n",
      "Formatted Date and Time: 2024-02-05 11:35:08\n",
      "\n",
      "Current year: 2024\n",
      "\n",
      "Current month: February\n",
      "\n",
      "Current week of the year: 05\n",
      "\n",
      "Weekday of the week: Monday\n",
      "\n",
      "Day of year: 036\n",
      "\n",
      "Day of the month: 05\n",
      "\n",
      "Day of week: 1\n"
     ]
    }
   ],
   "source": [
    "# a) Current date and time\n",
    "from datetime import datetime\n",
    "today=datetime.now()\n",
    "print(\"Today's date: \",today)\n",
    "\n",
    "formatted_datetime = today.strftime(\"%Y-%m-%d %H:%M:%S\")\n",
    "print(\"Formatted Date and Time:\", formatted_datetime)\n",
    "\n",
    "# b) Current year\n",
    "print(\"\\nCurrent year:\", today.year)\n",
    "\n",
    "# c) Month of year\n",
    "print(\"\\nCurrent month:\", today.strftime(\"%B\"))\n",
    "\n",
    "# d) Week number of the year\n",
    "print(\"\\nCurrent week of the year:\", today.strftime(\"%U\"))\n",
    "\n",
    "# e) Weekday of the week\n",
    "print(\"\\nWeekday of the week:\", today.strftime(\"%A\"))\n",
    "\n",
    "# f) Day of year\n",
    "print(\"\\nDay of year:\", today.strftime(\"%j\"))\n",
    "\n",
    "# g) Day of the month\n",
    "print(\"\\nDay of the month:\", today.strftime(\"%d\"))\n",
    "\n",
    "# h) Day of week\n",
    "print(\"\\nDay of week:\", today.strftime(\"%w\"))"
   ]
  },
  {
   "cell_type": "markdown",
   "id": "9325e95a",
   "metadata": {},
   "source": [
    "#### 2.Write a Python program to subtract five days from the current date.\n",
    "Sample Date :\n",
    "Current Date : 2015-06-22"
   ]
  },
  {
   "cell_type": "code",
   "execution_count": 44,
   "id": "b4eaed1a",
   "metadata": {},
   "outputs": [
    {
     "name": "stdout",
     "output_type": "stream",
     "text": [
      "2024-01-31\n",
      "\n",
      "2024-02-10\n"
     ]
    }
   ],
   "source": [
    "from datetime import date, timedelta\n",
    "today_date=date.today()\n",
    "print(today_date-timedelta(days=5))\n",
    "print(f\"\\n{today_date+timedelta(days=5)}\")"
   ]
  },
  {
   "cell_type": "markdown",
   "id": "4c1c50d6",
   "metadata": {},
   "source": [
    "#### 3.Write a Python program to calculate the number of days between two date times."
   ]
  },
  {
   "cell_type": "code",
   "execution_count": 53,
   "id": "3fc0aa00",
   "metadata": {},
   "outputs": [
    {
     "name": "stdout",
     "output_type": "stream",
     "text": [
      "31 days, 7:30:00\n"
     ]
    }
   ],
   "source": [
    "start_date_str = \"2024-01-01 05:00:00\"\n",
    "end_date_str = \"2024-02-01 12:30:00\"\n",
    "\n",
    "x=datetime.strptime(start_date_str, \"%Y-%m-%d %H:%M:%S\")\n",
    "y=datetime.strptime(end_date_str, \"%Y-%m-%d %H:%M:%S\")\n",
    "                    \n",
    "difference = y - x\n",
    "\n",
    "print(difference)"
   ]
  },
  {
   "cell_type": "markdown",
   "id": "a2953da7",
   "metadata": {},
   "source": [
    "#### 4.Write a Python program to read an entire text file."
   ]
  },
  {
   "cell_type": "code",
   "execution_count": 69,
   "id": "9ed2cbe7",
   "metadata": {},
   "outputs": [
    {
     "name": "stdout",
     "output_type": "stream",
     "text": [
      "<_io.TextIOWrapper name='example.txt' mode='w' encoding='cp1252'>\n",
      "\n",
      "Cricket is a popular sport played and watched by millions of fans around the world.\n",
      "It is a bat-and-ball game played between two teams, each consisting of eleven players.\n",
      "The game is played on a circular field with a rectangular 22-yard-long pitch in the center.\n",
      "The primary objective is for the batting team to score runs by hitting the ball and running between two sets of wickets.\n",
      "The fielding team aims to dismiss the batsmen or restrict the runs scored.\n",
      "Cricket has different formats, including Test matches, One Day Internationals (ODIs), and Twenty20 (T20) matches.\n",
      "The sport has a rich history, with international competitions like the ICC Cricket World Cup and the Ashes series being highly prestigious.\n",
      "Legendary players like Sachin Tendulkar, Sir Donald Bradman, and Brian Lara have left a significant impact on the game.\n",
      "Cricket has a diverse fan base, and major cricketing nations include India, Australia, England, Pakistan, and South Africa.\n",
      "The game's unique terminology, such as \"bowled,\" \"lbw\" (leg before wicket), and \"century,\" adds to its charm and complexity.\n"
     ]
    }
   ],
   "source": [
    "file_path=\"example.txt\"\n",
    "content=\"\"\"Cricket is a popular sport played and watched by millions of fans around the world.\n",
    "It is a bat-and-ball game played between two teams, each consisting of eleven players.\n",
    "The game is played on a circular field with a rectangular 22-yard-long pitch in the center.\n",
    "The primary objective is for the batting team to score runs by hitting the ball and running between two sets of wickets.\n",
    "The fielding team aims to dismiss the batsmen or restrict the runs scored.\n",
    "Cricket has different formats, including Test matches, One Day Internationals (ODIs), and Twenty20 (T20) matches.\n",
    "The sport has a rich history, with international competitions like the ICC Cricket World Cup and the Ashes series being highly prestigious.\n",
    "Legendary players like Sachin Tendulkar, Sir Donald Bradman, and Brian Lara have left a significant impact on the game.\n",
    "Cricket has a diverse fan base, and major cricketing nations include India, Australia, England, Pakistan, and South Africa.\n",
    "The game's unique terminology, such as \"bowled,\" \"lbw\" (leg before wicket), and \"century,\" adds to its charm and complexity.\"\"\"\n",
    "with open (file_path,'w') as file:\n",
    "    file.write(content)\n",
    "    \n",
    "print(file)\n",
    "\n",
    "with open (file_path,'r') as file:\n",
    "    contents=file.read()\n",
    "    \n",
    "print(f\"\\n{contents}\")"
   ]
  },
  {
   "cell_type": "markdown",
   "id": "02ebe21b",
   "metadata": {},
   "source": [
    "#### 5.Write a Python program to read first n lines of a file."
   ]
  },
  {
   "cell_type": "code",
   "execution_count": 88,
   "id": "af41e696",
   "metadata": {},
   "outputs": [
    {
     "name": "stdout",
     "output_type": "stream",
     "text": [
      "3\n",
      "Cricket is a popular sport played and watched by millions of fans around the world.\n",
      "\n",
      "It is a bat-and-ball game played between two teams, each consisting of eleven players.\n",
      "\n",
      "The game is played on a circular field with a rectangular 22-yard-long pitch in the center.\n",
      "\n"
     ]
    }
   ],
   "source": [
    "n=int(input())\n",
    "with open(\"example.txt\", \"r\") as file:\n",
    "    for line in range(n):\n",
    "        lines=file.readline()\n",
    "        if not lines:\n",
    "            break\n",
    "        print(lines)"
   ]
  },
  {
   "cell_type": "markdown",
   "id": "79b3bd15",
   "metadata": {},
   "source": [
    "#### 6.Write a Python program to read last n lines of a file."
   ]
  },
  {
   "cell_type": "code",
   "execution_count": 101,
   "id": "89795821",
   "metadata": {},
   "outputs": [
    {
     "name": "stdout",
     "output_type": "stream",
     "text": [
      "3\n",
      "Legendary players like Sachin Tendulkar, Sir Donald Bradman, and Brian Lara have left a significant impact on the game.\n",
      "\n",
      "Cricket has a diverse fan base, and major cricketing nations include India, Australia, England, Pakistan, and South Africa.\n",
      "\n",
      "The game's unique terminology, such as \"bowled,\" \"lbw\" (leg before wicket), and \"century,\" adds to its charm and complexity.\n"
     ]
    }
   ],
   "source": [
    "# n=int(input())\n",
    "# with open(\"example.txt\", \"r\") as file:\n",
    "#     lines=file.readlines()\n",
    "#     startindex=len(lines)-n\n",
    "#     for line in lines[startindex:]:\n",
    "#         print(line)\n",
    "\n",
    "n=int(input())\n",
    "with open(\"example.txt\", \"r\") as file:\n",
    "    for line in file.readlines()[-n:]:\n",
    "            print(line)"
   ]
  },
  {
   "cell_type": "markdown",
   "id": "33bd1567",
   "metadata": {},
   "source": [
    "#### 7.Write a Python program to get the file size of a plain file."
   ]
  },
  {
   "cell_type": "code",
   "execution_count": 104,
   "id": "145baccd",
   "metadata": {},
   "outputs": [
    {
     "name": "stdout",
     "output_type": "stream",
     "text": [
      "1090\n"
     ]
    }
   ],
   "source": [
    "import os\n",
    "size_of_file = os.path.getsize(file_path)\n",
    "print(size_of_file)"
   ]
  },
  {
   "cell_type": "markdown",
   "id": "ca47742e",
   "metadata": {},
   "source": [
    "#### 8.Write a Python program that takes a text file as input and returns the number of words of a given text file.\n",
    "Note: Some words can be separated by a comma with no space."
   ]
  },
  {
   "cell_type": "code",
   "execution_count": 107,
   "id": "d81d8d44",
   "metadata": {},
   "outputs": [
    {
     "name": "stdout",
     "output_type": "stream",
     "text": [
      "4\n"
     ]
    }
   ],
   "source": [
    "file_path=\"example1.txt\"\n",
    "content=\"Hi I am Kushagra\"\n",
    "with open (file_path,'w') as file:\n",
    "    file.write(content)\n",
    "\n",
    "with open(\"example1.txt\", \"r\") as file:    \n",
    "    text = file.read()\n",
    "    words = text.replace(\",\", \" \").split()\n",
    "    num_words = len(words)\n",
    "    print(num_words)"
   ]
  },
  {
   "cell_type": "markdown",
   "id": "7a8a7f47",
   "metadata": {},
   "source": [
    "#### 9.Write a Python program to generate 26 text files named A.txt, B.txt, and so on up to Z.txt."
   ]
  },
  {
   "cell_type": "code",
   "execution_count": 109,
   "id": "004c5696",
   "metadata": {},
   "outputs": [],
   "source": [
    "import string\n",
    "for i in string.ascii_uppercase:\n",
    "    file_path=f\"{i}.txt\"\n",
    "    with open (file_path,'w') as file:\n",
    "        file.write(f\"The name of file is {i}\")"
   ]
  },
  {
   "cell_type": "markdown",
   "id": "3f2f0e07",
   "metadata": {},
   "source": [
    "#### 10.Write a Python program to read each row from a given csv file and print a list of strings."
   ]
  },
  {
   "cell_type": "code",
   "execution_count": 151,
   "id": "f0fdf65e",
   "metadata": {},
   "outputs": [
    {
     "name": "stdout",
     "output_type": "stream",
     "text": [
      "['Name', 'Age', 'City']\n",
      "['John', '25', 'New York']\n",
      "['Alice', '30', 'London']\n",
      "['Bob', '22', 'Paris']\n"
     ]
    }
   ],
   "source": [
    "import csv\n",
    "file_path=\"idcard.csv\"\n",
    "csv_data = [[\"Name\", \"Age\", \"City\"],\n",
    "    [\"John\", 25, \"New York\"],\n",
    "    [\"Alice\", 30, \"London\"],\n",
    "    [\"Bob\", 22, \"Paris\"],\n",
    "]\n",
    "\n",
    "with open(file_path, \"w\", newline='') as csv_file:\n",
    "    writer = csv.writer(csv_file)\n",
    "    for row in csv_data:\n",
    "        writer.writerow(row)\n",
    "\n",
    "with open(file_path, \"r\") as csv_file:\n",
    "    reader = csv.reader(csv_file)\n",
    "    for row in reader:\n",
    "        print(row)"
   ]
  },
  {
   "cell_type": "markdown",
   "id": "feb9d8bb",
   "metadata": {},
   "source": [
    "#### 11.Write a Python program to read a given CSV file having tab delimiter."
   ]
  },
  {
   "cell_type": "code",
   "execution_count": 152,
   "id": "f3648d1b",
   "metadata": {},
   "outputs": [
    {
     "name": "stdout",
     "output_type": "stream",
     "text": [
      "['Name,Age,City']\n",
      "['John,25,New York']\n",
      "['Alice,30,London']\n",
      "['Bob,22,Paris']\n"
     ]
    }
   ],
   "source": [
    "import csv\n",
    "file_path=\"idcard.csv\"\n",
    "\n",
    "with open(file_path, \"r\") as csv_file:\n",
    "    reader = csv.reader(csv_file,delimiter='\\t')\n",
    "    for row in reader:\n",
    "        print(row)"
   ]
  },
  {
   "cell_type": "markdown",
   "id": "fd159633",
   "metadata": {},
   "source": [
    "#### 12.Write a Python program that reads a CSV file and remove initial spaces, quotes around each entry and the delimiter."
   ]
  },
  {
   "cell_type": "code",
   "execution_count": 153,
   "id": "6f44c66b",
   "metadata": {},
   "outputs": [
    {
     "name": "stdout",
     "output_type": "stream",
     "text": [
      "['Name', 'Age', 'City']\n",
      "['John', '25', 'New York']\n",
      "['Alice', '30', 'London']\n",
      "['Bob', '22', 'Paris']\n"
     ]
    }
   ],
   "source": [
    "import csv\n",
    "file_path=\"idcard.csv\"\n",
    "with open(file_path, \"r\") as csv_file:\n",
    "    reader = csv.reader(csv_file)\n",
    "    cleaned_row = [[entry.strip().strip('\"') for entry in row]for row in reader]\n",
    "    for row in cleaned_row:\n",
    "        print(row)"
   ]
  },
  {
   "cell_type": "markdown",
   "id": "52862b96",
   "metadata": {},
   "source": [
    "#### 13.Write a Python program to read specific columns of a given CSV file and print the content of the columns."
   ]
  },
  {
   "cell_type": "code",
   "execution_count": 164,
   "id": "b8ba40c6",
   "metadata": {},
   "outputs": [
    {
     "name": "stdout",
     "output_type": "stream",
     "text": [
      "['Name', 'Age']\n",
      "['John', '25']\n",
      "['Alice', '30']\n",
      "['Bob', '22']\n"
     ]
    }
   ],
   "source": [
    "import csv\n",
    "file_path=\"idcard.csv\"\n",
    "column=[0,1]\n",
    "with open(file_path, \"r\") as csv_file:\n",
    "    reader = csv.reader(csv_file)        \n",
    "\n",
    "    for row in reader:\n",
    "        selected_data = [row[index] for index in column]\n",
    "        print(selected_data)"
   ]
  },
  {
   "cell_type": "markdown",
   "id": "1cc0c951",
   "metadata": {},
   "source": [
    "# Assignment..."
   ]
  },
  {
   "cell_type": "markdown",
   "id": "7e177cb6",
   "metadata": {},
   "source": [
    "#### 1.Reading from CSV file"
   ]
  },
  {
   "cell_type": "code",
   "execution_count": 166,
   "id": "d28967e1",
   "metadata": {},
   "outputs": [
    {
     "name": "stdout",
     "output_type": "stream",
     "text": [
      "['Company Name', 'Price', 'Earnings Per Share', ' Book Value']\n",
      "['Reliance', '1467', '66', '653']\n",
      "['Tata Steel', '391', '89', '572']\n",
      "['Infosys', '650', '35', '147']\n",
      "['Axis Bank', '739', '19', '263']\n",
      "['Bajaj Finance', '4044', '69', '341']\n"
     ]
    }
   ],
   "source": [
    "file_path=\"stocks.csv\"\n",
    "with open(file_path, 'r') as csv_file:\n",
    "    reader=csv.reader(csv_file)\n",
    "    for row in reader:\n",
    "        print(row)"
   ]
  },
  {
   "cell_type": "markdown",
   "id": "3a959a92",
   "metadata": {},
   "source": [
    "#### 2.Writing to CSV file\n",
    "writerow()\n",
    "writerows()"
   ]
  },
  {
   "cell_type": "code",
   "execution_count": 179,
   "id": "eb5effc1",
   "metadata": {},
   "outputs": [],
   "source": [
    "file_path=\"example3.csv\"\n",
    "with open(file_path, \"w\", newline='') as csv_file:\n",
    "    writer = csv.writer(csv_file)\n",
    "    single_row = [\"Adarsh\", 19, \"Jhansla\"]\n",
    "    writer.writerow(single_row)\n",
    "\n",
    "    multiple_rows = [\n",
    "        [\"Harsh\", 21, \"Chandigarh\"],\n",
    "        [\"Kus\", 22, \"Mohali\"],\n",
    "        [\"Hims\", 20, \"Rajpura\"]\n",
    "    ]\n",
    "    writer.writerows(multiple_rows)"
   ]
  },
  {
   "cell_type": "markdown",
   "id": "fa9f9906",
   "metadata": {},
   "source": [
    "#### 3.print the min, max and avg score of given score.csv file"
   ]
  },
  {
   "cell_type": "code",
   "execution_count": 197,
   "id": "8d8e0ddc",
   "metadata": {},
   "outputs": [
    {
     "name": "stdout",
     "output_type": "stream",
     "text": [
      "min_value is: 5.0\n",
      "max_value is: 140.0\n",
      "avg_value is: 78.92857142857143\n"
     ]
    }
   ],
   "source": [
    "file_path=\"scores.csv\"\n",
    "with open(file_path, \"r\") as csv_file:\n",
    "    reader=csv.reader(csv_file)\n",
    "    min_value=float('inf')\n",
    "    max_value=float('-inf')\n",
    "    total_value=0\n",
    "    counter=0\n",
    "    for row in reader:\n",
    "        score=float(row[1])\n",
    "        min_value=min(min_value,score)\n",
    "        max_value=max(max_value,score)\n",
    "        total_value+=score\n",
    "        counter+=1\n",
    "        \n",
    "    if counter == 0:\n",
    "        print(\"No scores found in the CSV file.\")\n",
    "    else:\n",
    "        print(f\"min_value is: {min_value}\")\n",
    "        print(f\"max_value is: {max_value}\")\n",
    "        print(f\"avg_value is: {total_value/counter}\")"
   ]
  },
  {
   "cell_type": "markdown",
   "id": "c4430c31",
   "metadata": {},
   "source": [
    "#### 4.Appending To a File in Python\n",
    "i- Append-adds at last\n",
    "ii-Write-Overwrites"
   ]
  },
  {
   "cell_type": "code",
   "execution_count": 222,
   "id": "e6b18d5c",
   "metadata": {},
   "outputs": [],
   "source": [
    "file_path=\"example4.csv\"\n",
    "with open (file_path,'a') as csv_file:\n",
    "    csv_file.write(\"This is appended content.\\n\")\n",
    "    \n",
    "with open (file_path,'w') as csv_file:\n",
    "    csv_file.write(\"This is being overwritten.\")"
   ]
  },
  {
   "cell_type": "markdown",
   "id": "8677cf0c",
   "metadata": {},
   "source": [
    "#### 5.Reading Data From an XML File\n",
    "i-Finding Tags \n",
    "ii-Extracting from tags"
   ]
  },
  {
   "cell_type": "code",
   "execution_count": 289,
   "id": "a14e38bb",
   "metadata": {},
   "outputs": [
    {
     "name": "stdout",
     "output_type": "stream",
     "text": [
      "<?xml version=\"1.0\" encoding=\"utf-8\"?>\n",
      "<data xmlns=\"http://example.com\">\n",
      "<row>\n",
      "<shape>square</shape>\n",
      "<degrees>360</degrees>\n",
      "<sides>4.0</sides>\n",
      "<firstname>Krish</firstname>\n",
      "</row>\n",
      "<row>\n",
      "<shape>circle</shape>\n",
      "<degrees>360</degrees>\n",
      "<sides/>\n",
      "<firstname/>\n",
      "</row>\n",
      "<row>\n",
      "<shape>triangle</shape>\n",
      "<degrees>180</degrees>\n",
      "<sides>3.0</sides>\n",
      "<firstname/>\n",
      "</row>\n",
      "</data>\n",
      "\n",
      "[<shape>square</shape>, <shape>circle</shape>, <shape>triangle</shape>]\n"
     ]
    }
   ],
   "source": [
    "from bs4 import BeautifulSoup\n",
    "\n",
    "with open(\"content.xml\", \"r\") as file:\n",
    "    xml_data = file.read()\n",
    "\n",
    "soup = BeautifulSoup(xml_data, \"xml\")\n",
    "print(soup)\n",
    "\n",
    "row_tags = soup.find_all(\"shape\")\n",
    "print()\n",
    "print(row_tags)"
   ]
  },
  {
   "cell_type": "markdown",
   "id": "928f5585",
   "metadata": {},
   "source": [
    "#### 6.Reading the data inside the xml file to a variable under the name data"
   ]
  },
  {
   "cell_type": "code",
   "execution_count": 260,
   "id": "e8c6e7dd",
   "metadata": {},
   "outputs": [
    {
     "name": "stdout",
     "output_type": "stream",
     "text": [
      "<row>\n",
      "<shape>square</shape>\n",
      "<degrees>360</degrees>\n",
      "<sides>4.0</sides>\n",
      "<firstname>Krish</firstname>\n",
      "</row>\n",
      "<row>\n",
      "<shape>circle</shape>\n",
      "<degrees>360</degrees>\n",
      "<sides/>\n",
      "<firstname/>\n",
      "</row>\n",
      "<row>\n",
      "<shape>triangle</shape>\n",
      "<degrees>180</degrees>\n",
      "<sides>3.0</sides>\n",
      "<firstname/>\n",
      "</row>\n"
     ]
    }
   ],
   "source": [
    "from bs4 import BeautifulSoup\n",
    "\n",
    "with open(\"content.xml\", \"r\") as file:\n",
    "    xml_data = file.read()\n",
    "    \n",
    "soup = BeautifulSoup(xml_data, 'xml')\n",
    "\n",
    "data = soup.find_all('row')\n",
    "# print(data)\n",
    "# print()\n",
    "for row in data:\n",
    "    print(row)"
   ]
  },
  {
   "cell_type": "markdown",
   "id": "a8cd5b37",
   "metadata": {},
   "source": [
    "#### 7.Writing XML Files"
   ]
  },
  {
   "cell_type": "code",
   "execution_count": 307,
   "id": "2861ccc7",
   "metadata": {},
   "outputs": [
    {
     "name": "stdout",
     "output_type": "stream",
     "text": [
      "<?xml version=\"1.0\" encoding=\"utf-8\"?>\n",
      "<data xmlns=\"http://example.com\">\n",
      "<row>\n",
      "<shape>circle</shape>\n",
      "<degrees>360</degrees>\n",
      "<sides>4.0</sides>\n",
      "<firstname>Krish</firstname>\n",
      "</row>\n",
      "<row>\n",
      "<shape>circle</shape>\n",
      "<degrees>360</degrees>\n",
      "<sides/>\n",
      "<firstname/>\n",
      "</row>\n",
      "<row>\n",
      "<shape>circle</shape>\n",
      "<degrees>180</degrees>\n",
      "<sides>3.0</sides>\n",
      "<firstname/>\n",
      "</row>\n",
      "</data>\n"
     ]
    }
   ],
   "source": [
    "from bs4 import BeautifulSoup\n",
    "\n",
    "with open(\"work.xml\",'r') as f:\n",
    "    data=f.read()\n",
    "    \n",
    "soup=BeautifulSoup(data,\"xml\")\n",
    "\n",
    "for tag in soup.find_all('shape'):\n",
    "    tag.string = 'circle'\n",
    "    \n",
    "print(soup)\n",
    "\n",
    "with open(\"modified_work.xml\", 'w') as f:\n",
    "    f.write(soup.prettify())"
   ]
  },
  {
   "cell_type": "markdown",
   "id": "81fb0cb7",
   "metadata": {},
   "source": [
    "#### 8.Writing List to Files in Python\n",
    "Using write()\n",
    "Using writelines()\n",
    "Using String Join Along with “with open” syntax"
   ]
  },
  {
   "cell_type": "code",
   "execution_count": 294,
   "id": "5e8548fa",
   "metadata": {},
   "outputs": [
    {
     "name": "stdout",
     "output_type": "stream",
     "text": [
      "List written to example5.txt using write() successfully.\n",
      "List written to example6.txt using write() successfully.\n",
      "List written to example7.txt using string join successfully.\n"
     ]
    }
   ],
   "source": [
    "my_list = ['Sachin Tendulkar', 'Virat Kohli', 'Ricky Ponting', 'Brian Lara', 'Wasim Akram']\n",
    "\n",
    "file_path = 'example5.txt'\n",
    "with open(file_path, 'w') as file:\n",
    "    for item in my_list:\n",
    "        file.write(f\"{item}\\n\")\n",
    "print(f\"List written to {file_path} using write() successfully.\")\n",
    "\n",
    "my_list = [['Sachin Tendulkar', 'Virat Kohli', 'Ricky Ponting', 'Brian Lara', 'Wasim Akram'],['Kapil Dev', 'Anil Kumble', 'Javagal Srinath', 'Harbhajan Singh', 'Ravichandran Ashwin']]\n",
    "file_path = 'example6.txt'\n",
    "with open(file_path, 'w') as file:\n",
    "    for item in my_list:\n",
    "        file.writelines(f\"{item}\\n\")\n",
    "print(f\"List written to {file_path} using write() successfully.\")\n",
    "\n",
    "my_list = [['Sachin Tendulkar', 'Virat Kohli', 'Ricky Ponting', 'Brian Lara', 'Wasim Akram'],['Kapil Dev', 'Anil Kumble', 'Javagal Srinath', 'Harbhajan Singh', 'Ravichandran Ashwin']]\n",
    "file_path = 'example7.txt'\n",
    "with open(file_path, 'w') as file:\n",
    "    for item in my_list:\n",
    "        file.write('\\n'.join(item))\n",
    "print(f\"List written to {file_path} using string join successfully.\")"
   ]
  },
  {
   "cell_type": "markdown",
   "id": "b2985a29",
   "metadata": {},
   "source": [
    "#### 9.[poem.txt]contains famous poem \"Road not taken\" by poet Robert Frost. You have to read this file in your python program and find out words with maximum occurance."
   ]
  },
  {
   "cell_type": "code",
   "execution_count": 243,
   "id": "01ddcbf9",
   "metadata": {},
   "outputs": [
    {
     "name": "stdout",
     "output_type": "stream",
     "text": [
      "Word Count Dictionary:\n",
      "I\n",
      "the\n"
     ]
    }
   ],
   "source": [
    "with open(\"poem.txt\",'r') as f:\n",
    "    data=f.read()\n",
    "    cleaned_string=data.replace(\",\", \"\").replace(\".\", \"\").replace(\":\", \"\").replace(\";\", \"\").replace(\"-\", \"\")\n",
    "    \n",
    "    word_count={}\n",
    "    words=cleaned_string.split()\n",
    "    for word in words:\n",
    "        word_count[word] = word_count.get(word, 0) + 1\n",
    "\n",
    "    max_count=0\n",
    "    print(\"Word Count Dictionary:\")\n",
    "    for word, count in word_count.items():\n",
    "        max_count=max(max_count,count)\n",
    "        \n",
    "    for word, count in word_count.items():\n",
    "        if(max_count==count):\n",
    "            print(word)\n"
   ]
  },
  {
   "cell_type": "markdown",
   "id": "1f53d659",
   "metadata": {},
   "source": [
    "#### 10.[stocks.csv]contains stock price, earnings per share and book value. You are writing a stock market application that will process this file and create a new file\n",
    "with financial metrics such as pe ratio and price to book ratio. These are calculated as,\n",
    "```\n",
    "pe ratio = price / earnings per share\n",
    "price to book ratio = price / book value\n",
    "```\n",
    "\n",
    "\n",
    "Your input format (stocks.csv) is,\n",
    "\n",
    "|Company Name|Price|Earnings Per Share|Book Value|\n",
    "|-------|----------|-------|----------|\n",
    "|Reliance|1467|66|653|\n",
    "|Tata Steel|391|89|572|\n",
    "\n",
    "Output.csv should look like this,\n",
    "\n",
    "|Company Name|PE Ratio|PB Ratio|\n",
    "|-------|----------|-------|\n",
    "|Reliance|22.23|2.25|\n",
    "|Tata Steel|4.39|0.68|"
   ]
  },
  {
   "cell_type": "code",
   "execution_count": 288,
   "id": "cefea561",
   "metadata": {},
   "outputs": [],
   "source": [
    "import csv\n",
    "with open(\"stocks.csv\",\"r\") as f:\n",
    "    reader=csv.DictReader(f)\n",
    "    \n",
    "    output=[]\n",
    "    output_headers=['Company Name','PE Ratio','PB Ratio']\n",
    "    \n",
    "    for row in reader:\n",
    "        company_name=row['Company Name']\n",
    "        price=float(row['Price'])\n",
    "        earning_per_share=float(row['Earnings Per Share'])\n",
    "        book_value=float(row['Book Value'])\n",
    "        \n",
    "        pb_ratio=round(price/earning_per_share,2)\n",
    "        pe_ratio=round(price/book_value,2)\n",
    "        \n",
    "        output.append({'Company Name':company_name, 'PE Ratio':pe_ratio, 'PB Ratio':pb_ratio})\n",
    "        \n",
    "with open(\"Output.csv\",\"w\",newline=\"\") as f:\n",
    "    writer=csv.DictWriter(f, fieldnames=output_headers)\n",
    "    writer.writeheader()\n",
    "    writer.writerows(output)"
   ]
  }
 ],
 "metadata": {
  "kernelspec": {
   "display_name": "Python 3 (ipykernel)",
   "language": "python",
   "name": "python3"
  },
  "language_info": {
   "codemirror_mode": {
    "name": "ipython",
    "version": 3
   },
   "file_extension": ".py",
   "mimetype": "text/x-python",
   "name": "python",
   "nbconvert_exporter": "python",
   "pygments_lexer": "ipython3",
   "version": "3.11.5"
  }
 },
 "nbformat": 4,
 "nbformat_minor": 5
}
