{
 "cells": [
  {
   "cell_type": "markdown",
   "id": "c70a13b8",
   "metadata": {},
   "source": [
    "# Assignment..."
   ]
  },
  {
   "cell_type": "markdown",
   "id": "15320a29",
   "metadata": {},
   "source": [
    "#### 1. Write a Python script to display the various Date Time formats -\n",
    "a) Current date and time\n",
    "b) Current year\n",
    "c) Month of year\n",
    "d) Week number of the year\n",
    "e) Weekday of the week\n",
    "f) Day of year\n",
    "g) Day of the month\n",
    "h) Day of week"
   ]
  },
  {
   "cell_type": "code",
   "execution_count": 33,
   "id": "86328f1c",
   "metadata": {},
   "outputs": [
    {
     "name": "stdout",
     "output_type": "stream",
     "text": [
      "Today's date:  2024-02-05 11:35:08.265530\n",
      "Formatted Date and Time: 2024-02-05 11:35:08\n",
      "\n",
      "Current year: 2024\n",
      "\n",
      "Current month: February\n",
      "\n",
      "Current week of the year: 05\n",
      "\n",
      "Weekday of the week: Monday\n",
      "\n",
      "Day of year: 036\n",
      "\n",
      "Day of the month: 05\n",
      "\n",
      "Day of week: 1\n"
     ]
    }
   ],
   "source": [
    "# a) Current date and time\n",
    "from datetime import datetime\n",
    "today=datetime.now()\n",
    "print(\"Today's date: \",today)\n",
    "\n",
    "formatted_datetime = today.strftime(\"%Y-%m-%d %H:%M:%S\")\n",
    "print(\"Formatted Date and Time:\", formatted_datetime)\n",
    "\n",
    "# b) Current year\n",
    "print(\"\\nCurrent year:\", today.year)\n",
    "\n",
    "# c) Month of year\n",
    "print(\"\\nCurrent month:\", today.strftime(\"%B\"))\n",
    "\n",
    "# d) Week number of the year\n",
    "print(\"\\nCurrent week of the year:\", today.strftime(\"%U\"))\n",
    "\n",
    "# e) Weekday of the week\n",
    "print(\"\\nWeekday of the week:\", today.strftime(\"%A\"))\n",
    "\n",
    "# f) Day of year\n",
    "print(\"\\nDay of year:\", today.strftime(\"%j\"))\n",
    "\n",
    "# g) Day of the month\n",
    "print(\"\\nDay of the month:\", today.strftime(\"%d\"))\n",
    "\n",
    "# h) Day of week\n",
    "print(\"\\nDay of week:\", today.strftime(\"%w\"))"
   ]
  },
  {
   "cell_type": "markdown",
   "id": "e18df46f",
   "metadata": {},
   "source": [
    "#### 2.Write a Python program to subtract five days from the current date.\n",
    "Sample Date :\n",
    "Current Date : 2015-06-22"
   ]
  },
  {
   "cell_type": "code",
   "execution_count": 44,
   "id": "c4fc1892",
   "metadata": {},
   "outputs": [
    {
     "name": "stdout",
     "output_type": "stream",
     "text": [
      "2024-01-31\n",
      "\n",
      "2024-02-10\n"
     ]
    }
   ],
   "source": [
    "from datetime import date, timedelta\n",
    "today_date=date.today()\n",
    "print(today_date-timedelta(days=5))\n",
    "print(f\"\\n{today_date+timedelta(days=5)}\")"
   ]
  },
  {
   "cell_type": "markdown",
   "id": "85d6014b",
   "metadata": {},
   "source": [
    "#### 3.Write a Python program to calculate the number of days between two date times."
   ]
  },
  {
   "cell_type": "code",
   "execution_count": 53,
   "id": "e7ffe483",
   "metadata": {},
   "outputs": [
    {
     "name": "stdout",
     "output_type": "stream",
     "text": [
      "31 days, 7:30:00\n"
     ]
    }
   ],
   "source": [
    "start_date_str = \"2024-01-01 05:00:00\"\n",
    "end_date_str = \"2024-02-01 12:30:00\"\n",
    "\n",
    "x=datetime.strptime(start_date_str, \"%Y-%m-%d %H:%M:%S\")\n",
    "y=datetime.strptime(end_date_str, \"%Y-%m-%d %H:%M:%S\")\n",
    "                    \n",
    "difference = y - x\n",
    "\n",
    "print(difference)"
   ]
  },
  {
   "cell_type": "markdown",
   "id": "0b19b6eb",
   "metadata": {},
   "source": [
    "#### 4.Write a Python program to read an entire text file."
   ]
  },
  {
   "cell_type": "code",
   "execution_count": 69,
   "id": "3defcf03",
   "metadata": {},
   "outputs": [
    {
     "name": "stdout",
     "output_type": "stream",
     "text": [
      "<_io.TextIOWrapper name='example.txt' mode='w' encoding='cp1252'>\n",
      "\n",
      "Cricket is a popular sport played and watched by millions of fans around the world.\n",
      "It is a bat-and-ball game played between two teams, each consisting of eleven players.\n",
      "The game is played on a circular field with a rectangular 22-yard-long pitch in the center.\n",
      "The primary objective is for the batting team to score runs by hitting the ball and running between two sets of wickets.\n",
      "The fielding team aims to dismiss the batsmen or restrict the runs scored.\n",
      "Cricket has different formats, including Test matches, One Day Internationals (ODIs), and Twenty20 (T20) matches.\n",
      "The sport has a rich history, with international competitions like the ICC Cricket World Cup and the Ashes series being highly prestigious.\n",
      "Legendary players like Sachin Tendulkar, Sir Donald Bradman, and Brian Lara have left a significant impact on the game.\n",
      "Cricket has a diverse fan base, and major cricketing nations include India, Australia, England, Pakistan, and South Africa.\n",
      "The game's unique terminology, such as \"bowled,\" \"lbw\" (leg before wicket), and \"century,\" adds to its charm and complexity.\n"
     ]
    }
   ],
   "source": [
    "file_path=\"example.txt\"\n",
    "content=\"\"\"Cricket is a popular sport played and watched by millions of fans around the world.\n",
    "It is a bat-and-ball game played between two teams, each consisting of eleven players.\n",
    "The game is played on a circular field with a rectangular 22-yard-long pitch in the center.\n",
    "The primary objective is for the batting team to score runs by hitting the ball and running between two sets of wickets.\n",
    "The fielding team aims to dismiss the batsmen or restrict the runs scored.\n",
    "Cricket has different formats, including Test matches, One Day Internationals (ODIs), and Twenty20 (T20) matches.\n",
    "The sport has a rich history, with international competitions like the ICC Cricket World Cup and the Ashes series being highly prestigious.\n",
    "Legendary players like Sachin Tendulkar, Sir Donald Bradman, and Brian Lara have left a significant impact on the game.\n",
    "Cricket has a diverse fan base, and major cricketing nations include India, Australia, England, Pakistan, and South Africa.\n",
    "The game's unique terminology, such as \"bowled,\" \"lbw\" (leg before wicket), and \"century,\" adds to its charm and complexity.\"\"\"\n",
    "with open (file_path,'w') as file:\n",
    "    file.write(content)\n",
    "    \n",
    "print(file)\n",
    "\n",
    "with open (file_path,'r') as file:\n",
    "    contents=file.read()\n",
    "    \n",
    "print(f\"\\n{contents}\")"
   ]
  },
  {
   "cell_type": "markdown",
   "id": "a1639beb",
   "metadata": {},
   "source": [
    "#### 5.Write a Python program to read first n lines of a file."
   ]
  },
  {
   "cell_type": "code",
   "execution_count": 88,
   "id": "d68fa7e1",
   "metadata": {},
   "outputs": [
    {
     "name": "stdout",
     "output_type": "stream",
     "text": [
      "3\n",
      "Cricket is a popular sport played and watched by millions of fans around the world.\n",
      "\n",
      "It is a bat-and-ball game played between two teams, each consisting of eleven players.\n",
      "\n",
      "The game is played on a circular field with a rectangular 22-yard-long pitch in the center.\n",
      "\n"
     ]
    }
   ],
   "source": [
    "n=int(input())\n",
    "with open(\"example.txt\", \"r\") as file:\n",
    "    for line in range(n):\n",
    "        lines=file.readline()\n",
    "        if not lines:\n",
    "            break\n",
    "        print(lines)"
   ]
  },
  {
   "cell_type": "markdown",
   "id": "64cfdaa5",
   "metadata": {},
   "source": [
    "#### 6.Write a Python program to read last n lines of a file."
   ]
  },
  {
   "cell_type": "code",
   "execution_count": 101,
   "id": "d16d445d",
   "metadata": {},
   "outputs": [
    {
     "name": "stdout",
     "output_type": "stream",
     "text": [
      "3\n",
      "Legendary players like Sachin Tendulkar, Sir Donald Bradman, and Brian Lara have left a significant impact on the game.\n",
      "\n",
      "Cricket has a diverse fan base, and major cricketing nations include India, Australia, England, Pakistan, and South Africa.\n",
      "\n",
      "The game's unique terminology, such as \"bowled,\" \"lbw\" (leg before wicket), and \"century,\" adds to its charm and complexity.\n"
     ]
    }
   ],
   "source": [
    "# n=int(input())\n",
    "# with open(\"example.txt\", \"r\") as file:\n",
    "#     lines=file.readlines()\n",
    "#     startindex=len(lines)-n\n",
    "#     for line in lines[startindex:]:\n",
    "#         print(line)\n",
    "\n",
    "n=int(input())\n",
    "with open(\"example.txt\", \"r\") as file:\n",
    "    for line in file.readlines()[-n:]:\n",
    "            print(line)"
   ]
  },
  {
   "cell_type": "markdown",
   "id": "1203249f",
   "metadata": {},
   "source": [
    "#### 7.Write a Python program to get the file size of a plain file."
   ]
  },
  {
   "cell_type": "code",
   "execution_count": 104,
   "id": "6db12c2a",
   "metadata": {},
   "outputs": [
    {
     "name": "stdout",
     "output_type": "stream",
     "text": [
      "1090\n"
     ]
    }
   ],
   "source": [
    "import os\n",
    "size_of_file = os.path.getsize(file_path)\n",
    "print(size_of_file)"
   ]
  },
  {
   "cell_type": "markdown",
   "id": "6bb2109b",
   "metadata": {},
   "source": [
    "#### 8.Write a Python program that takes a text file as input and returns the number of words of a given text file.\n",
    "Note: Some words can be separated by a comma with no space."
   ]
  },
  {
   "cell_type": "code",
   "execution_count": 107,
   "id": "f0c6be69",
   "metadata": {},
   "outputs": [
    {
     "name": "stdout",
     "output_type": "stream",
     "text": [
      "4\n"
     ]
    }
   ],
   "source": [
    "file_path=\"example1.txt\"\n",
    "content=\"Hi I am Kushagra\"\n",
    "with open (file_path,'w') as file:\n",
    "    file.write(content)\n",
    "\n",
    "with open(\"example1.txt\", \"r\") as file:    \n",
    "    text = file.read()\n",
    "    words = text.replace(\",\", \" \").split()\n",
    "    num_words = len(words)\n",
    "    print(num_words)"
   ]
  },
  {
   "cell_type": "markdown",
   "id": "bd27d828",
   "metadata": {},
   "source": [
    "#### 9.Write a Python program to generate 26 text files named A.txt, B.txt, and so on up to Z.txt."
   ]
  },
  {
   "cell_type": "code",
   "execution_count": 109,
   "id": "4fbbc405",
   "metadata": {},
   "outputs": [],
   "source": [
    "import string\n",
    "for i in string.ascii_uppercase:\n",
    "    file_path=f\"{i}.txt\"\n",
    "    with open (file_path,'w') as file:\n",
    "        file.write(f\"The name of file is {i}\")"
   ]
  },
  {
   "cell_type": "markdown",
   "id": "37cf4c18",
   "metadata": {},
   "source": [
    "#### 10.Write a Python program to read each row from a given csv file and print a list of strings."
   ]
  },
  {
   "cell_type": "code",
   "execution_count": 151,
   "id": "f1606fd8",
   "metadata": {},
   "outputs": [
    {
     "name": "stdout",
     "output_type": "stream",
     "text": [
      "['Name', 'Age', 'City']\n",
      "['John', '25', 'New York']\n",
      "['Alice', '30', 'London']\n",
      "['Bob', '22', 'Paris']\n"
     ]
    }
   ],
   "source": [
    "import csv\n",
    "file_path=\"idcard.csv\"\n",
    "csv_data = [[\"Name\", \"Age\", \"City\"],\n",
    "    [\"John\", 25, \"New York\"],\n",
    "    [\"Alice\", 30, \"London\"],\n",
    "    [\"Bob\", 22, \"Paris\"],\n",
    "]\n",
    "\n",
    "with open(file_path, \"w\", newline='') as csv_file:\n",
    "    writer = csv.writer(csv_file)\n",
    "    for row in csv_data:\n",
    "        writer.writerow(row)\n",
    "\n",
    "with open(file_path, \"r\") as csv_file:\n",
    "    reader = csv.reader(csv_file)\n",
    "    for row in reader:\n",
    "        print(row)"
   ]
  },
  {
   "cell_type": "markdown",
   "id": "2039d669",
   "metadata": {},
   "source": [
    "#### 11.Write a Python program to read a given CSV file having tab delimiter."
   ]
  },
  {
   "cell_type": "code",
   "execution_count": 152,
   "id": "9a9c7262",
   "metadata": {},
   "outputs": [
    {
     "name": "stdout",
     "output_type": "stream",
     "text": [
      "['Name,Age,City']\n",
      "['John,25,New York']\n",
      "['Alice,30,London']\n",
      "['Bob,22,Paris']\n"
     ]
    }
   ],
   "source": [
    "import csv\n",
    "file_path=\"idcard.csv\"\n",
    "\n",
    "with open(file_path, \"r\") as csv_file:\n",
    "    reader = csv.reader(csv_file,delimiter='\\t')\n",
    "    for row in reader:\n",
    "        print(row)"
   ]
  },
  {
   "cell_type": "markdown",
   "id": "e09af22e",
   "metadata": {},
   "source": [
    "#### 12.Write a Python program that reads a CSV file and remove initial spaces, quotes around each entry and the delimiter."
   ]
  },
  {
   "cell_type": "code",
   "execution_count": 153,
   "id": "15cb1055",
   "metadata": {},
   "outputs": [
    {
     "name": "stdout",
     "output_type": "stream",
     "text": [
      "['Name', 'Age', 'City']\n",
      "['John', '25', 'New York']\n",
      "['Alice', '30', 'London']\n",
      "['Bob', '22', 'Paris']\n"
     ]
    }
   ],
   "source": [
    "import csv\n",
    "file_path=\"idcard.csv\"\n",
    "with open(file_path, \"r\") as csv_file:\n",
    "    reader = csv.reader(csv_file)\n",
    "    cleaned_row = [[entry.strip().strip('\"') for entry in row]for row in reader]\n",
    "    for row in cleaned_row:\n",
    "        print(row)"
   ]
  },
  {
   "cell_type": "markdown",
   "id": "eaa99044",
   "metadata": {},
   "source": [
    "#### 13.Write a Python program to read specific columns of a given CSV file and print the content of the columns."
   ]
  },
  {
   "cell_type": "code",
   "execution_count": 163,
   "id": "6f20ce92",
   "metadata": {},
   "outputs": [
    {
     "name": "stdout",
     "output_type": "stream",
     "text": [
      "['Name', 'Age']\n",
      "['John', '25']\n",
      "['Alice', '30']\n",
      "['Bob', '22']\n"
     ]
    }
   ],
   "source": [
    "import csv\n",
    "file_path=\"idcard.csv\"\n",
    "column=[0,1]\n",
    "with open(file_path, \"r\") as csv_file:\n",
    "    reader = csv.reader(csv_file)        \n",
    "\n",
    "    for row in reader:\n",
    "        selected_data = [row[index] for index in column]\n",
    "        print(selected_data)"
   ]
  }
 ],
 "metadata": {
  "kernelspec": {
   "display_name": "Python 3 (ipykernel)",
   "language": "python",
   "name": "python3"
  },
  "language_info": {
   "codemirror_mode": {
    "name": "ipython",
    "version": 3
   },
   "file_extension": ".py",
   "mimetype": "text/x-python",
   "name": "python",
   "nbconvert_exporter": "python",
   "pygments_lexer": "ipython3",
   "version": "3.11.5"
  }
 },
 "nbformat": 4,
 "nbformat_minor": 5
}
