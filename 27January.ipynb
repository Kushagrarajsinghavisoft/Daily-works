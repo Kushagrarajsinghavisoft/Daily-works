{
 "cells": [
  {
   "cell_type": "markdown",
   "id": "561cc2f4",
   "metadata": {},
   "source": [
    "# Home Work..."
   ]
  },
  {
   "cell_type": "markdown",
   "id": "e844fd96",
   "metadata": {},
   "source": [
    "#### 1.Given a decimal number (integer N), convert it into binary and print.\n",
    "Sample Input :\n",
    "12\n",
    "Sample Output :\n",
    "1100"
   ]
  },
  {
   "cell_type": "code",
   "execution_count": 6,
   "id": "90d9ca23",
   "metadata": {},
   "outputs": [
    {
     "name": "stdout",
     "output_type": "stream",
     "text": [
      "10\n",
      "1010"
     ]
    }
   ],
   "source": [
    "n=int(input())\n",
    "\n",
    "l1=[]\n",
    "while(n!=0):\n",
    "    mod=n%2\n",
    "    l1.append(mod)\n",
    "    n=n//2\n",
    "    \n",
    "for i in range(len(l1)-1,-1,-1):\n",
    "    print(l1[i],end=\"\")"
   ]
  },
  {
   "cell_type": "markdown",
   "id": "ce0cdf3c",
   "metadata": {},
   "source": [
    "#### 2.Given an integer N, print all the prime numbers that lie in the range 2 to N (both inclusive).\n",
    "Print the prime numbers in different lines.\n",
    "Sample Input:\n",
    "9\n",
    "Sample Output:\n",
    "2\n",
    "3\n",
    "5\n",
    "7"
   ]
  },
  {
   "cell_type": "code",
   "execution_count": 8,
   "id": "bb2795d1",
   "metadata": {},
   "outputs": [
    {
     "name": "stdout",
     "output_type": "stream",
     "text": [
      "52\n",
      "2\n",
      "3\n",
      "5\n",
      "7\n",
      "11\n",
      "13\n",
      "17\n",
      "19\n",
      "23\n",
      "29\n",
      "31\n",
      "37\n",
      "41\n",
      "43\n",
      "47\n"
     ]
    }
   ],
   "source": [
    "def check_prime(x):\n",
    "    count=0\n",
    "    for i in range(2,x//2+1):\n",
    "        if(x%i==0):\n",
    "            count+=1\n",
    "    if(count==0):\n",
    "        print(x)\n",
    "\n",
    "n=int(input())\n",
    "for i in range(2,n+1):\n",
    "    check_prime(i)"
   ]
  },
  {
   "cell_type": "markdown",
   "id": "d08b0b14",
   "metadata": {},
   "source": [
    "#### 3.Print the following pattern for the given number of rows.\n",
    "Pattern for N = 5\n",
    "\n",
    "           1\n",
    "          232\n",
    "         34543\n",
    "        4567654\n",
    "       567898765"
   ]
  },
  {
   "cell_type": "code",
   "execution_count": 14,
   "id": "1b3e12a8",
   "metadata": {},
   "outputs": [
    {
     "name": "stdout",
     "output_type": "stream",
     "text": [
      "5\n",
      "    1\n",
      "   232\n",
      "  34543\n",
      " 4567654\n",
      "567898765\n"
     ]
    }
   ],
   "source": [
    "n=int(input())\n",
    "for i in range(1,n+1,1):\n",
    "    for spaces in range(1,n-i+1,1):\n",
    "        print(\" \",end=\"\")\n",
    "        \n",
    "    for j in range(1,i+1,1):\n",
    "        print(i+j-1,end=\"\")\n",
    "        \n",
    "    count=2*i-2\n",
    "    for k in range(1,i,1):\n",
    "        print(count,end=\"\")\n",
    "        count-=1\n",
    "        \n",
    "    print()"
   ]
  },
  {
   "cell_type": "markdown",
   "id": "cdf3076d",
   "metadata": {},
   "source": [
    "#### 4.Print the following pattern for the given number of rows.\n",
    "Note: N is always odd.\n",
    "Pattern for N = 5\n",
    "\n",
    "  *\n",
    " ***\n",
    "*****\n",
    " ***\n",
    "  *"
   ]
  },
  {
   "cell_type": "code",
   "execution_count": 16,
   "id": "031bb4a7",
   "metadata": {},
   "outputs": [
    {
     "name": "stdout",
     "output_type": "stream",
     "text": [
      "8\n",
      "    *\n",
      "   ***\n",
      "  *****\n",
      " *******\n",
      "*********\n",
      " *****\n",
      "  ***\n",
      "   *\n"
     ]
    }
   ],
   "source": [
    "n=int(input())\n",
    "n1=n//2+1\n",
    "n2=n-n1\n",
    "for i in range(1,n1+1,1):\n",
    "    for spaces in range(1,n1-i+1,1):\n",
    "        print(\" \",end=\"\")\n",
    "        \n",
    "    for j in range(1,2*i,1):\n",
    "        print(\"*\",end=\"\")\n",
    "        \n",
    "    print()\n",
    "        \n",
    "for i in range(1,n2+1,1):\n",
    "    for spaces in range(1,i+1,1):\n",
    "        print(\" \",end=\"\")\n",
    "        \n",
    "    for j in range(1,2*(n2-i+1),1):\n",
    "        print(\"*\",end=\"\")\n",
    "        \n",
    "    print()"
   ]
  },
  {
   "cell_type": "markdown",
   "id": "59647bb5",
   "metadata": {},
   "source": [
    "#### 5.Write a program to print triangle of user defined integers sum.\n",
    "\n",
    "Sample Input \n",
    "3\n",
    "Sample Output :\n",
    "1=1\n",
    "1+2=3\n",
    "1+2+3=6"
   ]
  },
  {
   "cell_type": "code",
   "execution_count": 34,
   "id": "2e381c01",
   "metadata": {},
   "outputs": [
    {
     "name": "stdout",
     "output_type": "stream",
     "text": [
      "3\n",
      "1=1\n",
      "1+2=3\n",
      "1+2+3=6\n"
     ]
    }
   ],
   "source": [
    "n=int(input())\n",
    "for i in range(1,n+1):\n",
    "    sum=0\n",
    "    for j in range(1,i+1):\n",
    "        sum=sum+j\n",
    "        if i!=j:\n",
    "            print(j,end=\"+\")\n",
    "        else:\n",
    "            print(j,\"=\",sum,sep=\"\",end=\"\")\n",
    "    print()"
   ]
  },
  {
   "cell_type": "markdown",
   "id": "506c35c8",
   "metadata": {},
   "source": [
    "#### 6.Check whether a given number ’n’ is a palindrome number.\n",
    "Note :\n",
    "Palindrome numbers are the numbers that don't change when reversed.\n",
    "You don’t need to print anything. Just implement the given function.\n",
    "Example:\n",
    "Input: 'n' = 51415\n",
    "Output: true\n",
    "Explanation: On reversing, 51415 gives 51415."
   ]
  },
  {
   "cell_type": "code",
   "execution_count": 14,
   "id": "d62057a2",
   "metadata": {},
   "outputs": [
    {
     "name": "stdout",
     "output_type": "stream",
     "text": [
      "12344321\n"
     ]
    },
    {
     "data": {
      "text/plain": [
       "True"
      ]
     },
     "execution_count": 14,
     "metadata": {},
     "output_type": "execute_result"
    }
   ],
   "source": [
    "def check_palindrome(n):\n",
    "    m=n\n",
    "    k=0\n",
    "    while(m!=0):\n",
    "        mod=m%10\n",
    "        k=k*10+mod\n",
    "        m=m//10\n",
    "        \n",
    "    return(k==n)\n",
    "\n",
    "n=int(input())\n",
    "check_palindrome(n)\n",
    "\n",
    "\n",
    "# n=int(input())\n",
    "# m=n\n",
    "# k=0\n",
    "# while(m!=0):\n",
    "#     mod=m%10\n",
    "#     k=k*10+mod\n",
    "#     m=m//10\n",
    "    \n",
    "# if(k==n):\n",
    "#     print(\"true\") \n",
    "# else:\n",
    "#     print(\"false\")"
   ]
  },
  {
   "cell_type": "markdown",
   "id": "e0fc93f7",
   "metadata": {},
   "source": [
    "#### 7.Print the following pattern for given number of rows.\n",
    "input N=5\n",
    "\n",
    " 5432*\n",
    " 543*1\n",
    " 54*21\n",
    " 5*321\n",
    " *4321"
   ]
  },
  {
   "cell_type": "code",
   "execution_count": 15,
   "id": "0fe1c8e3",
   "metadata": {},
   "outputs": [
    {
     "name": "stdout",
     "output_type": "stream",
     "text": [
      "7\n",
      "765432*\n",
      "76543*1\n",
      "7654*21\n",
      "765*321\n",
      "76*4321\n",
      "7*54321\n",
      "*654321\n"
     ]
    }
   ],
   "source": [
    "n=int(input())\n",
    "\n",
    "for i in range(1,n+1):\n",
    "    for j in range(n,0,-1):\n",
    "        if(i==j):\n",
    "            print(\"*\",end=\"\")\n",
    "        else:\n",
    "            print(j,end=\"\")\n",
    "            \n",
    "    print()"
   ]
  }
 ],
 "metadata": {
  "kernelspec": {
   "display_name": "Python 3 (ipykernel)",
   "language": "python",
   "name": "python3"
  },
  "language_info": {
   "codemirror_mode": {
    "name": "ipython",
    "version": 3
   },
   "file_extension": ".py",
   "mimetype": "text/x-python",
   "name": "python",
   "nbconvert_exporter": "python",
   "pygments_lexer": "ipython3",
   "version": "3.11.5"
  }
 },
 "nbformat": 4,
 "nbformat_minor": 5
}
