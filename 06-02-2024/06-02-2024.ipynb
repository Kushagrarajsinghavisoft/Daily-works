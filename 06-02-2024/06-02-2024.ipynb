{
 "cells": [
  {
   "cell_type": "markdown",
   "id": "94efb32a",
   "metadata": {},
   "source": [
    "# Assignment..."
   ]
  },
  {
   "cell_type": "markdown",
   "id": "2c2c530e",
   "metadata": {},
   "source": [
    "#### 1.Write a Python program to copy the contents of a file to another file"
   ]
  },
  {
   "cell_type": "code",
   "execution_count": 4,
   "id": "56258a5d",
   "metadata": {},
   "outputs": [],
   "source": [
    "with open(\"text.txt\",\"r\") as f1, open(\"text2.txt\",\"w\") as f2:\n",
    "    data=f1.read()\n",
    "    f2.write(data)"
   ]
  },
  {
   "cell_type": "markdown",
   "id": "20428dfb",
   "metadata": {},
   "source": [
    "#### 2.Write a Python programto combine each line from first file with the corresponding line in second file."
   ]
  },
  {
   "cell_type": "code",
   "execution_count": 18,
   "id": "63348bcf",
   "metadata": {},
   "outputs": [
    {
     "name": "stdout",
     "output_type": "stream",
     "text": [
      "1 9\n",
      "2 8\n",
      "3 7\n",
      "4 6\n",
      "5 5\n",
      "6 4\n",
      "7 3\n",
      "8 2\n",
      "9 1"
     ]
    }
   ],
   "source": [
    "with open(\"file1.txt\",\"r\") as f1, open(\"file2.txt\",\"r\") as f2:\n",
    "#     line1=f1.read()\n",
    "#     line2=f2.read()\n",
    "    for i,j in zip(f1,f2):\n",
    "        print(i.replace(\"\\n\",\"\"),j,end=\"\")"
   ]
  },
  {
   "cell_type": "markdown",
   "id": "209533e2",
   "metadata": {},
   "source": [
    "#### 3.Write a Python program to write 10 random numbers into a file. Read the file and then sort the numbers and then store it to another file."
   ]
  },
  {
   "cell_type": "code",
   "execution_count": 43,
   "id": "192d75c3",
   "metadata": {},
   "outputs": [],
   "source": [
    "import random\n",
    "with open(\"File3.txt\",\"w\") as f:\n",
    "    for i in range(10):\n",
    "        num=int(random.random()*100)\n",
    "        f.write(f\"{str(num)} \")\n",
    "li=[]    \n",
    "with open(\"File3.txt\",\"r\") as f:\n",
    "    data=f.read().strip()\n",
    "    numbers_list = [int(num) for num in data.split()]\n",
    "        \n",
    "li1=sorted(numbers_list)\n",
    "with open(\"File4.txt\",\"w\") as f:\n",
    "    f.write(str(li1))"
   ]
  },
  {
   "cell_type": "markdown",
   "id": "b239cf70",
   "metadata": {},
   "source": [
    "#### 4.Write a program to read through the mbox-short.txt and\n",
    "figure out the distribution by hour of the day for each of the messages.\n",
    "You can pull the hour out from the 'From ' line by finding the time\n",
    "and then splitting the string a second time using a colon.\n",
    "From stephen.marquard@uct.ac.za Sat Jan  5 09:14:16 2008\n",
    "Once you have accumulated the counts for each hour, print out the counts,\n",
    "sorted by hour as shown below. Note that the autograder\n",
    "does not have support for the sorted() function."
   ]
  },
  {
   "cell_type": "code",
   "execution_count": 61,
   "id": "ef2e6a00",
   "metadata": {},
   "outputs": [
    {
     "name": "stdout",
     "output_type": "stream",
     "text": [
      "04 --count--> 3\n",
      "06 --count--> 1\n",
      "07 --count--> 1\n",
      "09 --count--> 2\n",
      "10 --count--> 3\n",
      "11 --count--> 6\n",
      "14 --count--> 1\n",
      "15 --count--> 2\n",
      "16 --count--> 4\n",
      "17 --count--> 2\n",
      "18 --count--> 1\n",
      "19 --count--> 1\n"
     ]
    }
   ],
   "source": [
    "dict={}\n",
    "with open(\"mbox-short.txt\",\"r\") as f:\n",
    "\n",
    "    for line in f:\n",
    "        if line.startswith(\"From \"):\n",
    "            parts=line.split()\n",
    "#             print(parts)\n",
    "            hour=parts[5].split(\":\")[0]\n",
    "            if hour in dict:\n",
    "                dict[hour]+=1\n",
    "            else:\n",
    "                dict[hour]=1\n",
    "\n",
    "for key,value in sorted(dict.items()):\n",
    "    print(key,\"--count-->\",value)\n",
    "            "
   ]
  },
  {
   "cell_type": "markdown",
   "id": "d3339fb2",
   "metadata": {},
   "source": [
    "#### 5.Write a function which count number of lines and number of words in a text. All the files are in the data the folder: a) Read obama_speech.txt file and count number of lines and words b) Read michelle_obama_speech.txt file and count number of lines and words c) Read donald_speech.txt file and count number of lines and words d) Read melina_trump_speech.txt file and count number of lines and words"
   ]
  },
  {
   "cell_type": "code",
   "execution_count": 106,
   "id": "4efdb860",
   "metadata": {},
   "outputs": [
    {
     "name": "stdout",
     "output_type": "stream",
     "text": [
      "Count of line in obama_speech.txt is 66.\n",
      "Count of word in obama_speech.txt is 2091.\n",
      "Count of line in michelle_obama_speech.txt is 83.\n",
      "Count of word in michelle_obama_speech.txt is 1897.\n",
      "Count of line in donald_speech.txt is 48.\n",
      "Count of word in donald_speech.txt is 1104.\n",
      "Count of line in melina_trump_speech.txt is 33.\n",
      "Count of word in melina_trump_speech.txt is 1177.\n"
     ]
    }
   ],
   "source": [
    "def count_lines_and_words(file_path):\n",
    "    count_line=0\n",
    "    word_count=0\n",
    "    with open(file_path,\"r\") as f:\n",
    "        for line in f:\n",
    "            count_line+=1\n",
    "            words=line.split()\n",
    "            for word in words:\n",
    "                if word.isalpha():\n",
    "                    word = word.lower()\n",
    "                    word_count += 1\n",
    "\n",
    "    print(f\"Count of line in {file_path} is {count_line}.\")\n",
    "    print(f\"Count of word in {file_path} is {word_count}.\")\n",
    "            \n",
    "count_lines_and_words(\"obama_speech.txt\")\n",
    "count_lines_and_words(\"michelle_obama_speech.txt\")\n",
    "count_lines_and_words(\"donald_speech.txt\")\n",
    "count_lines_and_words(\"melina_trump_speech.txt\")"
   ]
  },
  {
   "cell_type": "markdown",
   "id": "a1b9b779",
   "metadata": {},
   "source": [
    "#### 6.Find the most common words in the English language. Call the name of your function find_most_common_words, it will take two parameters - a string or a file and a positive integer, indicating the number of words. Your function will return an array of tuples in descending order. Check the output\n"
   ]
  },
  {
   "cell_type": "code",
   "execution_count": 101,
   "id": "9d144ebc",
   "metadata": {},
   "outputs": [
    {
     "name": "stdout",
     "output_type": "stream",
     "text": [
      "the ---> 120\n",
      "and ---> 107\n",
      "of ---> 81\n",
      "to ---> 66\n",
      "our ---> 58\n",
      "we ---> 50\n",
      "a ---> 48\n",
      "that ---> 47\n",
      "is ---> 36\n",
      "- ---> 23\n",
      "in ---> 22\n",
      "are ---> 22\n"
     ]
    }
   ],
   "source": [
    "from operator import itemgetter\n",
    "def find_most_common_words(file_path,n):\n",
    "    dict={}\n",
    "    with open(file_path,\"r\") as f:\n",
    "        for lines in f:\n",
    "            line=lines.split()\n",
    "            for words in line:\n",
    "                if words in dict:\n",
    "                    dict[words]+=1\n",
    "                else:\n",
    "                    dict[words]=1\n",
    "                    \n",
    "    sorted_words = sorted(dict.items(), key=itemgetter(1), reverse=True)\n",
    "#     print(sorted_words)\n",
    "    for key,value in sorted_words:\n",
    "        if value>=n:\n",
    "            print(key,\"--->\",value)\n",
    "                    \n",
    "                    \n",
    "find_most_common_words(\"obama_speech.txt\",20)"
   ]
  },
  {
   "cell_type": "markdown",
   "id": "5af91bea",
   "metadata": {},
   "source": [
    "#### 7.Write a program that computes the net amount of a bank account based a transaction log from console input. The transaction log format is shown as following: D 100 W 200 D means deposit while W means withdrawal. Suppose the following input is supplied to the program: D 300 D 300 W 200 D 100 Then, the output should be: 500\n"
   ]
  },
  {
   "cell_type": "code",
   "execution_count": 125,
   "id": "55c14961",
   "metadata": {},
   "outputs": [
    {
     "name": "stdout",
     "output_type": "stream",
     "text": [
      "Enter Your Bnak Acc. Statement:  D 300 D 300 W 200 D 100\n",
      "['D', '300', 'D', '300', 'W', '200', 'D', '100']\n",
      "500\n"
     ]
    }
   ],
   "source": [
    "str1=input(\"Enter Your Bnak Acc. Statement: \")\n",
    "new_str=str1.split()\n",
    "print(new_str)\n",
    "total_amt=0\n",
    "for i in range(0,len(new_str)-1,2):\n",
    "    if(new_str[i]=='D'):\n",
    "        total_amt+=int(new_str[i+1])\n",
    "    else:\n",
    "        total_amt-=int(new_str[i+1])\n",
    "        \n",
    "print(total_amt)"
   ]
  },
  {
   "cell_type": "markdown",
   "id": "08c7eee9",
   "metadata": {},
   "source": [
    "#### 8.Assuming that we have some email addresses in the \"username@companyname.com\" format, please write program to print the company name of a given email address. Both user names and company names are composed of letters only.\n",
    "\n",
    "Example: If the following email address is given as input to the program:\n",
    "\n",
    "john@google.com\n",
    "\n",
    "Then, the output of the program should be:\n",
    "\n",
    "google\n",
    "\n",
    "In case of input data being supplied to the question, it should be assumed to be a console input."
   ]
  },
  {
   "cell_type": "code",
   "execution_count": 135,
   "id": "6cca6aac",
   "metadata": {},
   "outputs": [
    {
     "name": "stdout",
     "output_type": "stream",
     "text": [
      "Enter the Email address: kushagra.singh@avisoft.io\n",
      "['kushagra.singh', 'avisoft.io']\n",
      "avisoft\n"
     ]
    }
   ],
   "source": [
    "def company_name(email):\n",
    "    output = \"\"\n",
    "    new_email = email.split('@')\n",
    "    print(new_email)\n",
    "    if len(new_email) > 1:\n",
    "        output = new_email[1].split('.')[0]\n",
    "    return output\n",
    "\n",
    "email = input(\"Enter the Email address: \")\n",
    "print(company_name(email))\n",
    "\n",
    "\n",
    "\n",
    "# with open(\"email_exchanges_big.txt\", \"r\") as f:\n",
    "#     for line in f:\n",
    "#         if line.startswith(\"From \"):\n",
    "#             parts = line.split()\n",
    "#             email_address = parts[1]\n",
    "#             company_name = email_address.split(\"@\")[1].split(\".\")[0]\n",
    "#             print(company_name)\n"
   ]
  }
 ],
 "metadata": {
  "kernelspec": {
   "display_name": "Python 3 (ipykernel)",
   "language": "python",
   "name": "python3"
  },
  "language_info": {
   "codemirror_mode": {
    "name": "ipython",
    "version": 3
   },
   "file_extension": ".py",
   "mimetype": "text/x-python",
   "name": "python",
   "nbconvert_exporter": "python",
   "pygments_lexer": "ipython3",
   "version": "3.11.5"
  }
 },
 "nbformat": 4,
 "nbformat_minor": 5
}
