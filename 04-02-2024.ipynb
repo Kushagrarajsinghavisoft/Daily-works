{
 "cells": [
  {
   "cell_type": "code",
   "execution_count": null,
   "id": "8db6d560",
   "metadata": {},
   "outputs": [],
   "source": [
    "class Dog:\n",
    "    def __init__(self,name,age):\n",
    "        self.name=name\n",
    "        self.age=age\n",
    "        \n",
    "    def talk(self):\n",
    "        print(f\"Hello! I am {self.name}, and my age is {self.age}\")\n",
    "        \n",
    "    def speak(self):\n",
    "        print(\"Bark!\")\n",
    "        \n",
    "class Cat(Dog):\n",
    "    def __init__(self,name,age,)"
   ]
  }
 ],
 "metadata": {
  "kernelspec": {
   "display_name": "Python 3 (ipykernel)",
   "language": "python",
   "name": "python3"
  },
  "language_info": {
   "codemirror_mode": {
    "name": "ipython",
    "version": 3
   },
   "file_extension": ".py",
   "mimetype": "text/x-python",
   "name": "python",
   "nbconvert_exporter": "python",
   "pygments_lexer": "ipython3",
   "version": "3.11.5"
  }
 },
 "nbformat": 4,
 "nbformat_minor": 5
}
