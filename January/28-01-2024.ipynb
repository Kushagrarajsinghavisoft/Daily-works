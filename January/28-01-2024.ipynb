{
 "cells": [
  {
   "cell_type": "code",
   "execution_count": 3,
   "id": "694ffcd1",
   "metadata": {},
   "outputs": [
    {
     "name": "stdout",
     "output_type": "stream",
     "text": [
      "Kushagra Raj Singh\n",
      "KushagraRajSingh\n"
     ]
    }
   ],
   "source": [
    "x=\"Kushagra\"\n",
    "y=\"Raj\"\n",
    "z=\"Singh\"\n",
    "print(x,y,z)\n",
    "print(x + y + z)"
   ]
  },
  {
   "cell_type": "code",
   "execution_count": 7,
   "id": "2e6251a5",
   "metadata": {},
   "outputs": [
    {
     "name": "stdout",
     "output_type": "stream",
     "text": [
      "18 3 2002\n",
      "2023\n"
     ]
    }
   ],
   "source": [
    "x=18\n",
    "y=3\n",
    "z=2002\n",
    "print(x,y,z)\n",
    "print(x + y + z)"
   ]
  },
  {
   "cell_type": "code",
   "execution_count": 14,
   "id": "6c6d9498",
   "metadata": {},
   "outputs": [
    {
     "name": "stdout",
     "output_type": "stream",
     "text": [
      "5 Kushagra\n"
     ]
    },
    {
     "ename": "TypeError",
     "evalue": "unsupported operand type(s) for +: 'int' and 'str'",
     "output_type": "error",
     "traceback": [
      "\u001b[1;31m---------------------------------------------------------------------------\u001b[0m",
      "\u001b[1;31mTypeError\u001b[0m                                 Traceback (most recent call last)",
      "Cell \u001b[1;32mIn[14], line 4\u001b[0m\n\u001b[0;32m      2\u001b[0m y \u001b[38;5;241m=\u001b[39m \u001b[38;5;124m\"\u001b[39m\u001b[38;5;124mKushagra\u001b[39m\u001b[38;5;124m\"\u001b[39m\n\u001b[0;32m      3\u001b[0m \u001b[38;5;28mprint\u001b[39m(x, y)    \u001b[38;5;66;03m#5 Kushagra\u001b[39;00m\n\u001b[1;32m----> 4\u001b[0m \u001b[38;5;28mprint\u001b[39m(x \u001b[38;5;241m+\u001b[39m y)\n",
      "\u001b[1;31mTypeError\u001b[0m: unsupported operand type(s) for +: 'int' and 'str'"
     ]
    }
   ],
   "source": [
    "x = 5\n",
    "y = \"Kushagra\"\n",
    "print(x, y)    #5 Kushagra\n",
    "print(x + y)  #unsupported operand type(s) for +: 'int' and 'str'\n"
   ]
  },
  {
   "cell_type": "markdown",
   "id": "94825016",
   "metadata": {},
   "source": [
    "# Global Variable"
   ]
  },
  {
   "cell_type": "code",
   "execution_count": 22,
   "id": "ad904dc8",
   "metadata": {},
   "outputs": [
    {
     "name": "stdout",
     "output_type": "stream",
     "text": [
      "Harsh\n",
      "Kushagra\n"
     ]
    }
   ],
   "source": [
    "x=\"Kushagra\"\n",
    "\n",
    "def printint():\n",
    "    x=\"Harsh\"\n",
    "    print(x)\n",
    "    \n",
    "printint()\n",
    "print(x)"
   ]
  },
  {
   "cell_type": "code",
   "execution_count": null,
   "id": "fbc3d58d",
   "metadata": {},
   "outputs": [],
   "source": [
    "x=\"Kushagra\"\n",
    "\n",
    "def printint():\n",
    "    global x\n",
    "    x=\"Harsh\"\n",
    "    print(x)\n",
    "    \n",
    "printint()\n",
    "print(x)"
   ]
  },
  {
   "cell_type": "code",
   "execution_count": 31,
   "id": "65f0b709",
   "metadata": {},
   "outputs": [
    {
     "name": "stdout",
     "output_type": "stream",
     "text": [
      "20\n",
      "<class 'int'>\n",
      "220\n",
      "<class 'str'>\n"
     ]
    }
   ],
   "source": [
    "x = int(20)\n",
    "print(x)\n",
    "print(type(x))\n",
    "\n",
    "x = str(220)\n",
    "print(x)\n",
    "print(type(x))"
   ]
  },
  {
   "cell_type": "markdown",
   "id": "37fd3411",
   "metadata": {},
   "source": [
    "# String"
   ]
  },
  {
   "cell_type": "markdown",
   "id": "010a3792",
   "metadata": {},
   "source": [
    "#### Multiline string\n",
    "\n",
    "a = \"\"\"lmzk ndcjkdj sdnchjdbv\n",
    "sdc jnsdbhs dsm bshjvb dshbhjsbh\n",
    "nbcjsbdhvs mnkjdvbkjcsd.\"\"\"\n",
    "print(a)"
   ]
  },
  {
   "cell_type": "markdown",
   "id": "281aa13b",
   "metadata": {},
   "source": [
    "#### Use of in\n",
    "str1=\"I am a person who loves to listen songs\"\n",
    "print(\"am\" in str1)\n",
    "\n",
    "if \"who\" in str1:\n",
    "    print(\"Yes it is present\")\n",
    "else:\n",
    "    print(\"Not present\")"
   ]
  },
  {
   "cell_type": "code",
   "execution_count": 76,
   "id": "04dbb756",
   "metadata": {},
   "outputs": [
    {
     "name": "stdout",
     "output_type": "stream",
     "text": [
      "True\n",
      "Yes, it is not present\n"
     ]
    }
   ],
   "source": [
    "#### Use of not in\n",
    "str1=\"I am a person who loves to listen songs\"\n",
    "print(\"am\" in str1)\n",
    "\n",
    "if \"whi\" not in str1:\n",
    "    print(\"Yes, it is not present\")\n",
    "else:\n",
    "    print(\"It is present\")"
   ]
  },
  {
   "cell_type": "code",
   "execution_count": 72,
   "id": "49d11cbe",
   "metadata": {},
   "outputs": [
    {
     "name": "stdout",
     "output_type": "stream",
     "text": [
      "sar a\n",
      "shagra Raj Si\n",
      "Kushagra Ra\n"
     ]
    }
   ],
   "source": [
    "#### Slicing String\n",
    "\n",
    "s=\"Kushagra Raj Singh\"\n",
    "print(s[2:11:2])\n",
    "print(s[2:15:])\n",
    "print(s[:11:])"
   ]
  },
  {
   "cell_type": "code",
   "execution_count": 73,
   "id": "8ead5f7c",
   "metadata": {},
   "outputs": [
    {
     "name": "stdout",
     "output_type": "stream",
     "text": [
      "KUSHAGRA RAJ SINGH\n"
     ]
    }
   ],
   "source": [
    "# upper()  and   lower()  function\n",
    "s=\"Kushagra Raj Singh\"\n",
    "print(s.upper())"
   ]
  },
  {
   "cell_type": "code",
   "execution_count": 75,
   "id": "1f400546",
   "metadata": {},
   "outputs": [
    {
     "name": "stdout",
     "output_type": "stream",
     "text": [
      "Kushagra Raj Singh\n"
     ]
    }
   ],
   "source": [
    "#### Function to remove any whitespace from beginning and end\n",
    "\n",
    "s=\"  Kushagra Raj Singh  \"\n",
    "print(s.strip())"
   ]
  },
  {
   "cell_type": "code",
   "execution_count": 79,
   "id": "02e27780",
   "metadata": {},
   "outputs": [
    {
     "name": "stdout",
     "output_type": "stream",
     "text": [
      "Kushagra Raj Rajput\n"
     ]
    }
   ],
   "source": [
    "# The replace() method replaces a string with another string:\n",
    "\n",
    "s=\"Kushagra Raj Singh\"\n",
    "print(s.replace(\"Singh\",\"Rajput\"))"
   ]
  },
  {
   "cell_type": "code",
   "execution_count": 88,
   "id": "5a2a52b3",
   "metadata": {},
   "outputs": [
    {
     "name": "stdout",
     "output_type": "stream",
     "text": [
      "['Kushagra', 'Raj', 'Singh']\n"
     ]
    }
   ],
   "source": [
    "# The split() method splits the string into substrings if it finds instances of the separator:\n",
    "\n",
    "a = \"Kushagra Raj Singh\"\n",
    "print(a.split(\" \")) # returns ['Hello', ' World!']"
   ]
  },
  {
   "cell_type": "code",
   "execution_count": 89,
   "id": "9be7c05c",
   "metadata": {},
   "outputs": [
    {
     "name": "stdout",
     "output_type": "stream",
     "text": [
      "My name is Kushagra Raj Singh, age 21, and i live in Jaunpur.\n"
     ]
    }
   ],
   "source": [
    "name=\"Kushagra Raj Singh\"\n",
    "age=21\n",
    "city=\"Jaunpur\"\n",
    "\n",
    "statement=\"My name is {}, age {}, and i live in {}.\"\n",
    "print(statement.format(name,age,city))"
   ]
  },
  {
   "cell_type": "markdown",
   "id": "87747c97",
   "metadata": {},
   "source": [
    "### List"
   ]
  },
  {
   "cell_type": "code",
   "execution_count": 91,
   "id": "c82adae7",
   "metadata": {},
   "outputs": [
    {
     "name": "stdout",
     "output_type": "stream",
     "text": [
      "Yes, it is present\n"
     ]
    }
   ],
   "source": [
    "list1=[\"Aryan\", \"Harsh\", \"Himanshu\", \"Adarsh\", \"Mayank\"]\n",
    "if \"Adarsh\" in list1:\n",
    "    print(\"Yes, it is present\")\n",
    "else:\n",
    "    print(\"Not Present\")"
   ]
  },
  {
   "cell_type": "code",
   "execution_count": 93,
   "id": "465816ed",
   "metadata": {},
   "outputs": [
    {
     "name": "stdout",
     "output_type": "stream",
     "text": [
      "['Abhinav', 'Kushagra', 'Himanshu', 'Adarsh', 'Mayank']\n"
     ]
    }
   ],
   "source": [
    "list1=[\"Aryan\", \"Harsh\", \"Himanshu\", \"Adarsh\", \"Mayank\"]\n",
    "list1[0:2]=[\"Abhinav\", \"Kushagra\"]\n",
    "print(list1)"
   ]
  },
  {
   "cell_type": "code",
   "execution_count": 95,
   "id": "7ba8dfb0",
   "metadata": {},
   "outputs": [
    {
     "name": "stdout",
     "output_type": "stream",
     "text": [
      "['Aryan', 'Harsh', 'Himanshu', 'Adarsh', 'Mayank', 'Abhay']\n"
     ]
    }
   ],
   "source": [
    "list1=[\"Aryan\", \"Harsh\", \"Himanshu\", \"Adarsh\", \"Mayank\"]\n",
    "list1.append(\"Abhay\")\n",
    "print(list1)"
   ]
  },
  {
   "cell_type": "code",
   "execution_count": 96,
   "id": "3ca2df74",
   "metadata": {},
   "outputs": [
    {
     "name": "stdout",
     "output_type": "stream",
     "text": [
      "['Aryan', 'Harsh', 'Abhay', 'Himanshu', 'Adarsh', 'Mayank']\n"
     ]
    }
   ],
   "source": [
    "list1=[\"Aryan\", \"Harsh\", \"Himanshu\", \"Adarsh\", \"Mayank\"]\n",
    "list1.insert(2,\"Abhay\")\n",
    "print(list1)"
   ]
  },
  {
   "cell_type": "code",
   "execution_count": 98,
   "id": "c8980c4b",
   "metadata": {},
   "outputs": [
    {
     "name": "stdout",
     "output_type": "stream",
     "text": [
      "['Aryan', 'Harsh', 'Himanshu', 'Adarsh', 'Mayank', 'Singh', 'Raj Singh', 'Rajput', 'Pandey', 'Tripathi']\n"
     ]
    }
   ],
   "source": [
    "list1=[\"Aryan\", \"Harsh\", \"Himanshu\", \"Adarsh\", \"Mayank\"]\n",
    "surname=[\"Singh\", \"Raj Singh\", \"Rajput\", \"Pandey\",\"Tripathi\"]\n",
    "list1.extend(surname)\n",
    "print(list1)"
   ]
  },
  {
   "cell_type": "code",
   "execution_count": 99,
   "id": "cd370859",
   "metadata": {},
   "outputs": [
    {
     "name": "stdout",
     "output_type": "stream",
     "text": [
      "['Harsh', 'Himanshu', 'Adarsh', 'Mayank']\n"
     ]
    }
   ],
   "source": [
    "list1=[\"Aryan\", \"Harsh\", \"Himanshu\", \"Adarsh\", \"Mayank\"]\n",
    "list1.remove(\"Aryan\")\n",
    "print(list1)"
   ]
  },
  {
   "cell_type": "code",
   "execution_count": 100,
   "id": "07a29547",
   "metadata": {},
   "outputs": [
    {
     "name": "stdout",
     "output_type": "stream",
     "text": [
      "['Aryan', 'Harsh', 'Himanshu', 'Adarsh']\n"
     ]
    }
   ],
   "source": [
    "list1=[\"Aryan\", \"Harsh\", \"Himanshu\", \"Adarsh\", \"Mayank\"]\n",
    "list1.pop()\n",
    "print(list1)"
   ]
  },
  {
   "cell_type": "code",
   "execution_count": 102,
   "id": "8bbe2102",
   "metadata": {},
   "outputs": [
    {
     "name": "stdout",
     "output_type": "stream",
     "text": [
      "[]\n"
     ]
    }
   ],
   "source": [
    "list1=[\"Aryan\", \"Harsh\", \"Himanshu\", \"Adarsh\", \"Mayank\"]\n",
    "list1.clear()\n",
    "print(list1)"
   ]
  },
  {
   "cell_type": "markdown",
   "id": "14a8927d",
   "metadata": {},
   "source": [
    "#### List Comprehension"
   ]
  },
  {
   "cell_type": "code",
   "execution_count": 108,
   "id": "d0b271ac",
   "metadata": {},
   "outputs": [
    {
     "name": "stdout",
     "output_type": "stream",
     "text": [
      "['Aryan', 'Mayank']\n"
     ]
    }
   ],
   "source": [
    "list1=[\"Aryan\", \"Harsh\", \"Himanshu\", \"Adarsh\", \"Mayank\"]\n",
    "new_list=[x for x in list1 if \"h\" not in x]\n",
    "print(new_list)"
   ]
  },
  {
   "cell_type": "code",
   "execution_count": 111,
   "id": "c1e1c38b",
   "metadata": {},
   "outputs": [
    {
     "name": "stdout",
     "output_type": "stream",
     "text": [
      "['Adarsh', 'Aryan', 'Harsh', 'Himanshu', 'Mayank']\n",
      "['Mayank', 'Himanshu', 'Harsh', 'Aryan', 'Adarsh']\n"
     ]
    }
   ],
   "source": [
    "list1=[\"Aryan\", \"Harsh\", \"Himanshu\", \"Adarsh\", \"Mayank\"]\n",
    "list1.sort()\n",
    "print(list1)\n",
    "\n",
    "list1.sort(reverse=True)\n",
    "print(list1)"
   ]
  },
  {
   "cell_type": "markdown",
   "id": "608bc10f",
   "metadata": {},
   "source": [
    "## Set"
   ]
  },
  {
   "cell_type": "markdown",
   "id": "5dc9102e",
   "metadata": {},
   "source": [
    "#### Difference btw remove and discard"
   ]
  },
  {
   "cell_type": "code",
   "execution_count": 115,
   "id": "fca9936c",
   "metadata": {},
   "outputs": [
    {
     "name": "stdout",
     "output_type": "stream",
     "text": [
      "{'Grapes', 'Banana', 'Apple', 'Kiwi', 'Orange'}\n"
     ]
    }
   ],
   "source": [
    "set1={\"Apple\", \"Banana\", \"Kiwi\", \"Orange\", \"Grapes\"}\n",
    "# set1.remove(\"Pineapple\")\n",
    "\n",
    "set1.discard(\"Pineapple\")\n",
    "print(set1)"
   ]
  },
  {
   "cell_type": "code",
   "execution_count": 116,
   "id": "2f8a8f44",
   "metadata": {},
   "outputs": [
    {
     "name": "stdout",
     "output_type": "stream",
     "text": [
      "{'c', 1, 2, 3, 'a', 'b'}\n"
     ]
    }
   ],
   "source": [
    "#makes a new set\n",
    "set1 = {\"a\", \"b\" , \"c\"}\n",
    "set2 = {1, 2, 3}\n",
    "\n",
    "set3 = set1.union(set2)\n",
    "print(set3)"
   ]
  },
  {
   "cell_type": "code",
   "execution_count": 117,
   "id": "954ebc48",
   "metadata": {},
   "outputs": [
    {
     "name": "stdout",
     "output_type": "stream",
     "text": [
      "{'c', 1, 2, 3, 'a', 'b'}\n"
     ]
    }
   ],
   "source": [
    "#Updates the current set\n",
    "set1 = {\"a\", \"b\" , \"c\"}\n",
    "set2 = {1, 2, 3}\n",
    "\n",
    "set1.update(set2)\n",
    "print(set1)"
   ]
  },
  {
   "cell_type": "markdown",
   "id": "7b490524",
   "metadata": {},
   "source": [
    "# Dictionary"
   ]
  },
  {
   "cell_type": "code",
   "execution_count": 128,
   "id": "2fb8520c",
   "metadata": {},
   "outputs": [
    {
     "name": "stdout",
     "output_type": "stream",
     "text": [
      "dict_keys(['player1', 'player2', 'player3', 'player4', 'player5', 'player6', 'player7', 'player8'])\n",
      "\n",
      "dict_values(['Harsh', 'Abhay', 'Aryan', 'Rahul', 'Honey', 'Himanshu', 'Mayank', 'Ravi'])\n",
      "\n",
      "{'player1': 'Harsh', 'player2': 'Abhay', 'player3': 'Aryan', 'player4': 'Abhishek', 'player5': 'Honey', 'player6': 'Himanshu', 'player7': 'Mayank', 'player8': 'Ravi'}\n",
      "\n",
      "{'player1': 'Harsh', 'player2': 'Abhay', 'player3': 'Aryan', 'player4': 'Abhishek', 'player5': 'Honey', 'player6': 'Himanshu', 'player7': 'Mayank', 'player8': 'Ravi', 'player9': 'Sahil'}\n",
      "\n"
     ]
    }
   ],
   "source": [
    "my_team={\n",
    "        \"player1\":\"Harsh\",\n",
    "        \"player2\":\"Abhay\",\n",
    "        \"player3\":\"Aryan\",\n",
    "        \"player4\":\"Rahul\",\n",
    "        \"player5\":\"Honey\",\n",
    "        \"player6\":\"Himanshu\",\n",
    "        \"player7\":\"Mayank\",\n",
    "        \"player8\":\"Ravi\"\n",
    "        }\n",
    "print(my_team.keys())\n",
    "print()\n",
    "print(my_team.values())\n",
    "print()\n",
    "my_team.update({\"player4\":\"Abhishek\"})\n",
    "print(my_team)\n",
    "print()\n",
    "my_team.update({\"player9\":\"Sahil\"})\n",
    "print(my_team)\n",
    "print()"
   ]
  }
 ],
 "metadata": {
  "kernelspec": {
   "display_name": "Python 3 (ipykernel)",
   "language": "python",
   "name": "python3"
  },
  "language_info": {
   "codemirror_mode": {
    "name": "ipython",
    "version": 3
   },
   "file_extension": ".py",
   "mimetype": "text/x-python",
   "name": "python",
   "nbconvert_exporter": "python",
   "pygments_lexer": "ipython3",
   "version": "3.11.5"
  }
 },
 "nbformat": 4,
 "nbformat_minor": 5
}
