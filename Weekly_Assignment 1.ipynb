{
 "cells": [
  {
   "cell_type": "markdown",
   "id": "a6620764",
   "metadata": {},
   "source": [
    "# write a program to analyse student records\n",
    "\n",
    "1. Take user input for students details and their marks\n",
    "2. now analyse marks on the basis of certain thresholds that is minimum/maximum threshold \n",
    "3. find the 1st 5 topper of the batch. the first topper should be rewarded separately \n",
    "4. segregate students after calculating the avg marks in three categories (i) above maximum threshold (ii) between maximum and minimum threshold (iii) below minimum threshold \n",
    "5. the students below minimum threshold would require personal attention so now make a separate list, those who required personal attention.\n",
    "6. there is also failing criteria for each subjects if any students fails in any of the subjects put them in to personal attention list\n",
    "\n",
    "example:\n",
    "Rohan has 10 out of 100 in java but have a good avg lets say 75/100 he should still be placed in personal attention list\n",
    "\n",
    "7. Providing options for the user to choose which analysis to perform.\n",
    "8. Handling edge cases, such as invalid inputs"
   ]
  },
  {
   "cell_type": "code",
   "execution_count": 3,
   "id": "8ef2dc8b",
   "metadata": {},
   "outputs": [
    {
     "name": "stdout",
     "output_type": "stream",
     "text": [
      "Enter the number of records: 1\n",
      "Enter name of student kkjhh\n",
      "Enter roll number of student: 1212\n",
      "Enter address of student: lkjhg\n",
      "kkjhh 1212 lkjhg\n"
     ]
    }
   ],
   "source": [
    "class Student:\n",
    "    def __init__(self,name,rollno,address):\n",
    "        self.name=name\n",
    "        self.rollno=rollno\n",
    "        self.address=address\n",
    "        \n",
    "    def display(self,list_of_Students):\n",
    "        for i in range(len(list_of_Students)):\n",
    "            print(list_of_Students[i].name, list_of_Students[i].rollno, list_of_Students[i].address)\n",
    "        \n",
    "\n",
    "n=int(input(\"Enter the number of records: \"))\n",
    "list_of_Students=[]\n",
    "for i in range(1,n+1):\n",
    "    s=Student(input(\"Enter name of student \"),int(input(\"Enter roll number of student: \")),input((\"Enter address of student: \")))\n",
    "    list_of_Students.append(s)\n",
    "    \n",
    "# student_instance = Student(\"\", 0, \"\")  # You can use default values or values from the first student\n",
    "student_instance.display(list_of_Students)   "
   ]
  },
  {
   "cell_type": "code",
   "execution_count": null,
   "id": "ac86ebe8",
   "metadata": {},
   "outputs": [],
   "source": []
  }
 ],
 "metadata": {
  "kernelspec": {
   "display_name": "Python 3 (ipykernel)",
   "language": "python",
   "name": "python3"
  },
  "language_info": {
   "codemirror_mode": {
    "name": "ipython",
    "version": 3
   },
   "file_extension": ".py",
   "mimetype": "text/x-python",
   "name": "python",
   "nbconvert_exporter": "python",
   "pygments_lexer": "ipython3",
   "version": "3.11.5"
  }
 },
 "nbformat": 4,
 "nbformat_minor": 5
}
